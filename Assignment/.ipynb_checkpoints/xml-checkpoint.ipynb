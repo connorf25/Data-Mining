{
 "cells": [
  {
   "cell_type": "code",
   "execution_count": 4,
   "metadata": {
    "id": "Kcl0YURr1yHO"
   },
   "outputs": [],
   "source": [
    "import pandas as pd\n",
    "\n",
    "import matplotlib.pyplot as plt\n",
    "\n",
    "import numpy as np\n",
    "\n",
    "import tensorflow as tf\n",
    "from tensorflow import keras\n",
    "from tensorflow.keras import layers"
   ]
  },
  {
   "cell_type": "code",
   "execution_count": 34,
   "metadata": {},
   "outputs": [],
   "source": [
    "# Format xml data\n",
    "from xml.dom import minidom\n",
    "import pandas as pd\n",
    "\n",
    "abstracts = []\n",
    "tags = []\n",
    "\n",
    "xmldoc = minidom.parse('IncludeSearchSR.xml')\n",
    "itemlist = xmldoc.getElementsByTagName('abstract')\n",
    "for node in xmldoc.getElementsByTagName('abstract'):\n",
    "    abstract = node.getElementsByTagName('style')[0].firstChild.nodeValue\n",
    "    abstracts.append(abstract)\n",
    "    tags.append(1)\n",
    "    \n",
    "xmldoc = minidom.parse('ExcludeSearchSR.xml')\n",
    "itemlist = xmldoc.getElementsByTagName('abstract')\n",
    "for node in xmldoc.getElementsByTagName('abstract'):\n",
    "    abstract = node.getElementsByTagName('style')[0].firstChild.nodeValue\n",
    "    abstracts.append(abstract)\n",
    "    tags.append(0)"
   ]
  },
  {
   "cell_type": "code",
   "execution_count": 35,
   "metadata": {},
   "outputs": [],
   "source": [
    "df['code'] = tags"
   ]
  },
  {
   "cell_type": "code",
   "execution_count": 39,
   "metadata": {},
   "outputs": [
    {
     "data": {
      "text/html": [
       "<div>\n",
       "<style scoped>\n",
       "    .dataframe tbody tr th:only-of-type {\n",
       "        vertical-align: middle;\n",
       "    }\n",
       "\n",
       "    .dataframe tbody tr th {\n",
       "        vertical-align: top;\n",
       "    }\n",
       "\n",
       "    .dataframe thead th {\n",
       "        text-align: right;\n",
       "    }\n",
       "</style>\n",
       "<table border=\"1\" class=\"dataframe\">\n",
       "  <thead>\n",
       "    <tr style=\"text-align: right;\">\n",
       "      <th></th>\n",
       "      <th>code</th>\n",
       "      <th>abstract</th>\n",
       "    </tr>\n",
       "  </thead>\n",
       "  <tbody>\n",
       "    <tr>\n",
       "      <th>0</th>\n",
       "      <td>1</td>\n",
       "      <td>Objective To evaluate the impact of searching ...</td>\n",
       "    </tr>\n",
       "    <tr>\n",
       "      <th>1</th>\n",
       "      <td>1</td>\n",
       "      <td>BACKGROUND: Recent research indicates a high r...</td>\n",
       "    </tr>\n",
       "    <tr>\n",
       "      <th>2</th>\n",
       "      <td>1</td>\n",
       "      <td>BACKGROUND: Previously, we reported on the low...</td>\n",
       "    </tr>\n",
       "    <tr>\n",
       "      <th>3</th>\n",
       "      <td>1</td>\n",
       "      <td>BACKGROUND: The usefulness of Google Scholar (...</td>\n",
       "    </tr>\n",
       "    <tr>\n",
       "      <th>4</th>\n",
       "      <td>1</td>\n",
       "      <td>BACKGROUND: Search strategies for systematic r...</td>\n",
       "    </tr>\n",
       "    <tr>\n",
       "      <th>5</th>\n",
       "      <td>1</td>\n",
       "      <td>INTRODUCTION AND AIM: NICE guideline surveilla...</td>\n",
       "    </tr>\n",
       "    <tr>\n",
       "      <th>6</th>\n",
       "      <td>1</td>\n",
       "      <td>BACKGROUND: Snowballing involves recursively p...</td>\n",
       "    </tr>\n",
       "    <tr>\n",
       "      <th>7</th>\n",
       "      <td>1</td>\n",
       "      <td>BACKGROUND: Searching for studies to include i...</td>\n",
       "    </tr>\n",
       "    <tr>\n",
       "      <th>8</th>\n",
       "      <td>1</td>\n",
       "      <td>BACKGROUND: An unbiased systematic review (SR)...</td>\n",
       "    </tr>\n",
       "    <tr>\n",
       "      <th>9</th>\n",
       "      <td>1</td>\n",
       "      <td>BACKGROUND: Systematic reviewers seek to compr...</td>\n",
       "    </tr>\n",
       "    <tr>\n",
       "      <th>10</th>\n",
       "      <td>1</td>\n",
       "      <td>BACKGROUND AND OBJECTIVES: Assess the efficacy...</td>\n",
       "    </tr>\n",
       "    <tr>\n",
       "      <th>11</th>\n",
       "      <td>1</td>\n",
       "      <td>OBJECTIVE: The research investigated whether c...</td>\n",
       "    </tr>\n",
       "    <tr>\n",
       "      <th>12</th>\n",
       "      <td>1</td>\n",
       "      <td>OBJECTIVES: The objective of this study was to...</td>\n",
       "    </tr>\n",
       "    <tr>\n",
       "      <th>13</th>\n",
       "      <td>1</td>\n",
       "      <td>PRIMARY OBJECTIVE: To avoid selection and publ...</td>\n",
       "    </tr>\n",
       "    <tr>\n",
       "      <th>14</th>\n",
       "      <td>1</td>\n",
       "      <td>BACKGROUND: Google Scholar linked more visitor...</td>\n",
       "    </tr>\n",
       "    <tr>\n",
       "      <th>15</th>\n",
       "      <td>1</td>\n",
       "      <td>OBJECTIVE: We compared the performance of McMa...</td>\n",
       "    </tr>\n",
       "    <tr>\n",
       "      <th>16</th>\n",
       "      <td>1</td>\n",
       "      <td>BACKGROUND: We recently developed CoCites, a c...</td>\n",
       "    </tr>\n",
       "    <tr>\n",
       "      <th>17</th>\n",
       "      <td>1</td>\n",
       "      <td>OBJECTIVE: The objective of the study was to t...</td>\n",
       "    </tr>\n",
       "    <tr>\n",
       "      <th>18</th>\n",
       "      <td>1</td>\n",
       "      <td>BACKGROUND: A high-quality electronic search i...</td>\n",
       "    </tr>\n",
       "    <tr>\n",
       "      <th>19</th>\n",
       "      <td>1</td>\n",
       "      <td>BACKGROUND: A high-quality electronic search i...</td>\n",
       "    </tr>\n",
       "    <tr>\n",
       "      <th>20</th>\n",
       "      <td>1</td>\n",
       "      <td>BACKGROUND: It is unclear which terms should b...</td>\n",
       "    </tr>\n",
       "    <tr>\n",
       "      <th>21</th>\n",
       "      <td>1</td>\n",
       "      <td>WHAT IS KNOWN AND OBJECTIVE: Exhaustive litera...</td>\n",
       "    </tr>\n",
       "    <tr>\n",
       "      <th>22</th>\n",
       "      <td>1</td>\n",
       "      <td>OBJECTIVE: The aim of this study was to compar...</td>\n",
       "    </tr>\n",
       "    <tr>\n",
       "      <th>23</th>\n",
       "      <td>1</td>\n",
       "      <td>Clinical paper searching is a major task for c...</td>\n",
       "    </tr>\n",
       "    <tr>\n",
       "      <th>24</th>\n",
       "      <td>1</td>\n",
       "      <td>BACKGROUND: The Cochrane Highly Sensitive Sear...</td>\n",
       "    </tr>\n",
       "    <tr>\n",
       "      <th>25</th>\n",
       "      <td>0</td>\n",
       "      <td>The article presents information on Arts &amp; Hum...</td>\n",
       "    </tr>\n",
       "    <tr>\n",
       "      <th>26</th>\n",
       "      <td>0</td>\n",
       "      <td>The article presents information about a speci...</td>\n",
       "    </tr>\n",
       "    <tr>\n",
       "      <th>27</th>\n",
       "      <td>0</td>\n",
       "      <td>This article presents an overview of the Inter...</td>\n",
       "    </tr>\n",
       "    <tr>\n",
       "      <th>28</th>\n",
       "      <td>0</td>\n",
       "      <td>(1) Acupuncture has been assessed in hundreds ...</td>\n",
       "    </tr>\n",
       "    <tr>\n",
       "      <th>29</th>\n",
       "      <td>0</td>\n",
       "      <td>This paper discusses the value of open and tra...</td>\n",
       "    </tr>\n",
       "  </tbody>\n",
       "</table>\n",
       "</div>"
      ],
      "text/plain": [
       "    code                                           abstract\n",
       "0      1  Objective To evaluate the impact of searching ...\n",
       "1      1  BACKGROUND: Recent research indicates a high r...\n",
       "2      1  BACKGROUND: Previously, we reported on the low...\n",
       "3      1  BACKGROUND: The usefulness of Google Scholar (...\n",
       "4      1  BACKGROUND: Search strategies for systematic r...\n",
       "5      1  INTRODUCTION AND AIM: NICE guideline surveilla...\n",
       "6      1  BACKGROUND: Snowballing involves recursively p...\n",
       "7      1  BACKGROUND: Searching for studies to include i...\n",
       "8      1  BACKGROUND: An unbiased systematic review (SR)...\n",
       "9      1  BACKGROUND: Systematic reviewers seek to compr...\n",
       "10     1  BACKGROUND AND OBJECTIVES: Assess the efficacy...\n",
       "11     1  OBJECTIVE: The research investigated whether c...\n",
       "12     1  OBJECTIVES: The objective of this study was to...\n",
       "13     1  PRIMARY OBJECTIVE: To avoid selection and publ...\n",
       "14     1  BACKGROUND: Google Scholar linked more visitor...\n",
       "15     1  OBJECTIVE: We compared the performance of McMa...\n",
       "16     1  BACKGROUND: We recently developed CoCites, a c...\n",
       "17     1  OBJECTIVE: The objective of the study was to t...\n",
       "18     1  BACKGROUND: A high-quality electronic search i...\n",
       "19     1  BACKGROUND: A high-quality electronic search i...\n",
       "20     1  BACKGROUND: It is unclear which terms should b...\n",
       "21     1  WHAT IS KNOWN AND OBJECTIVE: Exhaustive litera...\n",
       "22     1  OBJECTIVE: The aim of this study was to compar...\n",
       "23     1  Clinical paper searching is a major task for c...\n",
       "24     1  BACKGROUND: The Cochrane Highly Sensitive Sear...\n",
       "25     0  The article presents information on Arts & Hum...\n",
       "26     0  The article presents information about a speci...\n",
       "27     0  This article presents an overview of the Inter...\n",
       "28     0  (1) Acupuncture has been assessed in hundreds ...\n",
       "29     0  This paper discusses the value of open and tra..."
      ]
     },
     "execution_count": 39,
     "metadata": {},
     "output_type": "execute_result"
    }
   ],
   "source": [
    "df = pd.DataFrame(list(zip(tags, abstracts)), \n",
    "               columns =['code', 'abstract'])\n",
    "df.head()"
   ]
  },
  {
   "cell_type": "code",
   "execution_count": 7,
   "metadata": {},
   "outputs": [
    {
     "name": "stdout",
     "output_type": "stream",
     "text": [
      "Max length of string: 9132\n"
     ]
    }
   ],
   "source": [
    "print(\"Max length of string:\", df.abstract.map(len).max())"
   ]
  },
  {
   "cell_type": "code",
   "execution_count": null,
   "metadata": {},
   "outputs": [],
   "source": [
    "from transformers import BertModel, BertTokenizer\n",
    "import torch\n",
    "import numpy as np\n",
    "\n",
    "scibert_model = BertModel.from_pretrained(\"allenai/scibert_scivocab_uncased\",\n",
    "                                  output_hidden_states=True)\n",
    "scibert_tokenizer = BertTokenizer.from_pretrained(\"allenai/scibert_scivocab_uncased\")\n",
    "\n",
    "print('scibert_tokenizer is type:', type(scibert_tokenizer))\n",
    "print('    scibert_model is type:', type(scibert_model))"
   ]
  },
  {
   "cell_type": "code",
   "execution_count": 26,
   "metadata": {},
   "outputs": [],
   "source": [
    "def get_embedding(model, tokenizer, text):\n",
    "\n",
    "    # Encode with special tokens ([CLS] and [SEP], returning pytorch tensors\n",
    "    encoded_dict = tokenizer.encode_plus(\n",
    "                        text,\n",
    "                        truncation=True,\n",
    "                        max_length=512,\n",
    "                        add_special_tokens = True,\n",
    "                        return_tensors = 'pt'\n",
    "                )\n",
    "\n",
    "    input_ids = encoded_dict['input_ids']\n",
    "    \n",
    "    # Set model to evaluation mode\n",
    "    model.eval()\n",
    "    \n",
    "    # Run through BERT\n",
    "    with torch.no_grad():\n",
    "\n",
    "        outputs = model(input_ids)\n",
    "\n",
    "        # Extract hidden states\n",
    "        hidden_states = outputs[2]\n",
    "\n",
    "    # Select the embeddings\n",
    "    token_vecs = hidden_states[-2][0]\n",
    "\n",
    "    # Calculate average of token vectors\n",
    "    sentence_embedding = torch.mean(token_vecs, dim=0)\n",
    "\n",
    "    # Convert to np array\n",
    "    sentence_embedding = sentence_embedding.detach().numpy()\n",
    "\n",
    "    return sentence_embedding"
   ]
  },
  {
   "cell_type": "code",
   "execution_count": 29,
   "metadata": {},
   "outputs": [
    {
     "name": "stdout",
     "output_type": "stream",
     "text": [
      "1411 1411\n",
      "6.72\n",
      "1411\n"
     ]
    }
   ],
   "source": [
    "from IPython.display import clear_output\n",
    "import timeit\n",
    "\n",
    "embeddings = []\n",
    "length = len(df['abstract'].tolist())\n",
    "index = 0\n",
    "\n",
    "start = timeit.default_timer()\n",
    "for sentence in df['abstract'].tolist():\n",
    "    clear_output(wait=True)\n",
    "    index += 1\n",
    "    sen_emb = get_embedding(scibert_model, scibert_tokenizer, sentence)\n",
    "    embeddings.append(sen_emb)\n",
    "\n",
    "    stop = timeit.default_timer()\n",
    "\n",
    "    if (index/length*100) < 1:\n",
    "        expected_time = \"Calculating...\"\n",
    "\n",
    "    else:\n",
    "        time_perc = timeit.default_timer()\n",
    "        expected_time = np.round( (time_perc-start) /(index/length) /60,2)\n",
    "\n",
    "    print(index, length)\n",
    "    print(expected_time)\n",
    "\n",
    "print(len(embeddings))"
   ]
  },
  {
   "cell_type": "code",
   "execution_count": 41,
   "metadata": {},
   "outputs": [
    {
     "data": {
      "text/html": [
       "<div>\n",
       "<style scoped>\n",
       "    .dataframe tbody tr th:only-of-type {\n",
       "        vertical-align: middle;\n",
       "    }\n",
       "\n",
       "    .dataframe tbody tr th {\n",
       "        vertical-align: top;\n",
       "    }\n",
       "\n",
       "    .dataframe thead th {\n",
       "        text-align: right;\n",
       "    }\n",
       "</style>\n",
       "<table border=\"1\" class=\"dataframe\">\n",
       "  <thead>\n",
       "    <tr style=\"text-align: right;\">\n",
       "      <th></th>\n",
       "      <th>code</th>\n",
       "      <th>abstract</th>\n",
       "      <th>scibert</th>\n",
       "    </tr>\n",
       "  </thead>\n",
       "  <tbody>\n",
       "    <tr>\n",
       "      <th>0</th>\n",
       "      <td>1</td>\n",
       "      <td>Objective To evaluate the impact of searching ...</td>\n",
       "      <td>[0.4100084, -0.21557538, -0.34591863, 0.500176...</td>\n",
       "    </tr>\n",
       "    <tr>\n",
       "      <th>1</th>\n",
       "      <td>1</td>\n",
       "      <td>BACKGROUND: Recent research indicates a high r...</td>\n",
       "      <td>[0.32602593, -0.17152558, -0.17591679, 0.44747...</td>\n",
       "    </tr>\n",
       "    <tr>\n",
       "      <th>2</th>\n",
       "      <td>1</td>\n",
       "      <td>BACKGROUND: Previously, we reported on the low...</td>\n",
       "      <td>[0.3661694, -0.21131125, -0.18058942, 0.696097...</td>\n",
       "    </tr>\n",
       "    <tr>\n",
       "      <th>3</th>\n",
       "      <td>1</td>\n",
       "      <td>BACKGROUND: The usefulness of Google Scholar (...</td>\n",
       "      <td>[0.36786613, -0.24185428, -0.17779128, 0.54652...</td>\n",
       "    </tr>\n",
       "    <tr>\n",
       "      <th>4</th>\n",
       "      <td>1</td>\n",
       "      <td>BACKGROUND: Search strategies for systematic r...</td>\n",
       "      <td>[0.4956652, 0.032945074, -0.23513906, 0.522086...</td>\n",
       "    </tr>\n",
       "    <tr>\n",
       "      <th>5</th>\n",
       "      <td>1</td>\n",
       "      <td>INTRODUCTION AND AIM: NICE guideline surveilla...</td>\n",
       "      <td>[0.43140143, -0.06477011, -0.20115352, 0.35050...</td>\n",
       "    </tr>\n",
       "    <tr>\n",
       "      <th>6</th>\n",
       "      <td>1</td>\n",
       "      <td>BACKGROUND: Snowballing involves recursively p...</td>\n",
       "      <td>[0.40247366, -0.11061462, 0.041965894, 0.68628...</td>\n",
       "    </tr>\n",
       "    <tr>\n",
       "      <th>7</th>\n",
       "      <td>1</td>\n",
       "      <td>BACKGROUND: Searching for studies to include i...</td>\n",
       "      <td>[0.25515506, -0.35859805, 0.04994974, 0.337775...</td>\n",
       "    </tr>\n",
       "    <tr>\n",
       "      <th>8</th>\n",
       "      <td>1</td>\n",
       "      <td>BACKGROUND: An unbiased systematic review (SR)...</td>\n",
       "      <td>[0.09906735, 0.079545416, -0.29266822, 0.62790...</td>\n",
       "    </tr>\n",
       "    <tr>\n",
       "      <th>9</th>\n",
       "      <td>1</td>\n",
       "      <td>BACKGROUND: Systematic reviewers seek to compr...</td>\n",
       "      <td>[0.3623069, -0.42819035, -0.44994646, 0.382349...</td>\n",
       "    </tr>\n",
       "    <tr>\n",
       "      <th>10</th>\n",
       "      <td>1</td>\n",
       "      <td>BACKGROUND AND OBJECTIVES: Assess the efficacy...</td>\n",
       "      <td>[0.26108438, -0.53479975, -0.29594284, 0.53177...</td>\n",
       "    </tr>\n",
       "    <tr>\n",
       "      <th>11</th>\n",
       "      <td>1</td>\n",
       "      <td>OBJECTIVE: The research investigated whether c...</td>\n",
       "      <td>[0.4006625, -0.22213292, -0.0037909627, 0.3422...</td>\n",
       "    </tr>\n",
       "    <tr>\n",
       "      <th>12</th>\n",
       "      <td>1</td>\n",
       "      <td>OBJECTIVES: The objective of this study was to...</td>\n",
       "      <td>[0.37265402, 0.02250664, -0.2271154, 0.610554,...</td>\n",
       "    </tr>\n",
       "    <tr>\n",
       "      <th>13</th>\n",
       "      <td>1</td>\n",
       "      <td>PRIMARY OBJECTIVE: To avoid selection and publ...</td>\n",
       "      <td>[0.25282085, -0.19562949, -0.40119424, 0.52182...</td>\n",
       "    </tr>\n",
       "    <tr>\n",
       "      <th>14</th>\n",
       "      <td>1</td>\n",
       "      <td>BACKGROUND: Google Scholar linked more visitor...</td>\n",
       "      <td>[0.2266724, -0.39099494, -0.2504716, 0.7071363...</td>\n",
       "    </tr>\n",
       "    <tr>\n",
       "      <th>15</th>\n",
       "      <td>1</td>\n",
       "      <td>OBJECTIVE: We compared the performance of McMa...</td>\n",
       "      <td>[0.2790012, -0.29216734, -0.28239593, 0.429608...</td>\n",
       "    </tr>\n",
       "    <tr>\n",
       "      <th>16</th>\n",
       "      <td>1</td>\n",
       "      <td>BACKGROUND: We recently developed CoCites, a c...</td>\n",
       "      <td>[0.2917632, -0.49884838, -0.20512806, 0.515279...</td>\n",
       "    </tr>\n",
       "    <tr>\n",
       "      <th>17</th>\n",
       "      <td>1</td>\n",
       "      <td>OBJECTIVE: The objective of the study was to t...</td>\n",
       "      <td>[0.3921092, -0.20019893, -0.025054118, 0.57985...</td>\n",
       "    </tr>\n",
       "    <tr>\n",
       "      <th>18</th>\n",
       "      <td>1</td>\n",
       "      <td>BACKGROUND: A high-quality electronic search i...</td>\n",
       "      <td>[0.27652198, -0.2537203, -0.121113405, 0.63916...</td>\n",
       "    </tr>\n",
       "    <tr>\n",
       "      <th>19</th>\n",
       "      <td>1</td>\n",
       "      <td>BACKGROUND: A high-quality electronic search i...</td>\n",
       "      <td>[0.3324286, -0.40222928, -0.091442294, 0.54802...</td>\n",
       "    </tr>\n",
       "    <tr>\n",
       "      <th>20</th>\n",
       "      <td>1</td>\n",
       "      <td>BACKGROUND: It is unclear which terms should b...</td>\n",
       "      <td>[0.34963924, -0.26882955, -0.16444, 0.6256897,...</td>\n",
       "    </tr>\n",
       "    <tr>\n",
       "      <th>21</th>\n",
       "      <td>1</td>\n",
       "      <td>WHAT IS KNOWN AND OBJECTIVE: Exhaustive litera...</td>\n",
       "      <td>[0.51917297, -0.31206575, -0.05623438, 0.28850...</td>\n",
       "    </tr>\n",
       "    <tr>\n",
       "      <th>22</th>\n",
       "      <td>1</td>\n",
       "      <td>OBJECTIVE: The aim of this study was to compar...</td>\n",
       "      <td>[0.1176555, -0.27174363, -0.1888941, 0.5615688...</td>\n",
       "    </tr>\n",
       "    <tr>\n",
       "      <th>23</th>\n",
       "      <td>1</td>\n",
       "      <td>Clinical paper searching is a major task for c...</td>\n",
       "      <td>[-0.09228026, -0.36518288, -0.30185276, 0.0848...</td>\n",
       "    </tr>\n",
       "    <tr>\n",
       "      <th>24</th>\n",
       "      <td>1</td>\n",
       "      <td>BACKGROUND: The Cochrane Highly Sensitive Sear...</td>\n",
       "      <td>[0.3178297, -0.28078458, -0.038854852, 0.64805...</td>\n",
       "    </tr>\n",
       "    <tr>\n",
       "      <th>25</th>\n",
       "      <td>0</td>\n",
       "      <td>The article presents information on Arts &amp; Hum...</td>\n",
       "      <td>[0.11319059, -0.16330984, 0.035057303, 0.64019...</td>\n",
       "    </tr>\n",
       "    <tr>\n",
       "      <th>26</th>\n",
       "      <td>0</td>\n",
       "      <td>The article presents information about a speci...</td>\n",
       "      <td>[-0.23871592, -0.4099734, -0.46320912, 0.20413...</td>\n",
       "    </tr>\n",
       "    <tr>\n",
       "      <th>27</th>\n",
       "      <td>0</td>\n",
       "      <td>This article presents an overview of the Inter...</td>\n",
       "      <td>[-0.51501954, -0.089277685, -0.3192899, 0.7148...</td>\n",
       "    </tr>\n",
       "    <tr>\n",
       "      <th>28</th>\n",
       "      <td>0</td>\n",
       "      <td>(1) Acupuncture has been assessed in hundreds ...</td>\n",
       "      <td>[0.11056164, -0.23149146, -0.35958079, 0.34117...</td>\n",
       "    </tr>\n",
       "    <tr>\n",
       "      <th>29</th>\n",
       "      <td>0</td>\n",
       "      <td>This paper discusses the value of open and tra...</td>\n",
       "      <td>[0.46200827, -0.11351934, -0.20095484, 0.35229...</td>\n",
       "    </tr>\n",
       "  </tbody>\n",
       "</table>\n",
       "</div>"
      ],
      "text/plain": [
       "    code                                           abstract  \\\n",
       "0      1  Objective To evaluate the impact of searching ...   \n",
       "1      1  BACKGROUND: Recent research indicates a high r...   \n",
       "2      1  BACKGROUND: Previously, we reported on the low...   \n",
       "3      1  BACKGROUND: The usefulness of Google Scholar (...   \n",
       "4      1  BACKGROUND: Search strategies for systematic r...   \n",
       "5      1  INTRODUCTION AND AIM: NICE guideline surveilla...   \n",
       "6      1  BACKGROUND: Snowballing involves recursively p...   \n",
       "7      1  BACKGROUND: Searching for studies to include i...   \n",
       "8      1  BACKGROUND: An unbiased systematic review (SR)...   \n",
       "9      1  BACKGROUND: Systematic reviewers seek to compr...   \n",
       "10     1  BACKGROUND AND OBJECTIVES: Assess the efficacy...   \n",
       "11     1  OBJECTIVE: The research investigated whether c...   \n",
       "12     1  OBJECTIVES: The objective of this study was to...   \n",
       "13     1  PRIMARY OBJECTIVE: To avoid selection and publ...   \n",
       "14     1  BACKGROUND: Google Scholar linked more visitor...   \n",
       "15     1  OBJECTIVE: We compared the performance of McMa...   \n",
       "16     1  BACKGROUND: We recently developed CoCites, a c...   \n",
       "17     1  OBJECTIVE: The objective of the study was to t...   \n",
       "18     1  BACKGROUND: A high-quality electronic search i...   \n",
       "19     1  BACKGROUND: A high-quality electronic search i...   \n",
       "20     1  BACKGROUND: It is unclear which terms should b...   \n",
       "21     1  WHAT IS KNOWN AND OBJECTIVE: Exhaustive litera...   \n",
       "22     1  OBJECTIVE: The aim of this study was to compar...   \n",
       "23     1  Clinical paper searching is a major task for c...   \n",
       "24     1  BACKGROUND: The Cochrane Highly Sensitive Sear...   \n",
       "25     0  The article presents information on Arts & Hum...   \n",
       "26     0  The article presents information about a speci...   \n",
       "27     0  This article presents an overview of the Inter...   \n",
       "28     0  (1) Acupuncture has been assessed in hundreds ...   \n",
       "29     0  This paper discusses the value of open and tra...   \n",
       "\n",
       "                                              scibert  \n",
       "0   [0.4100084, -0.21557538, -0.34591863, 0.500176...  \n",
       "1   [0.32602593, -0.17152558, -0.17591679, 0.44747...  \n",
       "2   [0.3661694, -0.21131125, -0.18058942, 0.696097...  \n",
       "3   [0.36786613, -0.24185428, -0.17779128, 0.54652...  \n",
       "4   [0.4956652, 0.032945074, -0.23513906, 0.522086...  \n",
       "5   [0.43140143, -0.06477011, -0.20115352, 0.35050...  \n",
       "6   [0.40247366, -0.11061462, 0.041965894, 0.68628...  \n",
       "7   [0.25515506, -0.35859805, 0.04994974, 0.337775...  \n",
       "8   [0.09906735, 0.079545416, -0.29266822, 0.62790...  \n",
       "9   [0.3623069, -0.42819035, -0.44994646, 0.382349...  \n",
       "10  [0.26108438, -0.53479975, -0.29594284, 0.53177...  \n",
       "11  [0.4006625, -0.22213292, -0.0037909627, 0.3422...  \n",
       "12  [0.37265402, 0.02250664, -0.2271154, 0.610554,...  \n",
       "13  [0.25282085, -0.19562949, -0.40119424, 0.52182...  \n",
       "14  [0.2266724, -0.39099494, -0.2504716, 0.7071363...  \n",
       "15  [0.2790012, -0.29216734, -0.28239593, 0.429608...  \n",
       "16  [0.2917632, -0.49884838, -0.20512806, 0.515279...  \n",
       "17  [0.3921092, -0.20019893, -0.025054118, 0.57985...  \n",
       "18  [0.27652198, -0.2537203, -0.121113405, 0.63916...  \n",
       "19  [0.3324286, -0.40222928, -0.091442294, 0.54802...  \n",
       "20  [0.34963924, -0.26882955, -0.16444, 0.6256897,...  \n",
       "21  [0.51917297, -0.31206575, -0.05623438, 0.28850...  \n",
       "22  [0.1176555, -0.27174363, -0.1888941, 0.5615688...  \n",
       "23  [-0.09228026, -0.36518288, -0.30185276, 0.0848...  \n",
       "24  [0.3178297, -0.28078458, -0.038854852, 0.64805...  \n",
       "25  [0.11319059, -0.16330984, 0.035057303, 0.64019...  \n",
       "26  [-0.23871592, -0.4099734, -0.46320912, 0.20413...  \n",
       "27  [-0.51501954, -0.089277685, -0.3192899, 0.7148...  \n",
       "28  [0.11056164, -0.23149146, -0.35958079, 0.34117...  \n",
       "29  [0.46200827, -0.11351934, -0.20095484, 0.35229...  "
      ]
     },
     "execution_count": 41,
     "metadata": {},
     "output_type": "execute_result"
    }
   ],
   "source": [
    "df['scibert'] = embeddings\n",
    "df.head(30)"
   ]
  },
  {
   "cell_type": "code",
   "execution_count": 42,
   "metadata": {},
   "outputs": [],
   "source": [
    "# Save dataframe to prevent recalculation\n",
    "df.to_pickle(\"./df_screening.pkl\")"
   ]
  },
  {
   "cell_type": "code",
   "execution_count": 67,
   "metadata": {},
   "outputs": [],
   "source": [
    "# Sample even number from each class\n",
    "even_df = df.groupby('code').apply(lambda x: x.sample(n=25)).reset_index(drop=True)\n",
    "even_df = even_df.sample(frac=1)\n",
    "even_df.head(50)\n",
    "train_data = even_df['scibert'].tolist()\n",
    "train_labels = even_df['code'].tolist()\n",
    "\n",
    "# Sample even number from each class\n",
    "test_df = df.groupby('code').apply(lambda x: x.sample(n=25)).reset_index(drop=True)\n",
    "test_df = test_df.sample(frac=1)\n",
    "test_df.head(50)\n",
    "test_data = test_df['scibert'].tolist()\n",
    "test_labels = test_df['code'].tolist()"
   ]
  },
  {
   "cell_type": "code",
   "execution_count": 78,
   "metadata": {},
   "outputs": [
    {
     "name": "stdout",
     "output_type": "stream",
     "text": [
      "[[21  4]\n",
      " [ 0 25]]\n",
      "0.92\n"
     ]
    },
    {
     "data": {
      "image/png": "[encoded data removed]",
      "text/plain": [
       "<Figure size 1080x576 with 1 Axes>"
      ]
     },
     "metadata": {
      "needs_background": "light"
     },
     "output_type": "display_data"
    }
   ],
   "source": [
    "from sklearn.metrics import f1_score\n",
    "from sklearn.metrics import matthews_corrcoef\n",
    "from sklearn.metrics import accuracy_score\n",
    "from sklearn.metrics import classification_report\n",
    "from sklearn.metrics import confusion_matrix\n",
    "import seaborn as sns\n",
    "\n",
    "from sklearn.linear_model import LogisticRegression\n",
    "model = LogisticRegression()\n",
    "# Fit models\n",
    "# Predictions for each model\n",
    "\n",
    "f1 = []\n",
    "mcc = []\n",
    "acc = []\n",
    "\n",
    "for i in range(51):\n",
    "    if i > 2:\n",
    "        model.fit(train_data[:i], train_labels[:i])\n",
    "        pred = model.predict(test_data)\n",
    "        # Evaluate\n",
    "        f1.append(f1_score(test_labels, pred, pos_label=1))\n",
    "        mcc.append(matthews_corrcoef(test_labels, pred))\n",
    "        acc.append(accuracy_score(test_labels, pred))\n",
    "\n",
    "print(confusion_matrix(test_labels, pred))\n",
    "print(acc[-1])\n",
    "        \n",
    "plt.figure(figsize = (15,8))\n",
    "plt.xticks(np.arange(0, 50, step=5))\n",
    "plt.yticks(np.arange(0, 1.1, step=0.1))\n",
    "f, = plt.plot(range(50)[2:], f1)\n",
    "# m, = plt.plot(range(50)[2:], mcc)\n",
    "a, = plt.plot(range(50)[2:], acc)\n",
    "plt.legend([f, a], [\"f1\", \"accuracy\"])\n",
    "plt.ylim(0, 1)\n",
    "plt.show()"
   ]
  },
  {
   "cell_type": "code",
   "execution_count": 53,
   "metadata": {},
   "outputs": [
    {
     "name": "stdout",
     "output_type": "stream",
     "text": [
      "40\n"
     ]
    }
   ],
   "source": [
    "# Sample even number from each class\n",
    "even_df = df.groupby('code').apply(lambda x: x.sample(n=25)).reset_index(drop=True)\n",
    "even_df = even_df.sample(frac=1)\n",
    "even_df.head(50)\n",
    "\n",
    "from sklearn.model_selection import train_test_split\n",
    "train, test = train_test_split(even_df, test_size=0.2)\n",
    "\n",
    "train_data = train['scibert'].tolist()\n",
    "train_labels = train['code'].tolist()\n",
    "\n",
    "test_data = test['scibert'].tolist()\n",
    "test_labels = test['code'].tolist()\n",
    "\n",
    "print(len(train_data))"
   ]
  },
  {
   "cell_type": "code",
   "execution_count": 59,
   "metadata": {},
   "outputs": [
    {
     "name": "stderr",
     "output_type": "stream",
     "text": [
      "/home/connor/anaconda3/lib/python3.7/site-packages/sklearn/metrics/_classification.py:900: RuntimeWarning: invalid value encountered in double_scalars\n",
      "  mcc = cov_ytyp / np.sqrt(cov_ytyt * cov_ypyp)\n"
     ]
    },
    {
     "name": "stdout",
     "output_type": "stream",
     "text": [
      "[[5 2]\n",
      " [0 3]]\n"
     ]
    },
    {
     "data": {
      "image/png": "[encoded data removed]",
      "text/plain": [
       "<Figure size 1080x576 with 1 Axes>"
      ]
     },
     "metadata": {
      "needs_background": "light"
     },
     "output_type": "display_data"
    }
   ],
   "source": [
    "from sklearn.metrics import f1_score\n",
    "from sklearn.metrics import matthews_corrcoef\n",
    "from sklearn.metrics import accuracy_score\n",
    "from sklearn.metrics import classification_report\n",
    "from sklearn.metrics import confusion_matrix\n",
    "import seaborn as sns\n",
    "\n",
    "from sklearn.linear_model import LogisticRegression\n",
    "model = LogisticRegression()\n",
    "# Fit models\n",
    "# Predictions for each model\n",
    "\n",
    "f1 = []\n",
    "mcc = []\n",
    "acc = []\n",
    "\n",
    "for i in range(41):\n",
    "    if i > 2:\n",
    "        model.fit(train_data[:i], train_labels[:i])\n",
    "        pred = model.predict(test_data)\n",
    "        # Evaluate\n",
    "        f1.append(f1_score(test_labels, pred, pos_label=1))\n",
    "        mcc.append(matthews_corrcoef(test_labels, pred))\n",
    "        acc.append(accuracy_score(test_labels, pred))\n",
    "#     print(confusion_matrix(test_labels, pred))\n",
    "       \n",
    "conf_matrix = confusion_matrix(test_labels, pred)\n",
    "print(conf_matrix)\n",
    "\n",
    "plt.figure(figsize = (15,8))\n",
    "plt.yticks(np.arange(0, 1, step=0.1))\n",
    "f, = plt.plot(range(40)[2:], f1)\n",
    "m, = plt.plot(range(40)[2:], mcc)\n",
    "a, = plt.plot(range(40)[2:], acc)\n",
    "plt.legend([f, m, a], [\"f1\", \"mcc\", \"accuracy\"])\n",
    "plt.show()"
   ]
  },
  {
   "cell_type": "markdown",
   "metadata": {
    "id": "Eg9vHsH0pn_U"
   },
   "source": [
    "# Import and Preprocess/Format Data"
   ]
  },
  {
   "cell_type": "code",
   "execution_count": 2,
   "metadata": {
    "id": "6aFAYwJFHPwp"
   },
   "outputs": [],
   "source": [
    "# Function which does everything below at once\n",
    "def open_format_data(filename):\n",
    "  # Save data from txt into list\n",
    "  f = open(filename, \"r\")\n",
    "\n",
    "  list_data = []\n",
    "  for x in f:\n",
    "      list_data.append(f.readline().rstrip().split(\"\\t\"))\n",
    "\n",
    "  # Load list into dataframe\n",
    "  column_names = ['label', \"sentence\"]\n",
    "  df = pd.DataFrame(list_data, columns= column_names)\n",
    "  df.head(10)\n",
    "\n",
    "  # Drop any null values\n",
    "  df = df.dropna()\n",
    "\n",
    "  # Drop duplicates\n",
    "  df = df.drop_duplicates()\n",
    "\n",
    "  # Append number representing label as code\n",
    "  df.label = pd.Categorical(df.label)\n",
    "  df['code'] = df.label.cat.codes\n",
    "  return df"
   ]
  },
  {
   "cell_type": "code",
   "execution_count": 4,
   "metadata": {
    "id": "qyP98KpnHvv0"
   },
   "outputs": [],
   "source": [
    "df = open_format_data(\"train.txt\")"
   ]
  },
  {
   "cell_type": "markdown",
   "metadata": {
    "id": "r0QiFmEMphvr"
   },
   "source": [
    "# Data Exploration"
   ]
  },
  {
   "cell_type": "code",
   "execution_count": 5,
   "metadata": {
    "colab": {
     "base_uri": "https://localhost:8080/",
     "height": 163
    },
    "id": "FiwPvz1bpy91",
    "outputId": "22af54a2-4c23-4801-9700-cbe23b8f9a37"
   },
   "outputs": [
    {
     "data": {
      "text/plain": [
       "label       88797\n",
       "sentence    88797\n",
       "code        88797\n",
       "dtype: int64"
      ]
     },
     "execution_count": 5,
     "metadata": {},
     "output_type": "execute_result"
    }
   ],
   "source": [
    "df.count()"
   ]
  },
  {
   "cell_type": "code",
   "execution_count": 6,
   "metadata": {
    "colab": {
     "base_uri": "https://localhost:8080/",
     "height": 85
    },
    "id": "nIadEZxtqNDg",
    "outputId": "9ef35a7c-7ea5-428d-a80c-98059140eebc"
   },
   "outputs": [
    {
     "data": {
      "text/plain": [
       "label       category\n",
       "sentence      object\n",
       "code            int8\n",
       "dtype: object"
      ]
     },
     "execution_count": 6,
     "metadata": {},
     "output_type": "execute_result"
    }
   ],
   "source": [
    "df.dtypes"
   ]
  },
  {
   "cell_type": "code",
   "execution_count": 7,
   "metadata": {
    "colab": {
     "base_uri": "https://localhost:8080/",
     "height": 235
    },
    "id": "2EIxdIgOkNiW",
    "outputId": "73d79ed3-a443-43e6-d368-f0b0a139345e"
   },
   "outputs": [
    {
     "data": {
      "text/html": [
       "<div>\n",
       "<style scoped>\n",
       "    .dataframe tbody tr th:only-of-type {\n",
       "        vertical-align: middle;\n",
       "    }\n",
       "\n",
       "    .dataframe tbody tr th {\n",
       "        vertical-align: top;\n",
       "    }\n",
       "\n",
       "    .dataframe thead th {\n",
       "        text-align: right;\n",
       "    }\n",
       "</style>\n",
       "<table border=\"1\" class=\"dataframe\">\n",
       "  <thead>\n",
       "    <tr style=\"text-align: right;\">\n",
       "      <th></th>\n",
       "      <th>sentence</th>\n",
       "      <th>code</th>\n",
       "    </tr>\n",
       "    <tr>\n",
       "      <th>label</th>\n",
       "      <th></th>\n",
       "      <th></th>\n",
       "    </tr>\n",
       "  </thead>\n",
       "  <tbody>\n",
       "    <tr>\n",
       "      <th>BACKGROUND</th>\n",
       "      <td>10181</td>\n",
       "      <td>10181</td>\n",
       "    </tr>\n",
       "    <tr>\n",
       "      <th>CONCLUSIONS</th>\n",
       "      <td>13518</td>\n",
       "      <td>13518</td>\n",
       "    </tr>\n",
       "    <tr>\n",
       "      <th>METHODS</th>\n",
       "      <td>29328</td>\n",
       "      <td>29328</td>\n",
       "    </tr>\n",
       "    <tr>\n",
       "      <th>OBJECTIVE</th>\n",
       "      <td>6934</td>\n",
       "      <td>6934</td>\n",
       "    </tr>\n",
       "    <tr>\n",
       "      <th>RESULTS</th>\n",
       "      <td>28836</td>\n",
       "      <td>28836</td>\n",
       "    </tr>\n",
       "  </tbody>\n",
       "</table>\n",
       "</div>"
      ],
      "text/plain": [
       "             sentence   code\n",
       "label                       \n",
       "BACKGROUND      10181  10181\n",
       "CONCLUSIONS     13518  13518\n",
       "METHODS         29328  29328\n",
       "OBJECTIVE        6934   6934\n",
       "RESULTS         28836  28836"
      ]
     },
     "execution_count": 7,
     "metadata": {},
     "output_type": "execute_result"
    }
   ],
   "source": [
    "df.groupby(\"label\").count()"
   ]
  },
  {
   "cell_type": "code",
   "execution_count": 8,
   "metadata": {
    "colab": {
     "base_uri": "https://localhost:8080/",
     "height": 341
    },
    "id": "wBk2y4aeVnl_",
    "outputId": "8f55898b-2d00-48c9-ab3e-5e29e7c3e75d"
   },
   "outputs": [
    {
     "data": {
      "image/png": "[encoded data removed]",
      "text/plain": [
       "<Figure size 432x288 with 1 Axes>"
      ]
     },
     "metadata": {
      "needs_background": "light"
     },
     "output_type": "display_data"
    }
   ],
   "source": [
    "df.groupby(\"label\")['sentence'].count().plot.bar()\n",
    "plt.xlabel(\"Class\")\n",
    "plt.ylabel(\"Frequency\")\n",
    "plt.show()"
   ]
  },
  {
   "cell_type": "markdown",
   "metadata": {
    "id": "fF4bB9HVCGGR"
   },
   "source": [
    "# SciBERT Model For Sentence Embeddings\n"
   ]
  },
  {
   "cell_type": "code",
   "execution_count": 1,
   "metadata": {
    "colab": {
     "base_uri": "https://localhost:8080/",
     "height": 340
    },
    "id": "tEWpbCTNCJbp",
    "outputId": "49109daa-5430-4f7d-f07e-ee3b5bfdb486"
   },
   "outputs": [],
   "source": [
    "from transformers import BertModel, BertTokenizer\n",
    "import torch\n",
    "import numpy as np"
   ]
  },
  {
   "cell_type": "code",
   "execution_count": 2,
   "metadata": {
    "colab": {
     "base_uri": "https://localhost:8080/",
     "height": 51
    },
    "id": "QyIfIV1jCV9B",
    "outputId": "43b93ee8-ff1e-4f30-da57-cb1a894721cc"
   },
   "outputs": [
    {
     "name": "stdout",
     "output_type": "stream",
     "text": [
      "scibert_tokenizer is type: <class 'transformers.tokenization_bert.BertTokenizer'>\n",
      "    scibert_model is type: <class 'transformers.modeling_bert.BertModel'>\n"
     ]
    }
   ],
   "source": [
    "scibert_model = BertModel.from_pretrained(\"allenai/scibert_scivocab_uncased\",\n",
    "                                  output_hidden_states=True)\n",
    "scibert_tokenizer = BertTokenizer.from_pretrained(\"allenai/scibert_scivocab_uncased\")\n",
    "\n",
    "print('scibert_tokenizer is type:', type(scibert_tokenizer))\n",
    "print('    scibert_model is type:', type(scibert_model))"
   ]
  },
  {
   "cell_type": "code",
   "execution_count": 3,
   "metadata": {
    "id": "Ug_GZMKjFnIK"
   },
   "outputs": [],
   "source": [
    "def get_embedding(model, tokenizer, text):\n",
    "\n",
    "    # Encode with special tokens ([CLS] and [SEP], returning pytorch tensors\n",
    "    encoded_dict = tokenizer.encode_plus(\n",
    "                        text,\n",
    "                        add_special_tokens = True,\n",
    "                        return_tensors = 'pt'\n",
    "                )\n",
    "\n",
    "    input_ids = encoded_dict['input_ids']\n",
    "    \n",
    "    # Set model to evaluation mode\n",
    "    model.eval()\n",
    "    \n",
    "    # Run through BERT\n",
    "    with torch.no_grad():\n",
    "\n",
    "        outputs = model(input_ids)\n",
    "\n",
    "        # Extract hidden states\n",
    "        hidden_states = outputs[2]\n",
    "\n",
    "    # Select the embeddings\n",
    "    token_vecs = hidden_states[-2][0]\n",
    "\n",
    "    # Calculate average of token vectors\n",
    "    sentence_embedding = torch.mean(token_vecs, dim=0)\n",
    "\n",
    "    # Convert to np array\n",
    "    sentence_embedding = sentence_embedding.detach().numpy()\n",
    "\n",
    "    return sentence_embedding"
   ]
  },
  {
   "cell_type": "code",
   "execution_count": 10,
   "metadata": {
    "colab": {
     "base_uri": "https://localhost:8080/",
     "height": 231
    },
    "id": "4WL7iwzGKVHX",
    "outputId": "a9c2aadb-f3c8-4343-ee30-fbf9a19d0549"
   },
   "outputs": [
    {
     "name": "stdout",
     "output_type": "stream",
     "text": [
      "88797 88797\n",
      "139.64\n",
      "88797\n"
     ]
    }
   ],
   "source": [
    "from IPython.display import clear_output\n",
    "import timeit\n",
    "\n",
    "embeddings = []\n",
    "length = len(df['sentence'].tolist())\n",
    "index = 0\n",
    "\n",
    "start = timeit.default_timer()\n",
    "for sentence in df['sentence'].tolist():\n",
    "    clear_output(wait=True)\n",
    "    index += 1\n",
    "    sen_emb = get_embedding(scibert_model, scibert_tokenizer, sentence)\n",
    "    embeddings.append(sen_emb)\n",
    "\n",
    "    stop = timeit.default_timer()\n",
    "\n",
    "    if (index/length*100) < 1:\n",
    "        expected_time = \"Calculating...\"\n",
    "\n",
    "    else:\n",
    "        time_perc = timeit.default_timer()\n",
    "        expected_time = np.round( (time_perc-start) /(index/length) /60,2)\n",
    "\n",
    "    print(index, length)\n",
    "    print(expected_time)\n",
    "\n",
    "print(len(embeddings))"
   ]
  },
  {
   "cell_type": "code",
   "execution_count": 11,
   "metadata": {
    "id": "PmZkrrRX_CGP"
   },
   "outputs": [
    {
     "data": {
      "text/html": [
       "<div>\n",
       "<style scoped>\n",
       "    .dataframe tbody tr th:only-of-type {\n",
       "        vertical-align: middle;\n",
       "    }\n",
       "\n",
       "    .dataframe tbody tr th {\n",
       "        vertical-align: top;\n",
       "    }\n",
       "\n",
       "    .dataframe thead th {\n",
       "        text-align: right;\n",
       "    }\n",
       "</style>\n",
       "<table border=\"1\" class=\"dataframe\">\n",
       "  <thead>\n",
       "    <tr style=\"text-align: right;\">\n",
       "      <th></th>\n",
       "      <th>label</th>\n",
       "      <th>sentence</th>\n",
       "      <th>code</th>\n",
       "    </tr>\n",
       "  </thead>\n",
       "  <tbody>\n",
       "    <tr>\n",
       "      <th>0</th>\n",
       "      <td>OBJECTIVE</td>\n",
       "      <td>To investigate the efficacy of @ weeks of dail...</td>\n",
       "      <td>3</td>\n",
       "    </tr>\n",
       "    <tr>\n",
       "      <th>1</th>\n",
       "      <td>METHODS</td>\n",
       "      <td>Outcome measures included pain reduction and i...</td>\n",
       "      <td>2</td>\n",
       "    </tr>\n",
       "    <tr>\n",
       "      <th>2</th>\n",
       "      <td>METHODS</td>\n",
       "      <td>Secondary outcome measures included the Wester...</td>\n",
       "      <td>2</td>\n",
       "    </tr>\n",
       "    <tr>\n",
       "      <th>3</th>\n",
       "      <td>RESULTS</td>\n",
       "      <td>There was a clinically relevant reduction in t...</td>\n",
       "      <td>4</td>\n",
       "    </tr>\n",
       "    <tr>\n",
       "      <th>4</th>\n",
       "      <td>RESULTS</td>\n",
       "      <td>Further , there was a clinically relevant redu...</td>\n",
       "      <td>4</td>\n",
       "    </tr>\n",
       "  </tbody>\n",
       "</table>\n",
       "</div>"
      ],
      "text/plain": [
       "       label                                           sentence  code\n",
       "0  OBJECTIVE  To investigate the efficacy of @ weeks of dail...     3\n",
       "1    METHODS  Outcome measures included pain reduction and i...     2\n",
       "2    METHODS  Secondary outcome measures included the Wester...     2\n",
       "3    RESULTS  There was a clinically relevant reduction in t...     4\n",
       "4    RESULTS  Further , there was a clinically relevant redu...     4"
      ]
     },
     "execution_count": 11,
     "metadata": {},
     "output_type": "execute_result"
    }
   ],
   "source": [
    "df.head()"
   ]
  },
  {
   "cell_type": "code",
   "execution_count": 12,
   "metadata": {
    "id": "LXAjeF4U-ydM"
   },
   "outputs": [
    {
     "data": {
      "text/html": [
       "<div>\n",
       "<style scoped>\n",
       "    .dataframe tbody tr th:only-of-type {\n",
       "        vertical-align: middle;\n",
       "    }\n",
       "\n",
       "    .dataframe tbody tr th {\n",
       "        vertical-align: top;\n",
       "    }\n",
       "\n",
       "    .dataframe thead th {\n",
       "        text-align: right;\n",
       "    }\n",
       "</style>\n",
       "<table border=\"1\" class=\"dataframe\">\n",
       "  <thead>\n",
       "    <tr style=\"text-align: right;\">\n",
       "      <th></th>\n",
       "      <th>label</th>\n",
       "      <th>sentence</th>\n",
       "      <th>code</th>\n",
       "      <th>scibert</th>\n",
       "    </tr>\n",
       "  </thead>\n",
       "  <tbody>\n",
       "    <tr>\n",
       "      <th>0</th>\n",
       "      <td>OBJECTIVE</td>\n",
       "      <td>To investigate the efficacy of @ weeks of dail...</td>\n",
       "      <td>3</td>\n",
       "      <td>[-0.44510403, -0.31423956, -0.45745727, 0.4200...</td>\n",
       "    </tr>\n",
       "    <tr>\n",
       "      <th>1</th>\n",
       "      <td>METHODS</td>\n",
       "      <td>Outcome measures included pain reduction and i...</td>\n",
       "      <td>2</td>\n",
       "      <td>[-0.4775299, -0.46893463, -0.22414015, 0.22520...</td>\n",
       "    </tr>\n",
       "    <tr>\n",
       "      <th>2</th>\n",
       "      <td>METHODS</td>\n",
       "      <td>Secondary outcome measures included the Wester...</td>\n",
       "      <td>2</td>\n",
       "      <td>[-0.61925375, -0.19193889, -0.38404435, 0.2082...</td>\n",
       "    </tr>\n",
       "    <tr>\n",
       "      <th>3</th>\n",
       "      <td>RESULTS</td>\n",
       "      <td>There was a clinically relevant reduction in t...</td>\n",
       "      <td>4</td>\n",
       "      <td>[-0.5922383, -0.41908544, -0.33248687, 0.55146...</td>\n",
       "    </tr>\n",
       "    <tr>\n",
       "      <th>4</th>\n",
       "      <td>RESULTS</td>\n",
       "      <td>Further , there was a clinically relevant redu...</td>\n",
       "      <td>4</td>\n",
       "      <td>[-0.38201377, -0.53494513, 0.1772025, 0.381558...</td>\n",
       "    </tr>\n",
       "  </tbody>\n",
       "</table>\n",
       "</div>"
      ],
      "text/plain": [
       "       label                                           sentence  code  \\\n",
       "0  OBJECTIVE  To investigate the efficacy of @ weeks of dail...     3   \n",
       "1    METHODS  Outcome measures included pain reduction and i...     2   \n",
       "2    METHODS  Secondary outcome measures included the Wester...     2   \n",
       "3    RESULTS  There was a clinically relevant reduction in t...     4   \n",
       "4    RESULTS  Further , there was a clinically relevant redu...     4   \n",
       "\n",
       "                                             scibert  \n",
       "0  [-0.44510403, -0.31423956, -0.45745727, 0.4200...  \n",
       "1  [-0.4775299, -0.46893463, -0.22414015, 0.22520...  \n",
       "2  [-0.61925375, -0.19193889, -0.38404435, 0.2082...  \n",
       "3  [-0.5922383, -0.41908544, -0.33248687, 0.55146...  \n",
       "4  [-0.38201377, -0.53494513, 0.1772025, 0.381558...  "
      ]
     },
     "execution_count": 12,
     "metadata": {},
     "output_type": "execute_result"
    }
   ],
   "source": [
    "df['scibert'] = embeddings\n",
    "df.head()"
   ]
  },
  {
   "cell_type": "code",
   "execution_count": 13,
   "metadata": {
    "id": "Y7kcDqCn_GnI"
   },
   "outputs": [],
   "source": [
    "# Save dataframe to prevent recalculation\n",
    "df.to_pickle(\"./df_embeddings.pkl\")"
   ]
  },
  {
   "cell_type": "markdown",
   "metadata": {},
   "source": [
    "# Investigating SciBert Embedded Models"
   ]
  },
  {
   "cell_type": "code",
   "execution_count": 2,
   "metadata": {},
   "outputs": [
    {
     "data": {
      "text/html": [
       "<div>\n",
       "<style scoped>\n",
       "    .dataframe tbody tr th:only-of-type {\n",
       "        vertical-align: middle;\n",
       "    }\n",
       "\n",
       "    .dataframe tbody tr th {\n",
       "        vertical-align: top;\n",
       "    }\n",
       "\n",
       "    .dataframe thead th {\n",
       "        text-align: right;\n",
       "    }\n",
       "</style>\n",
       "<table border=\"1\" class=\"dataframe\">\n",
       "  <thead>\n",
       "    <tr style=\"text-align: right;\">\n",
       "      <th></th>\n",
       "      <th>label</th>\n",
       "      <th>sentence</th>\n",
       "      <th>code</th>\n",
       "      <th>scibert</th>\n",
       "    </tr>\n",
       "  </thead>\n",
       "  <tbody>\n",
       "    <tr>\n",
       "      <th>0</th>\n",
       "      <td>OBJECTIVE</td>\n",
       "      <td>To investigate the efficacy of @ weeks of dail...</td>\n",
       "      <td>3</td>\n",
       "      <td>[-0.44510403, -0.31423956, -0.45745727, 0.4200...</td>\n",
       "    </tr>\n",
       "    <tr>\n",
       "      <th>1</th>\n",
       "      <td>METHODS</td>\n",
       "      <td>Outcome measures included pain reduction and i...</td>\n",
       "      <td>2</td>\n",
       "      <td>[-0.4775299, -0.46893463, -0.22414015, 0.22520...</td>\n",
       "    </tr>\n",
       "    <tr>\n",
       "      <th>2</th>\n",
       "      <td>METHODS</td>\n",
       "      <td>Secondary outcome measures included the Wester...</td>\n",
       "      <td>2</td>\n",
       "      <td>[-0.61925375, -0.19193889, -0.38404435, 0.2082...</td>\n",
       "    </tr>\n",
       "    <tr>\n",
       "      <th>3</th>\n",
       "      <td>RESULTS</td>\n",
       "      <td>There was a clinically relevant reduction in t...</td>\n",
       "      <td>4</td>\n",
       "      <td>[-0.5922383, -0.41908544, -0.33248687, 0.55146...</td>\n",
       "    </tr>\n",
       "    <tr>\n",
       "      <th>4</th>\n",
       "      <td>RESULTS</td>\n",
       "      <td>Further , there was a clinically relevant redu...</td>\n",
       "      <td>4</td>\n",
       "      <td>[-0.38201377, -0.53494513, 0.1772025, 0.381558...</td>\n",
       "    </tr>\n",
       "    <tr>\n",
       "      <th>5</th>\n",
       "      <td>RESULTS</td>\n",
       "      <td>The Outcome Measures in Rheumatology Clinical ...</td>\n",
       "      <td>4</td>\n",
       "      <td>[0.027787112, 0.23189485, -0.3841277, 0.625988...</td>\n",
       "    </tr>\n",
       "    <tr>\n",
       "      <th>7</th>\n",
       "      <td>BACKGROUND</td>\n",
       "      <td>Emotional eating is associated with overeating...</td>\n",
       "      <td>0</td>\n",
       "      <td>[-0.6055013, -0.14416914, -0.32580143, 0.12642...</td>\n",
       "    </tr>\n",
       "    <tr>\n",
       "      <th>8</th>\n",
       "      <td>OBJECTIVE</td>\n",
       "      <td>The aim of this study was to test if attention...</td>\n",
       "      <td>3</td>\n",
       "      <td>[-0.37356007, 0.10462127, -0.011478976, -0.169...</td>\n",
       "    </tr>\n",
       "    <tr>\n",
       "      <th>9</th>\n",
       "      <td>METHODS</td>\n",
       "      <td>Participants ( N = @ ) were randomly assigned ...</td>\n",
       "      <td>2</td>\n",
       "      <td>[0.23434164, 0.32432234, -0.29593608, -0.39225...</td>\n",
       "    </tr>\n",
       "    <tr>\n",
       "      <th>10</th>\n",
       "      <td>METHODS</td>\n",
       "      <td>Self-reported emotional eating was assessed wi...</td>\n",
       "      <td>2</td>\n",
       "      <td>[-0.65840876, 0.21802892, -0.24623804, -0.1824...</td>\n",
       "    </tr>\n",
       "    <tr>\n",
       "      <th>11</th>\n",
       "      <td>RESULTS</td>\n",
       "      <td>Yet , attention maintenance on food cues was s...</td>\n",
       "      <td>4</td>\n",
       "      <td>[-0.19438043, -0.038107645, 0.15598723, 0.2300...</td>\n",
       "    </tr>\n",
       "    <tr>\n",
       "      <th>12</th>\n",
       "      <td>CONCLUSIONS</td>\n",
       "      <td>Results further suggest that attention mainten...</td>\n",
       "      <td>1</td>\n",
       "      <td>[-0.06832442, 0.22197606, -0.21255746, 0.14556...</td>\n",
       "    </tr>\n",
       "    <tr>\n",
       "      <th>14</th>\n",
       "      <td>BACKGROUND</td>\n",
       "      <td>We tested whether theory-based education incre...</td>\n",
       "      <td>0</td>\n",
       "      <td>[-0.24022587, 0.019652834, 0.121256776, -0.116...</td>\n",
       "    </tr>\n",
       "    <tr>\n",
       "      <th>15</th>\n",
       "      <td>METHODS</td>\n",
       "      <td>Intervention arms : ( @ ) Full Education combi...</td>\n",
       "      <td>2</td>\n",
       "      <td>[0.35353863, -0.023675352, 0.11459824, 0.24104...</td>\n",
       "    </tr>\n",
       "    <tr>\n",
       "      <th>16</th>\n",
       "      <td>METHODS</td>\n",
       "      <td>Follow-up visits checked alarm operability in ...</td>\n",
       "      <td>2</td>\n",
       "      <td>[-0.5296404, 0.16995905, 0.2568119, 0.46228915...</td>\n",
       "    </tr>\n",
       "    <tr>\n",
       "      <th>17</th>\n",
       "      <td>METHODS</td>\n",
       "      <td>Regressions controlled for alarm status preint...</td>\n",
       "      <td>2</td>\n",
       "      <td>[-0.44354755, 0.061076682, -0.6860289, -0.1354...</td>\n",
       "    </tr>\n",
       "    <tr>\n",
       "      <th>18</th>\n",
       "      <td>RESULTS</td>\n",
       "      <td>Working alarms per home rose @ % .</td>\n",
       "      <td>4</td>\n",
       "      <td>[-1.0388806, 0.52558917, 0.045176875, 0.036362...</td>\n",
       "    </tr>\n",
       "    <tr>\n",
       "      <th>19</th>\n",
       "      <td>CONCLUSIONS</td>\n",
       "      <td>Without exceeding typical fire department inst...</td>\n",
       "      <td>1</td>\n",
       "      <td>[-0.19592582, -0.1943504, 0.17269269, 0.010289...</td>\n",
       "    </tr>\n",
       "    <tr>\n",
       "      <th>20</th>\n",
       "      <td>CONCLUSIONS</td>\n",
       "      <td>Two years after installation , for every three...</td>\n",
       "      <td>1</td>\n",
       "      <td>[0.012061362, 0.26443887, -0.028506553, -0.048...</td>\n",
       "    </tr>\n",
       "    <tr>\n",
       "      <th>22</th>\n",
       "      <td>OBJECTIVE</td>\n",
       "      <td>To evaluate the performance ( efficacy , safet...</td>\n",
       "      <td>3</td>\n",
       "      <td>[0.047299154, -0.27056786, 0.21400625, 0.49091...</td>\n",
       "    </tr>\n",
       "  </tbody>\n",
       "</table>\n",
       "</div>"
      ],
      "text/plain": [
       "          label                                           sentence  code  \\\n",
       "0     OBJECTIVE  To investigate the efficacy of @ weeks of dail...     3   \n",
       "1       METHODS  Outcome measures included pain reduction and i...     2   \n",
       "2       METHODS  Secondary outcome measures included the Wester...     2   \n",
       "3       RESULTS  There was a clinically relevant reduction in t...     4   \n",
       "4       RESULTS  Further , there was a clinically relevant redu...     4   \n",
       "5       RESULTS  The Outcome Measures in Rheumatology Clinical ...     4   \n",
       "7    BACKGROUND  Emotional eating is associated with overeating...     0   \n",
       "8     OBJECTIVE  The aim of this study was to test if attention...     3   \n",
       "9       METHODS  Participants ( N = @ ) were randomly assigned ...     2   \n",
       "10      METHODS  Self-reported emotional eating was assessed wi...     2   \n",
       "11      RESULTS  Yet , attention maintenance on food cues was s...     4   \n",
       "12  CONCLUSIONS  Results further suggest that attention mainten...     1   \n",
       "14   BACKGROUND  We tested whether theory-based education incre...     0   \n",
       "15      METHODS  Intervention arms : ( @ ) Full Education combi...     2   \n",
       "16      METHODS  Follow-up visits checked alarm operability in ...     2   \n",
       "17      METHODS  Regressions controlled for alarm status preint...     2   \n",
       "18      RESULTS                 Working alarms per home rose @ % .     4   \n",
       "19  CONCLUSIONS  Without exceeding typical fire department inst...     1   \n",
       "20  CONCLUSIONS  Two years after installation , for every three...     1   \n",
       "22    OBJECTIVE  To evaluate the performance ( efficacy , safet...     3   \n",
       "\n",
       "                                              scibert  \n",
       "0   [-0.44510403, -0.31423956, -0.45745727, 0.4200...  \n",
       "1   [-0.4775299, -0.46893463, -0.22414015, 0.22520...  \n",
       "2   [-0.61925375, -0.19193889, -0.38404435, 0.2082...  \n",
       "3   [-0.5922383, -0.41908544, -0.33248687, 0.55146...  \n",
       "4   [-0.38201377, -0.53494513, 0.1772025, 0.381558...  \n",
       "5   [0.027787112, 0.23189485, -0.3841277, 0.625988...  \n",
       "7   [-0.6055013, -0.14416914, -0.32580143, 0.12642...  \n",
       "8   [-0.37356007, 0.10462127, -0.011478976, -0.169...  \n",
       "9   [0.23434164, 0.32432234, -0.29593608, -0.39225...  \n",
       "10  [-0.65840876, 0.21802892, -0.24623804, -0.1824...  \n",
       "11  [-0.19438043, -0.038107645, 0.15598723, 0.2300...  \n",
       "12  [-0.06832442, 0.22197606, -0.21255746, 0.14556...  \n",
       "14  [-0.24022587, 0.019652834, 0.121256776, -0.116...  \n",
       "15  [0.35353863, -0.023675352, 0.11459824, 0.24104...  \n",
       "16  [-0.5296404, 0.16995905, 0.2568119, 0.46228915...  \n",
       "17  [-0.44354755, 0.061076682, -0.6860289, -0.1354...  \n",
       "18  [-1.0388806, 0.52558917, 0.045176875, 0.036362...  \n",
       "19  [-0.19592582, -0.1943504, 0.17269269, 0.010289...  \n",
       "20  [0.012061362, 0.26443887, -0.028506553, -0.048...  \n",
       "22  [0.047299154, -0.27056786, 0.21400625, 0.49091...  "
      ]
     },
     "execution_count": 2,
     "metadata": {},
     "output_type": "execute_result"
    }
   ],
   "source": [
    "import pandas as pd\n",
    "\n",
    "import matplotlib.pyplot as plt\n",
    "\n",
    "import numpy as np\n",
    "\n",
    "from sklearn.metrics import f1_score\n",
    "from sklearn.metrics import matthews_corrcoef\n",
    "from sklearn.metrics import accuracy_score\n",
    "from sklearn.metrics import classification_report\n",
    "from sklearn.metrics import confusion_matrix\n",
    "import seaborn as sns\n",
    "df = pd.read_pickle(\"./df_embeddings.pkl\")\n",
    "df.head(20)"
   ]
  },
  {
   "cell_type": "code",
   "execution_count": 11,
   "metadata": {},
   "outputs": [
    {
     "data": {
      "image/png": "[encoded data removed]",
      "text/plain": [
       "<Figure size 288x144 with 2 Axes>"
      ]
     },
     "metadata": {
      "needs_background": "light"
     },
     "output_type": "display_data"
    }
   ],
   "source": [
    "# Export to weka\n",
    "export_df = pd.DataFrame(df['scibert'][:2500].tolist(), index=df.index[:2500])\n",
    "export_df['label'] = df['label'][:2500]\n",
    "\n",
    "export_df.to_csv('./weka.csv', index=False)\n",
    "\n",
    "export_df = pd.DataFrame(df['scibert'][2500:3500].tolist(), index=df.index[2500:3500])\n",
    "export_df['label'] = df['label'][2500:3500]\n",
    "export_df.to_csv('./weka_test.csv', index=False)\n",
    "\n",
    "# Weka Metrics\n",
    "labels = [\"BACKGROUND\", \"CONCLUSIONS\", \"METHODS\", \"OBJECTIVE\", \"RESULTS\"]\n",
    "conf_matrix = [[72, 12, 13, 28, 2], \n",
    "               [18, 99, 7, 7, 28], \n",
    "               [6, 0, 306, 10, 18],\n",
    "               [16, 7, 10, 33, 0],\n",
    "               [ 1, 4, 16, 0, 287]]\n",
    "df_cm = pd.DataFrame(conf_matrix, columns=labels, index=labels)\n",
    "df_cm.index.name = 'Actual'\n",
    "df_cm.columns.name = 'Predicted'\n",
    "plt.figure(figsize = (4,2))\n",
    "sns.set(font_scale=1.2)#for label size\n",
    "sns.heatmap(df_cm, fmt='d', cmap=\"Blues\", annot=True, annot_kws={\"size\": 12})# font size\n",
    "plt.show()"
   ]
  },
  {
   "cell_type": "code",
   "execution_count": 73,
   "metadata": {},
   "outputs": [
    {
     "name": "stdout",
     "output_type": "stream",
     "text": [
      "Time elapsed: 77.28767180099749\n",
      "F1 Score\n",
      "0.8222010746895864\n",
      "MCC\n",
      "0.7610562304480429\n",
      "Accuracy\n",
      "0.8227\n",
      "              precision    recall  f1-score   support\n",
      "\n",
      "  BACKGROUND       0.59      0.62      0.61      1092\n",
      " CONCLUSIONS       0.74      0.77      0.76      1501\n",
      "     METHODS       0.89      0.92      0.90      3260\n",
      "   OBJECTIVE       0.65      0.56      0.60       819\n",
      "     RESULTS       0.91      0.88      0.90      3328\n",
      "\n",
      "    accuracy                           0.82     10000\n",
      "   macro avg       0.76      0.75      0.75     10000\n",
      "weighted avg       0.82      0.82      0.82     10000\n",
      "\n"
     ]
    },
    {
     "data": {
      "image/png": "[encoded data removed]",
      "text/plain": [
       "<Figure size 360x216 with 2 Axes>"
      ]
     },
     "metadata": {},
     "output_type": "display_data"
    }
   ],
   "source": [
    "# kNN with scikit-learn\n",
    "import timeit\n",
    "from sklearn.neighbors import KNeighborsClassifier\n",
    "\n",
    "model = KNeighborsClassifier(8, metric=\"manhattan\", n_jobs=-1)\n",
    "# Fit models\n",
    "start = timeit.default_timer()\n",
    "model.fit(df['scibert'][:2500].tolist(), df['label'][:2500].tolist())\n",
    "# Predictions for each model\n",
    "pred = model.predict(df['scibert'][2500:3500].tolist())\n",
    "stop = timeit.default_timer()\n",
    "print(\"Time elapsed:\", stop-start)\n",
    "# Evaluate\n",
    "print(\"F1 Score\")\n",
    "print(f1_score(df['label'][2500:3500].tolist(), pred, average=\"weighted\"))\n",
    "print(\"MCC\")\n",
    "print(matthews_corrcoef(df['label'][2500:3500].tolist(), pred))\n",
    "print(\"Accuracy\")\n",
    "print(accuracy_score(df['label'][2500:3500].tolist(), pred))\n",
    "print(classification_report(df['label'][2500:3500].tolist(), pred))\n",
    "# Confusion Matrix\n",
    "labels = [\"BACKGROUND\", \"CONCLUSIONS\", \"METHODS\", \"OBJECTIVE\", \"RESULTS\"]\n",
    "conf_matrix = confusion_matrix(df['label'][2500:3500].tolist(), pred, labels=labels)\n",
    "# perc_matrix = conf_matrix/np.sum(conf_matrix)\n",
    "df_cm = pd.DataFrame(conf_matrix, columns=labels, index=labels)\n",
    "df_cm.index.name = 'Actual'\n",
    "df_cm.columns.name = 'Predicted'\n",
    "plt.figure(figsize = (5,3))\n",
    "sns.set(font_scale=1.2)#for label size\n",
    "sns.heatmap(df_cm, fmt='d', cmap=\"Blues\", annot=True, annot_kws={\"size\": 12})# font size\n",
    "plt.show()"
   ]
  },
  {
   "cell_type": "code",
   "execution_count": 62,
   "metadata": {},
   "outputs": [
    {
     "name": "stdout",
     "output_type": "stream",
     "text": [
      "Time elapsed: 20.33666393800013\n"
     ]
    }
   ],
   "source": [
    "# kNN from scratch\n",
    "import timeit\n",
    "import heapq\n",
    "\n",
    "def knn(k, test_data, train_data, train_label):\n",
    "    pred = []\n",
    "    # Iterate over each input data case\n",
    "    for test_embedding in test_data[:20]:\n",
    "        # List to hold (distance, label)\n",
    "        distances = []\n",
    "        # Calculate distance of data point from each train_data case\n",
    "        for i in range(len(train_data)):\n",
    "            manhattan_dist = 0\n",
    "            # Iterate over each dimension of the embedding\n",
    "            for x in range(len(test_embedding)):\n",
    "                manhattan_dist += abs(test_embedding[x] - train_data[i][x])\n",
    "            # Append (distance, label)\n",
    "            distances.append((manhattan_dist, train_label[i]))\n",
    "        # Find k-nearest neighbors\n",
    "        k_smallest = heapq.nsmallest(k, distances)\n",
    "        # Select just labels\n",
    "        labels = [lis[1] for lis in k_smallest]\n",
    "        # Find mode (in tie will select first appearing neighbor)\n",
    "        label = max(set(labels), key=labels.count)\n",
    "        pred.append(label)\n",
    "    return pred\n",
    "            \n",
    "train_data = df['scibert'][:2500].tolist()\n",
    "train_label = df['code'][:2500].tolist()\n",
    "test_data = df['scibert'][2500:3500].tolist()\n",
    "test_labels = df['code'][2500:3500].tolist()\n",
    "\n",
    "# Run knn\n",
    "start = timeit.default_timer()\n",
    "pred = knn(5, test_data, train_data, train_label)\n",
    "stop = timeit.default_timer()\n",
    "print(\"Time elapsed:\", stop-start)\n",
    "\n",
    "# Evaluate\n",
    "# print(\"F1 Score\")\n",
    "# print(f1_score(test_labels[:20], pred, average=\"macro\"))\n",
    "# print(\"MCC\")\n",
    "# print(matthews_corrcoef(test_labels[:20], pred))\n",
    "# print(\"Accuracy\")\n",
    "# print(accuracy_score(test_labels[:20], pred))\n",
    "# print(confusion_matrix(test_labels[:20], pred))"
   ]
  },
  {
   "cell_type": "code",
   "execution_count": 71,
   "metadata": {},
   "outputs": [
    {
     "name": "stdout",
     "output_type": "stream",
     "text": [
      "Time elapsed: 14.909251436001796\n",
      "F1 Score\n",
      "0.7909139951332381\n",
      "MCC\n",
      "0.721058165887981\n",
      "Accuracy\n",
      "0.793\n",
      "              precision    recall  f1-score   support\n",
      "\n",
      "           0       0.58      0.62      0.60       127\n",
      "           1       0.75      0.65      0.70       159\n",
      "           2       0.89      0.89      0.89       340\n",
      "           3       0.45      0.41      0.43        66\n",
      "           4       0.87      0.92      0.89       308\n",
      "\n",
      "    accuracy                           0.79      1000\n",
      "   macro avg       0.71      0.70      0.70      1000\n",
      "weighted avg       0.79      0.79      0.79      1000\n",
      "\n"
     ]
    },
    {
     "data": {
      "image/png": "[encoded data removed]",
      "text/plain": [
       "<Figure size 288x216 with 2 Axes>"
      ]
     },
     "metadata": {},
     "output_type": "display_data"
    }
   ],
   "source": [
    "# kNN improved with numpy\n",
    "import timeit\n",
    "import heapq\n",
    "# import Numpy for more efficient manhattan distance\n",
    "import numpy as np\n",
    "\n",
    "def knn(k, test_data, train_data, train_label):\n",
    "    test_arr = np.array(test_data)\n",
    "    train_arr = np.array(train_data)\n",
    "    pred = []\n",
    "    # Iterate over each input data case\n",
    "    for test_embedding in test_arr:\n",
    "        # List to hold (distance, label)\n",
    "        distances = []\n",
    "        # Calculate distance of data point from each train_data case\n",
    "        for i in range(len(train_arr)):\n",
    "            manhattan_dist = np.sum(np.abs(test_embedding-train_arr[i]))\n",
    "            # Append (distance, label)\n",
    "            distances.append((manhattan_dist, train_label[i]))\n",
    "        # Find k-nearest neighbors\n",
    "        k_smallest = heapq.nsmallest(k, distances)\n",
    "        # Select just labels\n",
    "        labels = [lis[1] for lis in k_smallest]\n",
    "        # Find mode (in tie will select first appearing neighbor)\n",
    "        label = max(set(labels), key=labels.count)\n",
    "        pred.append(label)\n",
    "    return pred\n",
    "            \n",
    "train_data = df['scibert'][:2500].tolist()\n",
    "train_label = df['code'][:2500].tolist()\n",
    "test_data = df['scibert'][2500:3500].tolist()\n",
    "\n",
    "# Run knn\n",
    "start = timeit.default_timer()\n",
    "pred = knn(8, test_data, train_data, train_label)\n",
    "stop = timeit.default_timer()\n",
    "print(\"Time elapsed:\", stop-start)\n",
    "\n",
    "# Evaluate\n",
    "print(\"F1 Score\")\n",
    "print(f1_score(df['code'][2500:3500].tolist(), pred, average=\"weighted\"))\n",
    "print(\"MCC\")\n",
    "print(matthews_corrcoef(df['code'][2500:3500].tolist(), pred))\n",
    "print(\"Accuracy\")\n",
    "print(accuracy_score(df['code'][2500:3500].tolist(), pred))\n",
    "print(classification_report(df['code'][2500:3500].tolist(), pred))\n",
    "# Confusion Matrix\n",
    "labels = [\"BACKGROUND\", \"CONCLUSIONS\", \"METHODS\", \"OBJECTIVE\", \"RESULTS\"]\n",
    "conf_matrix = confusion_matrix(df['code'][2500:3500].tolist(), pred)\n",
    "# perc_matrix = conf_matrix/np.sum(conf_matrix)\n",
    "df_cm = pd.DataFrame(conf_matrix, columns=labels, index=labels)\n",
    "df_cm.index.name = 'Actual'\n",
    "df_cm.columns.name = 'Predicted'\n",
    "plt.figure(figsize = (4,3))\n",
    "sns.set(font_scale=1.2)#for label size\n",
    "sns.heatmap(df_cm, fmt='d', cmap=\"Blues\", annot=True, annot_kws={\"size\": 12})# font size\n",
    "plt.show()"
   ]
  },
  {
   "cell_type": "code",
   "execution_count": 70,
   "metadata": {},
   "outputs": [
    {
     "name": "stdout",
     "output_type": "stream",
     "text": [
      "0.8973145243596246\n",
      "0.7978875941056358\n",
      "0.8975\n",
      "              precision    recall  f1-score   support\n",
      "\n",
      "     METHODS       0.93      0.85      0.89       200\n",
      "   OBJECTIVE       0.87      0.94      0.90       200\n",
      "\n",
      "    accuracy                           0.90       400\n",
      "   macro avg       0.90      0.90      0.90       400\n",
      "weighted avg       0.90      0.90      0.90       400\n",
      "\n"
     ]
    }
   ],
   "source": [
    "# Sample even number from each class\n",
    "even_df = df.groupby('code').apply(lambda x: x.sample(n=500))\n",
    "even_df = even_df[(even_df['label'] == 'METHODS') | (even_df['label'] == 'OBJECTIVE')].reset_index(drop = True)\n",
    "even_df.label.cat.remove_unused_categories(True)\n",
    "even_df = even_df.sample(frac=1).reset_index(drop=True)\n",
    "\n",
    "even_test = df.groupby('code').apply(lambda x: x.sample(n=200))\n",
    "even_test = even_test[(even_test['label'] == 'METHODS') | (even_test['label'] == 'OBJECTIVE')].reset_index(drop = True)\n",
    "even_test.label.cat.remove_unused_categories(True)\n",
    "even_test = even_test.sample(frac=1).reset_index(drop=True)\n",
    "\n",
    "# KNN with balanced data\n",
    "train_data = even_df['scibert'].tolist()\n",
    "train_labels = even_df['label'].tolist()\n",
    "test_data = even_test['scibert'].tolist()\n",
    "test_labels = even_test['label'].tolist()\n",
    "\n",
    "from sklearn.neighbors import KNeighborsClassifier\n",
    "model_even = KNeighborsClassifier(metric=\"manhattan\", n_jobs=-1)\n",
    "model_even.fit(train_data, train_labels)\n",
    "pred_even = model_even.predict(test_data)\n",
    "\n",
    "print(f1_score(test_labels, pred_even, average=\"macro\"))\n",
    "print(matthews_corrcoef(test_labels, pred_even))\n",
    "print(accuracy_score(test_labels, pred_even))\n",
    "print(classification_report(test_labels, pred_even))"
   ]
  },
  {
   "cell_type": "code",
   "execution_count": 7,
   "metadata": {},
   "outputs": [
    {
     "name": "stdout",
     "output_type": "stream",
     "text": [
      "F1 Score\n",
      "0.6681035538397584\n",
      "0.6709305896250097\n",
      "MCC\n",
      "0.6634952331940656\n",
      "0.6558606143364742\n",
      "Accuracy\n",
      "0.747\n",
      "0.741\n"
     ]
    }
   ],
   "source": [
    "from sklearn.naive_bayes import BernoulliNB\n",
    "model = BernoulliNB()\n",
    "model_even = BernoulliNB()\n",
    "# Fit models\n",
    "model.fit(df['scibert'][:2500].tolist(), df['code'][:2500].tolist())\n",
    "model_even.fit(even_df['scibert'].tolist(), even_df['code'].tolist())\n",
    "# Predictions for each model\n",
    "pred = model.predict(df['scibert'][2500:3500].tolist())\n",
    "pred_even = model_even.predict(df['scibert'][2500:3500].tolist())\n",
    "# Evaluate\n",
    "print(\"F1 Score\")\n",
    "print(f1_score(df['code'][2500:3500].tolist(), pred, average=\"macro\"))\n",
    "print(f1_score(df['code'][2500:3500].tolist(), pred_even, average=\"macro\"))\n",
    "print(\"MCC\")\n",
    "print(matthews_corrcoef(df['code'][2500:3500].tolist(), pred))\n",
    "print(matthews_corrcoef(df['code'][2500:3500].tolist(), pred_even))\n",
    "print(\"Accuracy\")\n",
    "print(accuracy_score(df['code'][2500:3500].tolist(), pred))\n",
    "print(accuracy_score(df['code'][2500:3500].tolist(), pred_even))"
   ]
  },
  {
   "cell_type": "code",
   "execution_count": 8,
   "metadata": {},
   "outputs": [
    {
     "name": "stdout",
     "output_type": "stream",
     "text": [
      "F1 Score\n",
      "0.6969765214942665\n",
      "0.680103550567688\n",
      "MCC\n",
      "0.6918251118653097\n",
      "0.6686883947774092\n",
      "Accuracy\n",
      "0.767\n",
      "0.75\n"
     ]
    }
   ],
   "source": [
    "from sklearn.naive_bayes import GaussianNB\n",
    "model = GaussianNB()\n",
    "model_even = GaussianNB()\n",
    "# Fit models\n",
    "model.fit(df['scibert'][:2500].tolist(), df['code'][:2500].tolist())\n",
    "model_even.fit(even_df['scibert'].tolist(), even_df['code'].tolist())\n",
    "# Predictions for each model\n",
    "pred = model.predict(df['scibert'][2500:3500].tolist())\n",
    "pred_even = model_even.predict(df['scibert'][2500:3500].tolist())\n",
    "# Evaluate\n",
    "print(\"F1 Score\")\n",
    "print(f1_score(df['code'][2500:3500].tolist(), pred, average=\"macro\"))\n",
    "print(f1_score(df['code'][2500:3500].tolist(), pred_even, average=\"macro\"))\n",
    "print(\"MCC\")\n",
    "print(matthews_corrcoef(df['code'][2500:3500].tolist(), pred))\n",
    "print(matthews_corrcoef(df['code'][2500:3500].tolist(), pred_even))\n",
    "print(\"Accuracy\")\n",
    "print(accuracy_score(df['code'][2500:3500].tolist(), pred))\n",
    "print(accuracy_score(df['code'][2500:3500].tolist(), pred_even))"
   ]
  },
  {
   "cell_type": "code",
   "execution_count": 9,
   "metadata": {},
   "outputs": [
    {
     "name": "stdout",
     "output_type": "stream",
     "text": [
      "F1 Score\n",
      "0.46094697692739006\n",
      "0.4676075892099999\n",
      "MCC\n",
      "0.4103338396416756\n",
      "0.38655254976388786\n",
      "Accuracy\n",
      "0.559\n",
      "0.525\n"
     ]
    }
   ],
   "source": [
    "from sklearn.tree import DecisionTreeClassifier\n",
    "model = DecisionTreeClassifier()\n",
    "model_even = DecisionTreeClassifier()\n",
    "# Fit models\n",
    "model.fit(df['scibert'][:2500].tolist(), df['code'][:2500].tolist())\n",
    "model_even.fit(even_df['scibert'].tolist(), even_df['code'].tolist())\n",
    "# Predictions for each model\n",
    "pred = model.predict(df['scibert'][2500:3500].tolist())\n",
    "pred_even = model_even.predict(df['scibert'][2500:3500].tolist())\n",
    "# Evaluate\n",
    "print(\"F1 Score\")\n",
    "print(f1_score(df['code'][2500:3500].tolist(), pred, average=\"macro\"))\n",
    "print(f1_score(df['code'][2500:3500].tolist(), pred_even, average=\"macro\"))\n",
    "print(\"MCC\")\n",
    "print(matthews_corrcoef(df['code'][2500:3500].tolist(), pred))\n",
    "print(matthews_corrcoef(df['code'][2500:3500].tolist(), pred_even))\n",
    "print(\"Accuracy\")\n",
    "print(accuracy_score(df['code'][2500:3500].tolist(), pred))\n",
    "print(accuracy_score(df['code'][2500:3500].tolist(), pred_even))"
   ]
  },
  {
   "cell_type": "code",
   "execution_count": 10,
   "metadata": {},
   "outputs": [
    {
     "name": "stderr",
     "output_type": "stream",
     "text": [
      "/home/connor/anaconda3/lib/python3.7/site-packages/sklearn/svm/_base.py:947: ConvergenceWarning: Liblinear failed to converge, increase the number of iterations.\n",
      "  \"the number of iterations.\", ConvergenceWarning)\n"
     ]
    },
    {
     "name": "stdout",
     "output_type": "stream",
     "text": [
      "F1 Score\n",
      "0.6931498071426793\n",
      "0.6671190236890402\n",
      "MCC\n",
      "0.7125171448205804\n",
      "0.6789894636994003\n",
      "Accuracy\n",
      "0.787\n",
      "0.758\n"
     ]
    },
    {
     "name": "stderr",
     "output_type": "stream",
     "text": [
      "/home/connor/anaconda3/lib/python3.7/site-packages/sklearn/svm/_base.py:947: ConvergenceWarning: Liblinear failed to converge, increase the number of iterations.\n",
      "  \"the number of iterations.\", ConvergenceWarning)\n"
     ]
    }
   ],
   "source": [
    "from sklearn.svm import LinearSVC\n",
    "model = LinearSVC(multi_class=\"ovr\", max_iter=1000)\n",
    "model_even = LinearSVC(multi_class=\"ovr\", max_iter=1000)\n",
    "# Fit models\n",
    "model.fit(df['scibert'][:2500].tolist(), df['code'][:2500].tolist())\n",
    "model_even.fit(even_df['scibert'].tolist(), even_df['code'].tolist())\n",
    "# Predictions for each model\n",
    "pred = model.predict(df['scibert'][2500:3500].tolist())\n",
    "pred_even = model_even.predict(df['scibert'][2500:3500].tolist())\n",
    "# Evaluate\n",
    "print(\"F1 Score\")\n",
    "print(f1_score(df['code'][2500:3500].tolist(), pred, average=\"macro\"))\n",
    "print(f1_score(df['code'][2500:3500].tolist(), pred_even, average=\"macro\"))\n",
    "print(\"MCC\")\n",
    "print(matthews_corrcoef(df['code'][2500:3500].tolist(), pred))\n",
    "print(matthews_corrcoef(df['code'][2500:3500].tolist(), pred_even))\n",
    "print(\"Accuracy\")\n",
    "print(accuracy_score(df['code'][2500:3500].tolist(), pred))\n",
    "print(accuracy_score(df['code'][2500:3500].tolist(), pred_even))"
   ]
  },
  {
   "cell_type": "code",
   "execution_count": 38,
   "metadata": {},
   "outputs": [
    {
     "name": "stdout",
     "output_type": "stream",
     "text": [
      "F1 Score\n",
      "0.8361704245772058\n",
      "MCC\n",
      "0.7866132899786072\n",
      "Accuracy\n",
      "0.842\n",
      "              precision    recall  f1-score   support\n",
      "\n",
      "  BACKGROUND       0.62      0.70      0.66       127\n",
      " CONCLUSIONS       0.85      0.74      0.79       159\n",
      "     METHODS       0.90      0.95      0.92       340\n",
      "   OBJECTIVE       0.55      0.33      0.42        66\n",
      "     RESULTS       0.91      0.94      0.93       308\n",
      "\n",
      "    accuracy                           0.84      1000\n",
      "   macro avg       0.77      0.73      0.74      1000\n",
      "weighted avg       0.84      0.84      0.84      1000\n",
      "\n"
     ]
    },
    {
     "data": {
      "image/png": "[encoded data removed]",
      "text/plain": [
       "<Figure size 288x216 with 2 Axes>"
      ]
     },
     "metadata": {},
     "output_type": "display_data"
    }
   ],
   "source": [
    "from sklearn.svm import SVC\n",
    "model = SVC(kernel='rbf', gamma=0.02, C=2)\n",
    "# Fit models\n",
    "model.fit(df['scibert'][:2500].tolist(), df['label'][:2500].tolist())\n",
    "# Predictions for each model\n",
    "pred = model.predict(df['scibert'][2500:3500].tolist())\n",
    "\n",
    "# Evaluate\n",
    "print(\"F1 Score\")\n",
    "print(f1_score(df['label'][2500:3500].tolist(), pred, average=\"weighted\"))\n",
    "print(\"MCC\")\n",
    "print(matthews_corrcoef(df['label'][2500:3500].tolist(), pred))\n",
    "print(\"Accuracy\")\n",
    "print(accuracy_score(df['label'][2500:3500].tolist(), pred))\n",
    "print(classification_report(df['label'][2500:3500].tolist(), pred))\n",
    "# Confusion Matrix\n",
    "labels = [\"BACKGROUND\", \"CONCLUSIONS\", \"METHODS\", \"OBJECTIVE\", \"RESULTS\"]\n",
    "conf_matrix = confusion_matrix(df['label'][2500:3500].tolist(), pred)\n",
    "# perc_matrix = conf_matrix/np.sum(conf_matrix)\n",
    "df_cm = pd.DataFrame(conf_matrix, columns=labels, index=labels)\n",
    "df_cm.index.name = 'Actual'\n",
    "df_cm.columns.name = 'Predicted'\n",
    "plt.figure(figsize = (4,3))\n",
    "sns.set(font_scale=1.2)#for label size\n",
    "sns.heatmap(df_cm, fmt='d', cmap=\"Blues\", annot=True, annot_kws={\"size\": 12})# font size\n",
    "plt.show()"
   ]
  },
  {
   "cell_type": "code",
   "execution_count": 81,
   "metadata": {},
   "outputs": [
    {
     "data": {
      "image/png": "[encoded data removed]",
      "text/plain": [
       "<Figure size 1080x576 with 1 Axes>"
      ]
     },
     "metadata": {},
     "output_type": "display_data"
    }
   ],
   "source": [
    "# from sklearn.svm import SVC\n",
    "# model = SVC(kernel='rbf', gamma=0.02, C=2)\n",
    "# from sklearn.svm import LinearSVC\n",
    "# model = LinearSVC()\n",
    "from sklearn.linear_model import LogisticRegression\n",
    "model = LogisticRegression()\n",
    "# Fit models\n",
    "# Predictions for each model\n",
    "\n",
    "f1 = []\n",
    "mcc = []\n",
    "acc = []\n",
    "\n",
    "for i in range(51):\n",
    "    if i > 2:\n",
    "        model.fit(train_data[:i], train_labels[:i])\n",
    "        pred = model.predict(test_data)\n",
    "        # Evaluate\n",
    "        f1.append(f1_score(test_labels, pred, pos_label=\"METHODS\"))\n",
    "        mcc.append(matthews_corrcoef(test_labels, pred))\n",
    "        acc.append(accuracy_score(test_labels, pred))\n",
    "#     print(confusion_matrix(test_labels, pred))\n",
    "        \n",
    "plt.figure(figsize = (15,8))\n",
    "plt.yticks(np.arange(0, 1, step=0.1))\n",
    "f, = plt.plot(range(50)[2:], f1)\n",
    "m, = plt.plot(range(50)[2:], mcc)\n",
    "a, = plt.plot(range(50)[2:], acc)\n",
    "plt.legend([f, m, a], [\"f1\", \"mcc\", \"accuracy\"])\n",
    "plt.show()"
   ]
  },
  {
   "cell_type": "code",
   "execution_count": 12,
   "metadata": {},
   "outputs": [
    {
     "name": "stdout",
     "output_type": "stream",
     "text": [
      "F1 Score\n",
      "0.8550125317616566\n",
      "MCC\n",
      "0.8059755465029053\n",
      "Accuracy\n",
      "0.8562\n",
      "              precision    recall  f1-score   support\n",
      "\n",
      "  BACKGROUND       0.66      0.68      0.67      1092\n",
      " CONCLUSIONS       0.84      0.83      0.83      1501\n",
      "     METHODS       0.89      0.95      0.92      3260\n",
      "   OBJECTIVE       0.72      0.61      0.66       819\n",
      "     RESULTS       0.93      0.90      0.91      3328\n",
      "\n",
      "    accuracy                           0.86     10000\n",
      "   macro avg       0.81      0.79      0.80     10000\n",
      "weighted avg       0.86      0.86      0.86     10000\n",
      "\n"
     ]
    },
    {
     "data": {
      "image/png": "[encoded data removed]",
      "text/plain": [
       "<Figure size 288x216 with 2 Axes>"
      ]
     },
     "metadata": {},
     "output_type": "display_data"
    }
   ],
   "source": [
    "from sklearn.svm import SVC\n",
    "model = SVC()\n",
    "# Fit models\n",
    "model.fit(df['scibert'][:25000].tolist(), df['label'][:25000].tolist())\n",
    "# Predictions for each model\n",
    "pred = model.predict(df['scibert'][25000:35000].tolist())\n",
    "\n",
    "# Evaluate\n",
    "print(\"F1 Score\")\n",
    "print(f1_score(df['label'][25000:35000].tolist(), pred, average=\"weighted\"))\n",
    "print(\"MCC\")\n",
    "print(matthews_corrcoef(df['label'][25000:35000].tolist(), pred))\n",
    "print(\"Accuracy\")\n",
    "print(accuracy_score(df['label'][25000:35000].tolist(), pred))\n",
    "print(classification_report(df['label'][25000:35000].tolist(), pred))\n",
    "# Confusion Matrix\n",
    "labels = [\"BACKGROUND\", \"CONCLUSIONS\", \"METHODS\", \"OBJECTIVE\", \"RESULTS\"]\n",
    "conf_matrix = confusion_matrix(df['label'][25000:35000].tolist(), pred)\n",
    "# perc_matrix = conf_matrix/np.sum(conf_matrix)\n",
    "df_cm = pd.DataFrame(conf_matrix, columns=labels, index=labels)\n",
    "df_cm.index.name = 'Actual'\n",
    "df_cm.columns.name = 'Predicted'\n",
    "plt.figure(figsize = (4,3))\n",
    "sns.set(font_scale=1.2)#for label size\n",
    "sns.heatmap(df_cm, fmt='d', cmap=\"Blues\", annot=True, annot_kws={\"size\": 12})# font size\n",
    "plt.show()"
   ]
  },
  {
   "cell_type": "code",
   "execution_count": 13,
   "metadata": {},
   "outputs": [
    {
     "name": "stdout",
     "output_type": "stream",
     "text": [
      "F1 Score\n",
      "0.8627758978544143\n",
      "MCC\n",
      "0.8165048908888648\n",
      "Accuracy\n",
      "0.8639\n",
      "              precision    recall  f1-score   support\n",
      "\n",
      "  BACKGROUND       0.66      0.72      0.69      1092\n",
      " CONCLUSIONS       0.84      0.84      0.84      1501\n",
      "     METHODS       0.90      0.95      0.93      3260\n",
      "   OBJECTIVE       0.74      0.59      0.66       819\n",
      "     RESULTS       0.94      0.90      0.92      3328\n",
      "\n",
      "    accuracy                           0.86     10000\n",
      "   macro avg       0.82      0.80      0.81     10000\n",
      "weighted avg       0.86      0.86      0.86     10000\n",
      "\n"
     ]
    },
    {
     "data": {
      "image/png": "[encoded data removed]",
      "text/plain": [
       "<Figure size 288x216 with 2 Axes>"
      ]
     },
     "metadata": {},
     "output_type": "display_data"
    }
   ],
   "source": [
    "fro m sklearn.svm import SVC\n",
    "model = SVC(kernel='rbf', gamma=0.02, C=2)\n",
    "# Fit models\n",
    "model.fit(df['scibert'][:25000].tolist(), df['label'][:25000].tolist())\n",
    "# Predictions for each model\n",
    "pred = model.predict(df['scibert'][25000:35000].tolist())\n",
    "\n",
    "# Evaluate\n",
    "print(\"F1 Score\")\n",
    "print(f1_score(df['label'][25000:35000].tolist(), pred, average=\"weighted\"))\n",
    "print(\"MCC\")\n",
    "print(matthews_corrcoef(df['label'][25000:35000].tolist(), pred))\n",
    "print(\"Accuracy\")\n",
    "print(accuracy_score(df['label'][25000:35000].tolist(), pred))\n",
    "print(classification_report(df['label'][25000:35000].tolist(), pred))\n",
    "# Confusion Matrix\n",
    "labels = [\"BACKGROUND\", \"CONCLUSIONS\", \"METHODS\", \"OBJECTIVE\", \"RESULTS\"]\n",
    "conf_matrix = confusion_matrix(df['label'][25000:35000].tolist(), pred)\n",
    "# perc_matrix = conf_matrix/np.sum(conf_matrix)\n",
    "df_cm = pd.DataFrame(conf_matrix, columns=labels, index=labels)\n",
    "df_cm.index.name = 'Actual'\n",
    "df_cm.columns.name = 'Predicted'\n",
    "plt.figure(figsize = (4,3))\n",
    "sns.set(font_scale=1.2)#for label size\n",
    "sns.heatmap(df_cm, fmt='d', cmap=\"Blues\", annot=True, annot_kws={\"size\": 12})# font size\n",
    "plt.show()"
   ]
  },
  {
   "cell_type": "code",
   "execution_count": 80,
   "metadata": {},
   "outputs": [
    {
     "name": "stdout",
     "output_type": "stream",
     "text": [
      "0.7675276421811181\n",
      "0.7119328931803347\n",
      "0.769\n",
      "[[127  11   9  52   1]\n",
      " [ 13 163   4   2  18]\n",
      " [  8   1 186   2   3]\n",
      " [ 55   4  15 126   0]\n",
      " [  1  14  18   0 167]]\n"
     ]
    }
   ],
   "source": [
    "# Even data\n",
    "from sklearn.svm import SVC\n",
    "model_even = SVC(kernel='rbf', gamma=0.02, C=2)\n",
    "model_even.fit(even_df['scibert'].tolist(), even_df['code'].tolist())\n",
    "pred_even = model_even.predict(even_test['scibert'].tolist())\n",
    "print(f1_score(even_test['code'].tolist(), pred_even, average=\"macro\"))\n",
    "print(matthews_corrcoef(even_test['code'].tolist(), pred_even))\n",
    "print(accuracy_score(even_test['code'].tolist(), pred_even))\n",
    "print(confusion_matrix(even_test['code'].tolist(), pred_even))"
   ]
  },
  {
   "cell_type": "code",
   "execution_count": 22,
   "metadata": {},
   "outputs": [
    {
     "name": "stdout",
     "output_type": "stream",
     "text": [
      "F1 Score\n",
      "0.7231861816607512\n",
      "0.7153398986547954\n",
      "MCC\n",
      "0.7527761095624504\n",
      "0.7345170631965806\n",
      "Accuracy\n",
      "0.817\n",
      "0.802\n",
      "[[ 71  16   3  32   5]\n",
      " [ 16 113   3  10  17]\n",
      " [ 13   0 309   5  13]\n",
      " [ 19   6   5  35   1]\n",
      " [  1  14  18   1 274]]\n"
     ]
    }
   ],
   "source": [
    "from sklearn.linear_model import LogisticRegression\n",
    "model = LogisticRegression(multi_class=\"ovr\", max_iter=1000)\n",
    "model_even = LogisticRegression(multi_class=\"ovr\", max_iter=1000)\n",
    "# Fit models\n",
    "model.fit(df['scibert'][:2500].tolist(), df['code'][:2500].tolist())\n",
    "model_even.fit(even_df['scibert'].tolist(), even_df['code'].tolist())\n",
    "# Predictions for each model\n",
    "pred = model.predict(df['scibert'][2500:3500].tolist())\n",
    "pred_even = model_even.predict(df['scibert'][2500:3500].tolist())\n",
    "# Evaluate\n",
    "print(\"F1 Score\")\n",
    "print(f1_score(df['code'][2500:3500].tolist(), pred, average=\"macro\"))\n",
    "print(f1_score(df['code'][2500:3500].tolist(), pred_even, average=\"macro\"))\n",
    "print(\"MCC\")\n",
    "print(matthews_corrcoef(df['code'][2500:3500].tolist(), pred))\n",
    "print(matthews_corrcoef(df['code'][2500:3500].tolist(), pred_even))\n",
    "print(\"Accuracy\")\n",
    "print(accuracy_score(df['code'][2500:3500].tolist(), pred))\n",
    "print(accuracy_score(df['code'][2500:3500].tolist(), pred_even))\n",
    "print(confusion_matrix(df['code'][2500:3500].tolist(), pred_even))"
   ]
  },
  {
   "cell_type": "code",
   "execution_count": 16,
   "metadata": {},
   "outputs": [
    {
     "name": "stdout",
     "output_type": "stream",
     "text": [
      "F1 Score\n",
      "0.7058321377086436\n",
      "0.7256700391541749\n",
      "MCC\n",
      "0.7370274149726393\n",
      "0.7448034226562301\n",
      "Accuracy\n",
      "0.805\n",
      "0.809\n"
     ]
    }
   ],
   "source": [
    "from sklearn.neural_network import MLPClassifier\n",
    "model = MLPClassifier()\n",
    "model_even = MLPClassifier()\n",
    "# Fit models\n",
    "model.fit(df['scibert'][:2500].tolist(), df['code'][:2500].tolist())\n",
    "model_even.fit(even_df['scibert'].tolist(), even_df['code'].tolist())\n",
    "# Predictions for each model\n",
    "pred = model.predict(df['scibert'][2500:3500].tolist())\n",
    "pred_even = model_even.predict(df['scibert'][2500:3500].tolist())\n",
    "# Evaluate\n",
    "print(\"F1 Score\")\n",
    "print(f1_score(df['code'][2500:3500].tolist(), pred, average=\"macro\"))\n",
    "print(f1_score(df['code'][2500:3500].tolist(), pred_even, average=\"macro\"))\n",
    "print(\"MCC\")\n",
    "print(matthews_corrcoef(df['code'][2500:3500].tolist(), pred))\n",
    "print(matthews_corrcoef(df['code'][2500:3500].tolist(), pred_even))\n",
    "print(\"Accuracy\")\n",
    "print(accuracy_score(df['code'][2500:3500].tolist(), pred))\n",
    "print(accuracy_score(df['code'][2500:3500].tolist(), pred_even))"
   ]
  },
  {
   "cell_type": "code",
   "execution_count": 17,
   "metadata": {},
   "outputs": [
    {
     "name": "stdout",
     "output_type": "stream",
     "text": [
      "F1 Score\n",
      "0.6976264130136529\n",
      "0.7122919005635008\n",
      "MCC\n",
      "0.7286235564447606\n",
      "0.7298053612649003\n",
      "Accuracy\n",
      "0.798\n",
      "0.799\n"
     ]
    }
   ],
   "source": [
    "from sklearn.linear_model import Perceptron\n",
    "model = Perceptron()\n",
    "model_even = Perceptron()\n",
    "# Fit models\n",
    "model.fit(df['scibert'][:2500].tolist(), df['code'][:2500].tolist())\n",
    "model_even.fit(even_df['scibert'].tolist(), even_df['code'].tolist())\n",
    "# Predictions for each model\n",
    "pred = model.predict(df['scibert'][2500:3500].tolist())\n",
    "pred_even = model_even.predict(df['scibert'][2500:3500].tolist())\n",
    "# Evaluate\n",
    "print(\"F1 Score\")\n",
    "print(f1_score(df['code'][2500:3500].tolist(), pred, average=\"macro\"))\n",
    "print(f1_score(df['code'][2500:3500].tolist(), pred_even, average=\"macro\"))\n",
    "print(\"MCC\")\n",
    "print(matthews_corrcoef(df['code'][2500:3500].tolist(), pred))\n",
    "print(matthews_corrcoef(df['code'][2500:3500].tolist(), pred_even))\n",
    "print(\"Accuracy\")\n",
    "print(accuracy_score(df['code'][2500:3500].tolist(), pred))\n",
    "print(accuracy_score(df['code'][2500:3500].tolist(), pred_even))"
   ]
  },
  {
   "cell_type": "code",
   "execution_count": 140,
   "metadata": {},
   "outputs": [
    {
     "name": "stdout",
     "output_type": "stream",
     "text": [
      "Epoch 1/4\n",
      "79/79 [==============================] - 1s 13ms/step - loss: 0.7245 - accuracy: 0.7280 - val_loss: 0.5772 - val_accuracy: 0.8020\n",
      "Epoch 2/4\n",
      "79/79 [==============================] - 1s 8ms/step - loss: 0.4701 - accuracy: 0.8300 - val_loss: 0.5675 - val_accuracy: 0.8090\n",
      "Epoch 3/4\n",
      "79/79 [==============================] - 1s 9ms/step - loss: 0.3893 - accuracy: 0.8580 - val_loss: 0.6605 - val_accuracy: 0.7610\n",
      "Epoch 4/4\n",
      "79/79 [==============================] - 1s 11ms/step - loss: 0.3543 - accuracy: 0.8656 - val_loss: 0.5173 - val_accuracy: 0.8220\n",
      "32/32 [==============================] - 0s 3ms/step - loss: 0.5173 - accuracy: 0.8220\n",
      "\n",
      "Eval loss: 0.517, Eval accuracy: 0.822\n",
      "F1 Score\n",
      "0.7312273609053561\n",
      "MCC\n",
      "0.7599122337675305\n",
      "Accuracy\n",
      "0.822\n",
      "Confusion Matrix\n",
      "[[ 86  12   9  16   4]\n",
      " [ 21 111   5   3  19]\n",
      " [ 10   1 319   3   7]\n",
      " [ 29   5   5  26   1]\n",
      " [  0   7  21   0 280]]\n"
     ]
    }
   ],
   "source": [
    "# Tensorflow NN\n",
    "import numpy as np\n",
    "\n",
    "# Build model\n",
    "model = tf.keras.Sequential()\n",
    "\n",
    "model.add(tf.keras.layers.Dense(768, activation='relu'))\n",
    "model.add(tf.keras.layers.Dropout(0.2))\n",
    "model.add(tf.keras.layers.Dense(64, activation='relu'))\n",
    "\n",
    "# Output layer. The first argument is the number of labels.\n",
    "model.add(tf.keras.layers.Dense(5))\n",
    "\n",
    "model.compile(optimizer='adam',\n",
    "              loss=tf.keras.losses.SparseCategoricalCrossentropy(from_logits=True),\n",
    "              metrics=['accuracy'])\n",
    "\n",
    "train_em = df['scibert'][:2500]\n",
    "train_em = np.array(train_em.tolist())\n",
    "train_label = df['code'][:2500]\n",
    "train_label = np.array(train_label.tolist())\n",
    "\n",
    "test_em = df['scibert'][2500:3500]\n",
    "test_em = np.array(test_em.tolist())\n",
    "test_label = df['code'][2500:3500]\n",
    "test_label = np.array(test_label.tolist())\n",
    "\n",
    "# Fit Model\n",
    "model.fit(train_em, train_label, epochs=4, validation_data=(test_em, test_label))\n",
    "\n",
    "eval_loss, eval_acc = model.evaluate(test_em, test_label)\n",
    "print('\\nEval loss: {:.3f}, Eval accuracy: {:.3f}'.format(eval_loss, eval_acc))\n",
    "\n",
    "pred = model.predict(test_em).argmax(axis=-1)\n",
    "\n",
    "# Evaluate\n",
    "print(\"F1 Score\")\n",
    "print(f1_score(df['code'][2500:3500].tolist(), pred, average=\"macro\"))\n",
    "print(\"MCC\")\n",
    "print(matthews_corrcoef(df['code'][2500:3500].tolist(), pred))\n",
    "print(\"Accuracy\")\n",
    "print(accuracy_score(df['code'][2500:3500].tolist(), pred))\n",
    "print(\"Confusion Matrix\")\n",
    "print(confusion_matrix(df['code'][2500:3500].tolist(), pred))"
   ]
  }
 ],
 "metadata": {
  "colab": {
   "collapsed_sections": [],
   "name": "Pubmed_20k_Pandas.ipynb",
   "provenance": [],
   "toc_visible": true
  },
  "kernelspec": {
   "display_name": "Python 3",
   "language": "python",
   "name": "python3"
  },
  "language_info": {
   "codemirror_mode": {
    "name": "ipython",
    "version": 3
   },
   "file_extension": ".py",
   "mimetype": "text/x-python",
   "name": "python",
   "nbconvert_exporter": "python",
   "pygments_lexer": "ipython3",
   "version": "3.7.6"
  }
 },
 "nbformat": 4,
 "nbformat_minor": 1
}
