{
 "cells": [
  {
   "cell_type": "code",
   "execution_count": 6,
   "metadata": {
    "id": "Kcl0YURr1yHO"
   },
   "outputs": [],
   "source": [
    "import pandas as pd\n",
    "\n",
    "import matplotlib.pyplot as plt\n",
    "\n",
    "import tensorflow as tf\n",
    "from tensorflow import keras\n",
    "from tensorflow.keras import layers"
   ]
  },
  {
   "cell_type": "markdown",
   "metadata": {
    "id": "Eg9vHsH0pn_U"
   },
   "source": [
    "# Import and Preprocess/Format Data"
   ]
  },
  {
   "cell_type": "code",
   "execution_count": 2,
   "metadata": {
    "id": "6aFAYwJFHPwp"
   },
   "outputs": [],
   "source": [
    "# Function which does everything below at once\n",
    "def open_format_data(filename):\n",
    "  # Save data from txt into list\n",
    "  f = open(filename, \"r\")\n",
    "\n",
    "  list_data = []\n",
    "  for x in f:\n",
    "      list_data.append(f.readline().rstrip().split(\"\\t\"))\n",
    "\n",
    "  # Load list into dataframe\n",
    "  column_names = ['label', \"sentence\"]\n",
    "  df = pd.DataFrame(list_data, columns= column_names)\n",
    "  df.head(10)\n",
    "\n",
    "  # Drop any null values\n",
    "  df = df.dropna()\n",
    "\n",
    "  # Drop duplicates\n",
    "  df = df.drop_duplicates()\n",
    "\n",
    "  # Append number representing label as code\n",
    "  df.label = pd.Categorical(df.label)\n",
    "  df['code'] = df.label.cat.codes\n",
    "  return df"
   ]
  },
  {
   "cell_type": "code",
   "execution_count": 3,
   "metadata": {
    "id": "qyP98KpnHvv0"
   },
   "outputs": [],
   "source": [
    "df = open_format_data(\"train.txt\")"
   ]
  },
  {
   "cell_type": "code",
   "execution_count": null,
   "metadata": {
    "id": "PTvVH5UyHsTX"
   },
   "outputs": [],
   "source": [
    "# Save data from txt into list\n",
    "f = open(\"/content/drive/My Drive/Griffith/Data Mining/train.txt\", \"r\")\n",
    "\n",
    "list_data = []\n",
    "for x in f:\n",
    "    list_data.append(f.readline().rstrip().split(\"\\t\"))\n",
    "\n",
    "print(list_data[:5])"
   ]
  },
  {
   "cell_type": "code",
   "execution_count": null,
   "metadata": {
    "colab": {
     "base_uri": "https://localhost:8080/",
     "height": 359
    },
    "id": "ddlcuFZy2Sg0",
    "outputId": "e15c2ce5-35e4-4d71-ed85-52e0f4fa361d"
   },
   "outputs": [],
   "source": [
    "# Load list into dataframe\n",
    "column_names = ['label', \"sentence\"]\n",
    "df = pd.DataFrame(list_data, columns= column_names)\n",
    "df.head(10)"
   ]
  },
  {
   "cell_type": "code",
   "execution_count": null,
   "metadata": {
    "colab": {
     "base_uri": "https://localhost:8080/",
     "height": 68
    },
    "id": "bCrHecKv2T6G",
    "outputId": "82cdc603-84f2-4bfd-85e5-5b32e2e7e8d7"
   },
   "outputs": [],
   "source": [
    "# Count all null values\n",
    "df.isna().sum()"
   ]
  },
  {
   "cell_type": "code",
   "execution_count": null,
   "metadata": {
    "colab": {
     "base_uri": "https://localhost:8080/",
     "height": 68
    },
    "id": "0tcXakJo2WJA",
    "outputId": "2e2cb3c1-f719-477a-89cf-d08edc5621f7"
   },
   "outputs": [],
   "source": [
    "# Drop any null values\n",
    "df = df.dropna()\n",
    "df.isna().sum()"
   ]
  },
  {
   "cell_type": "code",
   "execution_count": null,
   "metadata": {
    "colab": {
     "base_uri": "https://localhost:8080/",
     "height": 34
    },
    "id": "tz6IRB2X2Y1Z",
    "outputId": "be6a0df9-a8e3-4d76-c40f-f21fbed5a1dd"
   },
   "outputs": [],
   "source": [
    "# Detect duplicates\n",
    "df.duplicated().sum()"
   ]
  },
  {
   "cell_type": "code",
   "execution_count": null,
   "metadata": {
    "colab": {
     "base_uri": "https://localhost:8080/",
     "height": 34
    },
    "id": "1CwPAgHx2Z7r",
    "outputId": "7aa74ead-b74c-4048-91e9-58b5e32c6268"
   },
   "outputs": [],
   "source": [
    "# Drop duplicates\n",
    "df = df.drop_duplicates()\n",
    "df.duplicated().sum()"
   ]
  },
  {
   "cell_type": "code",
   "execution_count": null,
   "metadata": {
    "colab": {
     "base_uri": "https://localhost:8080/",
     "height": 204
    },
    "id": "TYiU8VB725XV",
    "outputId": "7ca850a4-3cfa-4ebe-f59b-1728132a94a1"
   },
   "outputs": [],
   "source": [
    "# Append number representing label as code\n",
    "df.label = pd.Categorical(df.label)\n",
    "df['code'] = df.label.cat.codes\n",
    "df.head()"
   ]
  },
  {
   "cell_type": "markdown",
   "metadata": {
    "id": "r0QiFmEMphvr"
   },
   "source": [
    "# Data Exploration"
   ]
  },
  {
   "cell_type": "code",
   "execution_count": null,
   "metadata": {
    "colab": {
     "base_uri": "https://localhost:8080/",
     "height": 163
    },
    "id": "FiwPvz1bpy91",
    "outputId": "22af54a2-4c23-4801-9700-cbe23b8f9a37"
   },
   "outputs": [],
   "source": [
    "df.count()"
   ]
  },
  {
   "cell_type": "code",
   "execution_count": null,
   "metadata": {
    "colab": {
     "base_uri": "https://localhost:8080/",
     "height": 85
    },
    "id": "nIadEZxtqNDg",
    "outputId": "9ef35a7c-7ea5-428d-a80c-98059140eebc"
   },
   "outputs": [],
   "source": [
    "df.dtypes"
   ]
  },
  {
   "cell_type": "code",
   "execution_count": null,
   "metadata": {
    "colab": {
     "base_uri": "https://localhost:8080/",
     "height": 235
    },
    "id": "2EIxdIgOkNiW",
    "outputId": "73d79ed3-a443-43e6-d368-f0b0a139345e"
   },
   "outputs": [],
   "source": [
    "df.groupby(\"label\").count()"
   ]
  },
  {
   "cell_type": "code",
   "execution_count": null,
   "metadata": {
    "colab": {
     "base_uri": "https://localhost:8080/",
     "height": 341
    },
    "id": "wBk2y4aeVnl_",
    "outputId": "8f55898b-2d00-48c9-ab3e-5e29e7c3e75d"
   },
   "outputs": [],
   "source": [
    "df.groupby(\"label\")['sentence'].count().plot.bar()\n",
    "plt.xlabel(\"Class\")\n",
    "plt.ylabel(\"Frequency\")\n",
    "plt.show()"
   ]
  },
  {
   "cell_type": "markdown",
   "metadata": {
    "id": "8ERuUgqEpX0I"
   },
   "source": [
    "# Tensorflow Data Formatting and Encoding"
   ]
  },
  {
   "cell_type": "code",
   "execution_count": null,
   "metadata": {
    "colab": {
     "base_uri": "https://localhost:8080/",
     "height": 122
    },
    "id": "ZtcKaqio4Yb5",
    "outputId": "1c9a94ac-5cbf-43e2-8910-2feafa346f7d"
   },
   "outputs": [],
   "source": [
    "# Load into tensorflow dataset\n",
    "train_dataset = tf.data.Dataset.from_tensor_slices((df.sentence, df.code))\n",
    "for b in train_dataset.take(5):\n",
    "  print(b)"
   ]
  },
  {
   "cell_type": "code",
   "execution_count": null,
   "metadata": {
    "colab": {
     "base_uri": "https://localhost:8080/",
     "height": 34
    },
    "id": "u41AF_t87Hsk",
    "outputId": "224f6c3b-ece9-4121-8f29-36f3a4c6f26c"
   },
   "outputs": [],
   "source": [
    "# Generate vocab\n",
    "tokenizer = tfds.features.text.Tokenizer()\n",
    "\n",
    "vocabulary_set = set()\n",
    "for text_tensor, _ in train_dataset:\n",
    "  some_tokens = tokenizer.tokenize(text_tensor.numpy())\n",
    "  vocabulary_set.update(some_tokens)\n",
    "\n",
    "vocab_size = len(vocabulary_set)\n",
    "# Increase vocab size for padding value (0)\n",
    "vocab_size += 1\n",
    "vocab_size"
   ]
  },
  {
   "cell_type": "code",
   "execution_count": null,
   "metadata": {
    "id": "J4xx2yBD7gTJ"
   },
   "outputs": [],
   "source": [
    "# Setup encoder\n",
    "encoder = tfds.features.text.TokenTextEncoder(vocabulary_set)\n",
    "\n",
    "def encode(text_tensor, label):\n",
    "  encoded_text = encoder.encode(text_tensor.numpy())\n",
    "  return encoded_text, label\n",
    "\n",
    "def encode_map_fn(text, label):\n",
    "  # py_func doesn't set the shape of the returned tensors.\n",
    "  encoded_text, label = tf.py_function(encode, \n",
    "                                       inp=[text, label], \n",
    "                                       Tout=(tf.int64, tf.int8))\n",
    "\n",
    "  # `tf.data.Datasets` work best if all components have a shape set\n",
    "  #  so set the shapes manually: \n",
    "  encoded_text.set_shape([None])\n",
    "  label.set_shape([])\n",
    "\n",
    "  return encoded_text, label"
   ]
  },
  {
   "cell_type": "code",
   "execution_count": null,
   "metadata": {
    "colab": {
     "base_uri": "https://localhost:8080/",
     "height": 71
    },
    "id": "Gn5PgB2UolOg",
    "outputId": "e211010d-1bb0-4562-f54e-5cc940175277"
   },
   "outputs": [],
   "source": [
    "example_text = next(iter(train_dataset))[0].numpy()\n",
    "example_text = next(iter(train_dataset))[0].numpy()\n",
    "print(example_text)\n",
    "encoded_example = encoder.encode(example_text)\n",
    "print(encoded_example)"
   ]
  },
  {
   "cell_type": "code",
   "execution_count": null,
   "metadata": {
    "colab": {
     "base_uri": "https://localhost:8080/",
     "height": 408
    },
    "id": "5QJuPtEL7loC",
    "outputId": "6e404f47-2ca9-45e7-c9b6-f70f1ceca3b7"
   },
   "outputs": [],
   "source": [
    "# Encode sentences\n",
    "all_encoded_data = train_dataset.map(encode_map_fn)\n",
    "for ex in all_encoded_data.take(5):\n",
    "  print(ex)"
   ]
  },
  {
   "cell_type": "code",
   "execution_count": null,
   "metadata": {
    "id": "q_-4yjieB-7F"
   },
   "outputs": [],
   "source": [
    "# Shuffle into train/test data and add \n",
    "BUFFER_SIZE = 50000\n",
    "BATCH_SIZE = 64\n",
    "TAKE_SIZE = 2000\n",
    "\n",
    "train_data = all_encoded_data.skip(TAKE_SIZE).shuffle(BUFFER_SIZE)\n",
    "train_data = train_data.padded_batch(BATCH_SIZE)\n",
    "\n",
    "test_data = all_encoded_data.take(TAKE_SIZE)\n",
    "test_data = test_data.padded_batch(BATCH_SIZE)"
   ]
  },
  {
   "cell_type": "code",
   "execution_count": null,
   "metadata": {
    "colab": {
     "base_uri": "https://localhost:8080/",
     "height": 255
    },
    "id": "Kfe1yIAUCxnA",
    "outputId": "e9560bf0-f880-41ab-8d87-64de18ff2d11"
   },
   "outputs": [],
   "source": [
    "sample_text, sample_labels = next(iter(train_data))\n",
    "\n",
    "sample_text[0], encoder.decode(sample_text[0].numpy()), sample_labels[0]"
   ]
  },
  {
   "cell_type": "markdown",
   "metadata": {
    "id": "2jIPas-ktM7Q"
   },
   "source": [
    "# Tensorflow Basic Model"
   ]
  },
  {
   "cell_type": "code",
   "execution_count": null,
   "metadata": {
    "colab": {
     "base_uri": "https://localhost:8080/",
     "height": 231
    },
    "id": "zZNCRVQjC7zX",
    "outputId": "b26b2b04-93ec-43f0-8f7a-c536cb1f6231"
   },
   "outputs": [],
   "source": [
    "# Build model\n",
    "model = tf.keras.Sequential()\n",
    "model.add(tf.keras.layers.Embedding(vocab_size, 64))\n",
    "model.add(tf.keras.layers.Bidirectional(tf.keras.layers.LSTM(64)))\n",
    "\n",
    "# One or more dense layers.\n",
    "# Edit the list in the `for` line to experiment with layer sizes.\n",
    "for units in [64, 64]:\n",
    "  model.add(tf.keras.layers.Dense(units, activation='relu'))\n",
    "\n",
    "# Output layer. The first argument is the number of labels.\n",
    "model.add(tf.keras.layers.Dense(5))\n",
    "\n",
    "model.compile(optimizer='adam',\n",
    "              loss=tf.keras.losses.SparseCategoricalCrossentropy(from_logits=True),\n",
    "              metrics=['accuracy'])"
   ]
  },
  {
   "cell_type": "code",
   "execution_count": null,
   "metadata": {
    "colab": {
     "base_uri": "https://localhost:8080/",
     "height": 323
    },
    "id": "YLyHFC9uElSp",
    "outputId": "4fcdf5dd-13a4-46ca-d108-b3f736d35d3e"
   },
   "outputs": [],
   "source": [
    "model.fit(train_data, epochs=3, validation_data=test_data)"
   ]
  },
  {
   "cell_type": "code",
   "execution_count": null,
   "metadata": {
    "id": "yEht5nKQE1N1"
   },
   "outputs": [],
   "source": [
    "eval_loss, eval_acc = model.evaluate(test_data)\n",
    "\n",
    "print('\\nEval loss: {:.3f}, Eval accuracy: {:.3f}'.format(eval_loss, eval_acc))"
   ]
  },
  {
   "cell_type": "markdown",
   "metadata": {
    "id": "uBS-AG2BtVwV"
   },
   "source": [
    "# Tensorflow Word Embedding"
   ]
  },
  {
   "cell_type": "code",
   "execution_count": null,
   "metadata": {
    "colab": {
     "base_uri": "https://localhost:8080/",
     "height": 85
    },
    "id": "tEJ5-CL0tYQw",
    "outputId": "2da6b012-c592-4ae9-878f-7842dbb71618"
   },
   "outputs": [],
   "source": [
    "embedding_layer = layers.Embedding(1000, 5)\n",
    "result = embedding_layer(tf.constant([1,2,3]))\n",
    "result.numpy()"
   ]
  },
  {
   "cell_type": "code",
   "execution_count": null,
   "metadata": {
    "colab": {
     "base_uri": "https://localhost:8080/",
     "height": 255
    },
    "id": "Fy8fAq1Runpu",
    "outputId": "acf37ef9-c0b2-4982-bf19-537473e20440"
   },
   "outputs": [],
   "source": [
    "embedding_dim=16\n",
    "\n",
    "model = keras.Sequential([\n",
    "  layers.Embedding(vocab_size, embedding_dim),\n",
    "  layers.GlobalAveragePooling1D(),\n",
    "  # layers.Dense(16, activation='relu'),\n",
    "  layers.Dense(5)\n",
    "])\n",
    "\n",
    "model.summary()"
   ]
  },
  {
   "cell_type": "code",
   "execution_count": null,
   "metadata": {
    "colab": {
     "base_uri": "https://localhost:8080/",
     "height": 119
    },
    "id": "N4JZBdrauwia",
    "outputId": "6411e144-6fba-4a11-c12b-f4aa239f75b0"
   },
   "outputs": [],
   "source": [
    "model.compile(optimizer='adam',\n",
    "              loss=tf.keras.losses.SparseCategoricalCrossentropy(from_logits=True),\n",
    "              metrics=['accuracy'])\n",
    "\n",
    "history = model.fit(\n",
    "    train_data,\n",
    "    epochs=3,\n",
    "    validation_data=test_data, validation_steps=20)"
   ]
  },
  {
   "cell_type": "code",
   "execution_count": null,
   "metadata": {
    "colab": {
     "base_uri": "https://localhost:8080/",
     "height": 34
    },
    "id": "SI1vWUD4zOm7",
    "outputId": "0814cf37-3200-456a-b223-bebcda916de9"
   },
   "outputs": [],
   "source": [
    "# Retrive the learned embeddings\n",
    "e = model.layers[0]\n",
    "weights = e.get_weights()[0]\n",
    "print(weights.shape) # shape: (vocab_size, embedding_dim)\n",
    "\n",
    "# Save to disk\n",
    "import io\n",
    "\n",
    "out_v = io.open('vecs.tsv', 'w', encoding='utf-8')\n",
    "out_m = io.open('meta.tsv', 'w', encoding='utf-8')\n",
    "\n",
    "for num, word in enumerate(encoder.tokens):\n",
    "  vec = weights[num+1] # skip 0, it's padding.\n",
    "  out_m.write(word + \"\\n\")\n",
    "  out_v.write('\\t'.join([str(x) for x in vec]) + \"\\n\")\n",
    "out_v.close()\n",
    "out_m.close()\n",
    "\n",
    "# Download to PC\n",
    "try:\n",
    "  from google.colab import files\n",
    "except ImportError:\n",
    "   pass\n",
    "else:\n",
    "  files.download('vecs.tsv')\n",
    "  files.download('meta.tsv')"
   ]
  },
  {
   "cell_type": "markdown",
   "metadata": {
    "id": "fF4bB9HVCGGR"
   },
   "source": [
    "# SciBERT Model For Sentence Embeddings\n"
   ]
  },
  {
   "cell_type": "code",
   "execution_count": 2,
   "metadata": {
    "colab": {
     "base_uri": "https://localhost:8080/",
     "height": 340
    },
    "id": "tEWpbCTNCJbp",
    "outputId": "49109daa-5430-4f7d-f07e-ee3b5bfdb486"
   },
   "outputs": [],
   "source": [
    "from transformers import BertModel, BertTokenizer\n",
    "import torch\n",
    "import numpy as np"
   ]
  },
  {
   "cell_type": "code",
   "execution_count": 5,
   "metadata": {
    "colab": {
     "base_uri": "https://localhost:8080/",
     "height": 51
    },
    "id": "QyIfIV1jCV9B",
    "outputId": "43b93ee8-ff1e-4f30-da57-cb1a894721cc"
   },
   "outputs": [
    {
     "name": "stdout",
     "output_type": "stream",
     "text": [
      "scibert_tokenizer is type: <class 'transformers.tokenization_bert.BertTokenizer'>\n",
      "    scibert_model is type: <class 'transformers.modeling_bert.BertModel'>\n"
     ]
    }
   ],
   "source": [
    "scibert_model = BertModel.from_pretrained(\"allenai/scibert_scivocab_uncased\",\n",
    "                                  output_hidden_states=True)\n",
    "scibert_tokenizer = BertTokenizer.from_pretrained(\"allenai/scibert_scivocab_uncased\")\n",
    "\n",
    "print('scibert_tokenizer is type:', type(scibert_tokenizer))\n",
    "print('    scibert_model is type:', type(scibert_model))"
   ]
  },
  {
   "cell_type": "code",
   "execution_count": 6,
   "metadata": {
    "id": "Xk6zdIL6CapG"
   },
   "outputs": [],
   "source": [
    "def get_word_indeces(tokenizer, text, word):\n",
    "    '''\n",
    "    Determines the index or indeces of the tokens corresponding to `word`\n",
    "    within `text`. `word` can consist of multiple words, e.g., \"cell biology\".\n",
    "    \n",
    "    Determining the indeces is tricky because words can be broken into multiple\n",
    "    tokens. I've solved this with a rather roundabout approach--I replace `word`\n",
    "    with the correct number of `[MASK]` tokens, and then find these in the \n",
    "    tokenized result. \n",
    "    '''\n",
    "    # Tokenize the 'word'--it may be broken into multiple tokens or subwords.\n",
    "    word_tokens = tokenizer.tokenize(word)\n",
    "\n",
    "    # Create a sequence of `[MASK]` tokens to put in place of `word`.\n",
    "    masks_str = ' '.join(['[MASK]']*len(word_tokens))\n",
    "\n",
    "    # Replace the word with mask tokens.\n",
    "    text_masked = text.replace(word, masks_str)\n",
    "\n",
    "    # `encode` performs multiple functions:\n",
    "    #   1. Tokenizes the text\n",
    "    #   2. Maps the tokens to their IDs\n",
    "    #   3. Adds the special [CLS] and [SEP] tokens.\n",
    "    input_ids = tokenizer.encode(text_masked)\n",
    "\n",
    "    # Use numpy's `where` function to find all indeces of the [MASK] token.\n",
    "    mask_token_indeces = np.where(np.array(input_ids) == tokenizer.mask_token_id)[0]\n",
    "\n",
    "    return mask_token_indeces"
   ]
  },
  {
   "cell_type": "code",
   "execution_count": 7,
   "metadata": {
    "id": "Ug_GZMKjFnIK"
   },
   "outputs": [],
   "source": [
    "def get_embedding(b_model, b_tokenizer, text):\n",
    "    '''\n",
    "    Uses the provided model and tokenizer to produce an embedding for the\n",
    "    provided `text`\n",
    "    '''\n",
    "\n",
    "    # Encode the text, adding the (required!) special tokens, and converting to\n",
    "    # PyTorch tensors.\n",
    "    encoded_dict = b_tokenizer.encode_plus(\n",
    "                        text,                      # Sentence to encode.\n",
    "                        add_special_tokens = True, # Add '[CLS]' and '[SEP]'\n",
    "                        return_tensors = 'pt',     # Return pytorch tensors.\n",
    "                )\n",
    "\n",
    "    input_ids = encoded_dict['input_ids']\n",
    "    \n",
    "    b_model.eval()\n",
    "\n",
    "    # Run the text through the model and get the hidden states.\n",
    "    bert_outputs = b_model(input_ids)\n",
    "    \n",
    "    # Run the text through BERT, and collect all of the hidden states produced\n",
    "    # from all 12 layers. \n",
    "    with torch.no_grad():\n",
    "\n",
    "        outputs = b_model(input_ids)\n",
    "\n",
    "        # Evaluating the model will return a different number of objects based on \n",
    "        # how it's  configured in the `from_pretrained` call earlier. In this case, \n",
    "        # becase we set `output_hidden_states = True`, the third item will be the \n",
    "        # hidden states from all layers. See the documentation for more details:\n",
    "        # https://huggingface.co/transformers/model_doc/bert.html#bertmodel\n",
    "        hidden_states = outputs[2]\n",
    "\n",
    "    # `hidden_states` has shape [13 x 1 x <sentence length> x 768]\n",
    "\n",
    "    # Select the embeddings from the second to last layer.\n",
    "    # `token_vecs` is a tensor with shape [<sent length> x 768]\n",
    "    token_vecs = hidden_states[-2][0]\n",
    "\n",
    "    # Calculate the average of all token vectors.\n",
    "    sentence_embedding = torch.mean(token_vecs, dim=0)\n",
    "\n",
    "    # Convert to numpy array.\n",
    "    sentence_embedding = sentence_embedding.detach().numpy()\n",
    "\n",
    "    return sentence_embedding"
   ]
  },
  {
   "cell_type": "code",
   "execution_count": 8,
   "metadata": {
    "colab": {
     "base_uri": "https://localhost:8080/",
     "height": 51
    },
    "id": "ujuY_wU_Fp_R",
    "outputId": "1613754a-e5de-40f1-b3e8-a26e5d7ae37c"
   },
   "outputs": [
    {
     "name": "stdout",
     "output_type": "stream",
     "text": [
      "Embedding sizes:\n",
      "(768,)\n"
     ]
    }
   ],
   "source": [
    "text = \"hydrogels are hydrophilic polymer networks which may absorb from 10–20% (an arbitrary lower limit) up to thousands of times their dry weight in water.\"\n",
    "\n",
    "# Get the embedding for the sentence, as well as an embedding for 'hydrogels'.\n",
    "sen_emb = get_embedding(scibert_model, scibert_tokenizer, text)\n",
    "\n",
    "print('Embedding sizes:')\n",
    "print(sen_emb.shape)"
   ]
  },
  {
   "cell_type": "markdown",
   "metadata": {
    "id": "0tyLDA81MCk2"
   },
   "source": [
    "Look into using TF cause this is slow\n"
   ]
  },
  {
   "cell_type": "code",
   "execution_count": 10,
   "metadata": {
    "colab": {
     "base_uri": "https://localhost:8080/",
     "height": 231
    },
    "id": "4WL7iwzGKVHX",
    "outputId": "a9c2aadb-f3c8-4343-ee30-fbf9a19d0549"
   },
   "outputs": [
    {
     "name": "stdout",
     "output_type": "stream",
     "text": [
      "88797 88797\n",
      "139.64\n",
      "88797\n"
     ]
    }
   ],
   "source": [
    "from IPython.display import clear_output\n",
    "import timeit\n",
    "\n",
    "embeddings = []\n",
    "length = len(df['sentence'].tolist())\n",
    "index = 0\n",
    "\n",
    "start = timeit.default_timer()\n",
    "for sentence in df['sentence'].tolist():\n",
    "    clear_output(wait=True)\n",
    "    index += 1\n",
    "    sen_emb = get_embedding(scibert_model, scibert_tokenizer, sentence)\n",
    "    embeddings.append(sen_emb)\n",
    "\n",
    "    stop = timeit.default_timer()\n",
    "\n",
    "    if (index/length*100) < 1:\n",
    "        expected_time = \"Calculating...\"\n",
    "\n",
    "    else:\n",
    "        time_perc = timeit.default_timer()\n",
    "        expected_time = np.round( (time_perc-start) /(index/length) /60,2)\n",
    "\n",
    "    print(index, length)\n",
    "    print(expected_time)\n",
    "\n",
    "print(len(embeddings))"
   ]
  },
  {
   "cell_type": "code",
   "execution_count": 11,
   "metadata": {
    "id": "PmZkrrRX_CGP"
   },
   "outputs": [
    {
     "data": {
      "text/html": [
       "<div>\n",
       "<style scoped>\n",
       "    .dataframe tbody tr th:only-of-type {\n",
       "        vertical-align: middle;\n",
       "    }\n",
       "\n",
       "    .dataframe tbody tr th {\n",
       "        vertical-align: top;\n",
       "    }\n",
       "\n",
       "    .dataframe thead th {\n",
       "        text-align: right;\n",
       "    }\n",
       "</style>\n",
       "<table border=\"1\" class=\"dataframe\">\n",
       "  <thead>\n",
       "    <tr style=\"text-align: right;\">\n",
       "      <th></th>\n",
       "      <th>label</th>\n",
       "      <th>sentence</th>\n",
       "      <th>code</th>\n",
       "    </tr>\n",
       "  </thead>\n",
       "  <tbody>\n",
       "    <tr>\n",
       "      <th>0</th>\n",
       "      <td>OBJECTIVE</td>\n",
       "      <td>To investigate the efficacy of @ weeks of dail...</td>\n",
       "      <td>3</td>\n",
       "    </tr>\n",
       "    <tr>\n",
       "      <th>1</th>\n",
       "      <td>METHODS</td>\n",
       "      <td>Outcome measures included pain reduction and i...</td>\n",
       "      <td>2</td>\n",
       "    </tr>\n",
       "    <tr>\n",
       "      <th>2</th>\n",
       "      <td>METHODS</td>\n",
       "      <td>Secondary outcome measures included the Wester...</td>\n",
       "      <td>2</td>\n",
       "    </tr>\n",
       "    <tr>\n",
       "      <th>3</th>\n",
       "      <td>RESULTS</td>\n",
       "      <td>There was a clinically relevant reduction in t...</td>\n",
       "      <td>4</td>\n",
       "    </tr>\n",
       "    <tr>\n",
       "      <th>4</th>\n",
       "      <td>RESULTS</td>\n",
       "      <td>Further , there was a clinically relevant redu...</td>\n",
       "      <td>4</td>\n",
       "    </tr>\n",
       "  </tbody>\n",
       "</table>\n",
       "</div>"
      ],
      "text/plain": [
       "       label                                           sentence  code\n",
       "0  OBJECTIVE  To investigate the efficacy of @ weeks of dail...     3\n",
       "1    METHODS  Outcome measures included pain reduction and i...     2\n",
       "2    METHODS  Secondary outcome measures included the Wester...     2\n",
       "3    RESULTS  There was a clinically relevant reduction in t...     4\n",
       "4    RESULTS  Further , there was a clinically relevant redu...     4"
      ]
     },
     "execution_count": 11,
     "metadata": {},
     "output_type": "execute_result"
    }
   ],
   "source": [
    "df.head()"
   ]
  },
  {
   "cell_type": "code",
   "execution_count": 12,
   "metadata": {
    "id": "LXAjeF4U-ydM"
   },
   "outputs": [
    {
     "data": {
      "text/html": [
       "<div>\n",
       "<style scoped>\n",
       "    .dataframe tbody tr th:only-of-type {\n",
       "        vertical-align: middle;\n",
       "    }\n",
       "\n",
       "    .dataframe tbody tr th {\n",
       "        vertical-align: top;\n",
       "    }\n",
       "\n",
       "    .dataframe thead th {\n",
       "        text-align: right;\n",
       "    }\n",
       "</style>\n",
       "<table border=\"1\" class=\"dataframe\">\n",
       "  <thead>\n",
       "    <tr style=\"text-align: right;\">\n",
       "      <th></th>\n",
       "      <th>label</th>\n",
       "      <th>sentence</th>\n",
       "      <th>code</th>\n",
       "      <th>scibert</th>\n",
       "    </tr>\n",
       "  </thead>\n",
       "  <tbody>\n",
       "    <tr>\n",
       "      <th>0</th>\n",
       "      <td>OBJECTIVE</td>\n",
       "      <td>To investigate the efficacy of @ weeks of dail...</td>\n",
       "      <td>3</td>\n",
       "      <td>[-0.44510403, -0.31423956, -0.45745727, 0.4200...</td>\n",
       "    </tr>\n",
       "    <tr>\n",
       "      <th>1</th>\n",
       "      <td>METHODS</td>\n",
       "      <td>Outcome measures included pain reduction and i...</td>\n",
       "      <td>2</td>\n",
       "      <td>[-0.4775299, -0.46893463, -0.22414015, 0.22520...</td>\n",
       "    </tr>\n",
       "    <tr>\n",
       "      <th>2</th>\n",
       "      <td>METHODS</td>\n",
       "      <td>Secondary outcome measures included the Wester...</td>\n",
       "      <td>2</td>\n",
       "      <td>[-0.61925375, -0.19193889, -0.38404435, 0.2082...</td>\n",
       "    </tr>\n",
       "    <tr>\n",
       "      <th>3</th>\n",
       "      <td>RESULTS</td>\n",
       "      <td>There was a clinically relevant reduction in t...</td>\n",
       "      <td>4</td>\n",
       "      <td>[-0.5922383, -0.41908544, -0.33248687, 0.55146...</td>\n",
       "    </tr>\n",
       "    <tr>\n",
       "      <th>4</th>\n",
       "      <td>RESULTS</td>\n",
       "      <td>Further , there was a clinically relevant redu...</td>\n",
       "      <td>4</td>\n",
       "      <td>[-0.38201377, -0.53494513, 0.1772025, 0.381558...</td>\n",
       "    </tr>\n",
       "  </tbody>\n",
       "</table>\n",
       "</div>"
      ],
      "text/plain": [
       "       label                                           sentence  code  \\\n",
       "0  OBJECTIVE  To investigate the efficacy of @ weeks of dail...     3   \n",
       "1    METHODS  Outcome measures included pain reduction and i...     2   \n",
       "2    METHODS  Secondary outcome measures included the Wester...     2   \n",
       "3    RESULTS  There was a clinically relevant reduction in t...     4   \n",
       "4    RESULTS  Further , there was a clinically relevant redu...     4   \n",
       "\n",
       "                                             scibert  \n",
       "0  [-0.44510403, -0.31423956, -0.45745727, 0.4200...  \n",
       "1  [-0.4775299, -0.46893463, -0.22414015, 0.22520...  \n",
       "2  [-0.61925375, -0.19193889, -0.38404435, 0.2082...  \n",
       "3  [-0.5922383, -0.41908544, -0.33248687, 0.55146...  \n",
       "4  [-0.38201377, -0.53494513, 0.1772025, 0.381558...  "
      ]
     },
     "execution_count": 12,
     "metadata": {},
     "output_type": "execute_result"
    }
   ],
   "source": [
    "df['scibert'] = embeddings\n",
    "df.head()"
   ]
  },
  {
   "cell_type": "code",
   "execution_count": 13,
   "metadata": {
    "id": "Y7kcDqCn_GnI"
   },
   "outputs": [],
   "source": [
    "df.to_pickle(\"./df_embeddings.pkl\")"
   ]
  },
  {
   "cell_type": "markdown",
   "metadata": {},
   "source": [
    "# Investigating SciBert Embedded Models"
   ]
  },
  {
   "cell_type": "code",
   "execution_count": 12,
   "metadata": {},
   "outputs": [
    {
     "data": {
      "text/html": [
       "<div>\n",
       "<style scoped>\n",
       "    .dataframe tbody tr th:only-of-type {\n",
       "        vertical-align: middle;\n",
       "    }\n",
       "\n",
       "    .dataframe tbody tr th {\n",
       "        vertical-align: top;\n",
       "    }\n",
       "\n",
       "    .dataframe thead th {\n",
       "        text-align: right;\n",
       "    }\n",
       "</style>\n",
       "<table border=\"1\" class=\"dataframe\">\n",
       "  <thead>\n",
       "    <tr style=\"text-align: right;\">\n",
       "      <th></th>\n",
       "      <th>label</th>\n",
       "      <th>sentence</th>\n",
       "      <th>code</th>\n",
       "      <th>scibert</th>\n",
       "    </tr>\n",
       "  </thead>\n",
       "  <tbody>\n",
       "    <tr>\n",
       "      <th>0</th>\n",
       "      <td>OBJECTIVE</td>\n",
       "      <td>To investigate the efficacy of @ weeks of dail...</td>\n",
       "      <td>3</td>\n",
       "      <td>[-0.44510403, -0.31423956, -0.45745727, 0.4200...</td>\n",
       "    </tr>\n",
       "    <tr>\n",
       "      <th>1</th>\n",
       "      <td>METHODS</td>\n",
       "      <td>Outcome measures included pain reduction and i...</td>\n",
       "      <td>2</td>\n",
       "      <td>[-0.4775299, -0.46893463, -0.22414015, 0.22520...</td>\n",
       "    </tr>\n",
       "    <tr>\n",
       "      <th>2</th>\n",
       "      <td>METHODS</td>\n",
       "      <td>Secondary outcome measures included the Wester...</td>\n",
       "      <td>2</td>\n",
       "      <td>[-0.61925375, -0.19193889, -0.38404435, 0.2082...</td>\n",
       "    </tr>\n",
       "    <tr>\n",
       "      <th>3</th>\n",
       "      <td>RESULTS</td>\n",
       "      <td>There was a clinically relevant reduction in t...</td>\n",
       "      <td>4</td>\n",
       "      <td>[-0.5922383, -0.41908544, -0.33248687, 0.55146...</td>\n",
       "    </tr>\n",
       "    <tr>\n",
       "      <th>4</th>\n",
       "      <td>RESULTS</td>\n",
       "      <td>Further , there was a clinically relevant redu...</td>\n",
       "      <td>4</td>\n",
       "      <td>[-0.38201377, -0.53494513, 0.1772025, 0.381558...</td>\n",
       "    </tr>\n",
       "    <tr>\n",
       "      <th>5</th>\n",
       "      <td>RESULTS</td>\n",
       "      <td>The Outcome Measures in Rheumatology Clinical ...</td>\n",
       "      <td>4</td>\n",
       "      <td>[0.027787112, 0.23189485, -0.3841277, 0.625988...</td>\n",
       "    </tr>\n",
       "    <tr>\n",
       "      <th>7</th>\n",
       "      <td>BACKGROUND</td>\n",
       "      <td>Emotional eating is associated with overeating...</td>\n",
       "      <td>0</td>\n",
       "      <td>[-0.6055013, -0.14416914, -0.32580143, 0.12642...</td>\n",
       "    </tr>\n",
       "    <tr>\n",
       "      <th>8</th>\n",
       "      <td>OBJECTIVE</td>\n",
       "      <td>The aim of this study was to test if attention...</td>\n",
       "      <td>3</td>\n",
       "      <td>[-0.37356007, 0.10462127, -0.011478976, -0.169...</td>\n",
       "    </tr>\n",
       "    <tr>\n",
       "      <th>9</th>\n",
       "      <td>METHODS</td>\n",
       "      <td>Participants ( N = @ ) were randomly assigned ...</td>\n",
       "      <td>2</td>\n",
       "      <td>[0.23434164, 0.32432234, -0.29593608, -0.39225...</td>\n",
       "    </tr>\n",
       "    <tr>\n",
       "      <th>10</th>\n",
       "      <td>METHODS</td>\n",
       "      <td>Self-reported emotional eating was assessed wi...</td>\n",
       "      <td>2</td>\n",
       "      <td>[-0.65840876, 0.21802892, -0.24623804, -0.1824...</td>\n",
       "    </tr>\n",
       "    <tr>\n",
       "      <th>11</th>\n",
       "      <td>RESULTS</td>\n",
       "      <td>Yet , attention maintenance on food cues was s...</td>\n",
       "      <td>4</td>\n",
       "      <td>[-0.19438043, -0.038107645, 0.15598723, 0.2300...</td>\n",
       "    </tr>\n",
       "    <tr>\n",
       "      <th>12</th>\n",
       "      <td>CONCLUSIONS</td>\n",
       "      <td>Results further suggest that attention mainten...</td>\n",
       "      <td>1</td>\n",
       "      <td>[-0.06832442, 0.22197606, -0.21255746, 0.14556...</td>\n",
       "    </tr>\n",
       "    <tr>\n",
       "      <th>14</th>\n",
       "      <td>BACKGROUND</td>\n",
       "      <td>We tested whether theory-based education incre...</td>\n",
       "      <td>0</td>\n",
       "      <td>[-0.24022587, 0.019652834, 0.121256776, -0.116...</td>\n",
       "    </tr>\n",
       "    <tr>\n",
       "      <th>15</th>\n",
       "      <td>METHODS</td>\n",
       "      <td>Intervention arms : ( @ ) Full Education combi...</td>\n",
       "      <td>2</td>\n",
       "      <td>[0.35353863, -0.023675352, 0.11459824, 0.24104...</td>\n",
       "    </tr>\n",
       "    <tr>\n",
       "      <th>16</th>\n",
       "      <td>METHODS</td>\n",
       "      <td>Follow-up visits checked alarm operability in ...</td>\n",
       "      <td>2</td>\n",
       "      <td>[-0.5296404, 0.16995905, 0.2568119, 0.46228915...</td>\n",
       "    </tr>\n",
       "    <tr>\n",
       "      <th>17</th>\n",
       "      <td>METHODS</td>\n",
       "      <td>Regressions controlled for alarm status preint...</td>\n",
       "      <td>2</td>\n",
       "      <td>[-0.44354755, 0.061076682, -0.6860289, -0.1354...</td>\n",
       "    </tr>\n",
       "    <tr>\n",
       "      <th>18</th>\n",
       "      <td>RESULTS</td>\n",
       "      <td>Working alarms per home rose @ % .</td>\n",
       "      <td>4</td>\n",
       "      <td>[-1.0388806, 0.52558917, 0.045176875, 0.036362...</td>\n",
       "    </tr>\n",
       "    <tr>\n",
       "      <th>19</th>\n",
       "      <td>CONCLUSIONS</td>\n",
       "      <td>Without exceeding typical fire department inst...</td>\n",
       "      <td>1</td>\n",
       "      <td>[-0.19592582, -0.1943504, 0.17269269, 0.010289...</td>\n",
       "    </tr>\n",
       "    <tr>\n",
       "      <th>20</th>\n",
       "      <td>CONCLUSIONS</td>\n",
       "      <td>Two years after installation , for every three...</td>\n",
       "      <td>1</td>\n",
       "      <td>[0.012061362, 0.26443887, -0.028506553, -0.048...</td>\n",
       "    </tr>\n",
       "    <tr>\n",
       "      <th>22</th>\n",
       "      <td>OBJECTIVE</td>\n",
       "      <td>To evaluate the performance ( efficacy , safet...</td>\n",
       "      <td>3</td>\n",
       "      <td>[0.047299154, -0.27056786, 0.21400625, 0.49091...</td>\n",
       "    </tr>\n",
       "  </tbody>\n",
       "</table>\n",
       "</div>"
      ],
      "text/plain": [
       "          label                                           sentence  code  \\\n",
       "0     OBJECTIVE  To investigate the efficacy of @ weeks of dail...     3   \n",
       "1       METHODS  Outcome measures included pain reduction and i...     2   \n",
       "2       METHODS  Secondary outcome measures included the Wester...     2   \n",
       "3       RESULTS  There was a clinically relevant reduction in t...     4   \n",
       "4       RESULTS  Further , there was a clinically relevant redu...     4   \n",
       "5       RESULTS  The Outcome Measures in Rheumatology Clinical ...     4   \n",
       "7    BACKGROUND  Emotional eating is associated with overeating...     0   \n",
       "8     OBJECTIVE  The aim of this study was to test if attention...     3   \n",
       "9       METHODS  Participants ( N = @ ) were randomly assigned ...     2   \n",
       "10      METHODS  Self-reported emotional eating was assessed wi...     2   \n",
       "11      RESULTS  Yet , attention maintenance on food cues was s...     4   \n",
       "12  CONCLUSIONS  Results further suggest that attention mainten...     1   \n",
       "14   BACKGROUND  We tested whether theory-based education incre...     0   \n",
       "15      METHODS  Intervention arms : ( @ ) Full Education combi...     2   \n",
       "16      METHODS  Follow-up visits checked alarm operability in ...     2   \n",
       "17      METHODS  Regressions controlled for alarm status preint...     2   \n",
       "18      RESULTS                 Working alarms per home rose @ % .     4   \n",
       "19  CONCLUSIONS  Without exceeding typical fire department inst...     1   \n",
       "20  CONCLUSIONS  Two years after installation , for every three...     1   \n",
       "22    OBJECTIVE  To evaluate the performance ( efficacy , safet...     3   \n",
       "\n",
       "                                              scibert  \n",
       "0   [-0.44510403, -0.31423956, -0.45745727, 0.4200...  \n",
       "1   [-0.4775299, -0.46893463, -0.22414015, 0.22520...  \n",
       "2   [-0.61925375, -0.19193889, -0.38404435, 0.2082...  \n",
       "3   [-0.5922383, -0.41908544, -0.33248687, 0.55146...  \n",
       "4   [-0.38201377, -0.53494513, 0.1772025, 0.381558...  \n",
       "5   [0.027787112, 0.23189485, -0.3841277, 0.625988...  \n",
       "7   [-0.6055013, -0.14416914, -0.32580143, 0.12642...  \n",
       "8   [-0.37356007, 0.10462127, -0.011478976, -0.169...  \n",
       "9   [0.23434164, 0.32432234, -0.29593608, -0.39225...  \n",
       "10  [-0.65840876, 0.21802892, -0.24623804, -0.1824...  \n",
       "11  [-0.19438043, -0.038107645, 0.15598723, 0.2300...  \n",
       "12  [-0.06832442, 0.22197606, -0.21255746, 0.14556...  \n",
       "14  [-0.24022587, 0.019652834, 0.121256776, -0.116...  \n",
       "15  [0.35353863, -0.023675352, 0.11459824, 0.24104...  \n",
       "16  [-0.5296404, 0.16995905, 0.2568119, 0.46228915...  \n",
       "17  [-0.44354755, 0.061076682, -0.6860289, -0.1354...  \n",
       "18  [-1.0388806, 0.52558917, 0.045176875, 0.036362...  \n",
       "19  [-0.19592582, -0.1943504, 0.17269269, 0.010289...  \n",
       "20  [0.012061362, 0.26443887, -0.028506553, -0.048...  \n",
       "22  [0.047299154, -0.27056786, 0.21400625, 0.49091...  "
      ]
     },
     "execution_count": 12,
     "metadata": {},
     "output_type": "execute_result"
    }
   ],
   "source": [
    "from sklearn.metrics import f1_score\n",
    "from sklearn.metrics import matthews_corrcoef\n",
    "from sklearn.metrics import accuracy_score\n",
    "from sklearn.metrics import confusion_matrix\n",
    "df = pd.read_pickle(\"./df_embeddings.pkl\")\n",
    "df.head(20)"
   ]
  },
  {
   "cell_type": "code",
   "execution_count": 10,
   "metadata": {},
   "outputs": [
    {
     "name": "stdout",
     "output_type": "stream",
     "text": [
      "[[3\n",
      "  list([-0.44510403275489807, -0.3142395615577698, -0.4574572741985321, 0.42003002762794495, 0.17308373749256134, -0.0658547654747963, 0.0610351599752903, 0.7119576334953308, 0.052800457924604416, -0.04166654124855995, 0.25368425250053406, 0.023948971182107925, -0.5013481974601746, 0.3400881886482239, 0.07037530839443207, 0.16391821205615997, 0.12615199387073517, -0.22290515899658203, 0.11534956842660904, 0.14633360505104065, -0.1456236094236374, 0.30225151777267456, -0.13457921147346497, -0.15234455466270447, 0.5951424837112427, -0.4410097301006317, 0.0134934913367033, -0.18890079855918884, 0.07016326487064362, -0.5255907773971558, 0.34734436869621277, -0.17779316008090973, -0.38158607482910156, -0.38548311591148376, -0.40820297598838806, 0.7804317474365234, 0.13236048817634583, -0.20911121368408203, -0.2571874260902405, -0.41668063402175903, -0.10891936719417572, 0.2499328851699829, -0.2740243375301361, 0.034503862261772156, 0.14481700956821442, -0.31543558835983276, 0.2689055800437927, -0.17466410994529724, -0.10677749663591385, -0.08045151084661484, 0.16981251537799835, -0.01770985685288906, 0.08743065595626831, 0.04935171827673912, 0.4845411479473114, -0.03868332877755165, -0.9169054627418518, -0.41571536660194397, 0.805704653263092, 0.1655779629945755, -0.14431245625019073, -0.21421314775943756, -0.14539681375026703, -0.1330295354127884, -0.22609157860279083, -0.36649540066719055, 0.3816012740135193, -0.35430583357810974, 0.12878021597862244, -0.11411716789007187, -0.1694435030221939, 0.5192084908485413, 0.16471616923809052, -0.42070528864860535, -0.08722534030675888, 0.08509260416030884, 0.3584382236003876, 0.4761812388896942, -0.08892776072025299, 0.05978789180517197, -0.10376016050577164, -0.2759419083595276, -0.13227511942386627, -0.13947924971580505, -0.017214113846421242, 0.11978910863399506, -0.007807523477822542, 0.1564149558544159, -0.3889753222465515, 0.2161068171262741, 0.007504957262426615, -0.17646244168281555, 0.5475302934646606, -0.17406313121318817, 0.39894700050354004, -0.2874172031879425, 0.10875402390956879, -0.17673037946224213, -0.43585291504859924, -0.23463138937950134, -0.14637640118598938, 0.0671883225440979, -0.09288476407527924, 0.41241365671157837, 0.5688498020172119, -0.1613166332244873, 0.23142029345035553, 0.0294735636562109, -0.04447408765554428, 0.4570350646972656, 0.6177218556404114, -0.2511591911315918, -0.02322147600352764, -0.007414715830236673, -0.11524648219347, -0.02175186760723591, -0.6499442458152771, 0.30855122208595276, 0.20426656305789948, 1.4234704971313477, 0.0694853663444519, -0.015367169864475727, -0.7359167337417603, 0.1762894243001938, -0.028864404186606407, 0.019987192004919052, -0.2719525992870331, -0.7435674071311951, 0.509109616279602, -0.45740917325019836, 0.17931601405143738, -0.6083130240440369, -0.13672052323818207, -0.16808925569057465, 0.5957176089286804, 0.16931717097759247, -0.20762278139591217, 0.002354190917685628, -0.36960548162460327, -0.468304306268692, -0.19984208047389984, 0.43210288882255554, 0.28355491161346436, 0.7625389099121094, 0.6218677163124084, 0.07003988325595856, -0.40241414308547974, 0.3374176025390625, -0.32728511095046997, 0.049382954835891724, -0.24256063997745514, 0.06041790917515755, -0.4188326299190521, -0.20316101610660553, 0.02692844159901142, -0.0029189703054726124, -0.0053690033964812756, -0.5461188554763794, -0.13452379405498505, -0.020422091707587242, 0.34132176637649536, -0.30399757623672485, -0.17685438692569733, 0.23691824078559875, -0.04230628162622452, 0.1427648365497589, -0.613448977470398, 0.15593041479587555, -0.21325938403606415, -0.5822425484657288, 0.6071271896362305, 0.01656775176525116, 0.19963498413562775, -0.05249548330903053, -0.05415673926472664, 0.05433537811040878, 0.4421711564064026, -0.8376216292381287, 0.1190180629491806, 0.26637959480285645, -0.10250593721866608, -0.38262850046157837, -0.02492224983870983, -0.6914321780204773, -0.0738748162984848, -0.5615161657333374, 0.39803487062454224, 0.334101140499115, 0.28620845079421997, -0.28585439920425415, 0.3851860463619232, 0.2923851013183594, 0.10054365545511246, -1.370484709739685, -0.034847620874643326, -0.18260212242603302, -0.29036572575569153, 0.11092449724674225, -0.12297497689723969, -0.057671766728162766, 0.030280932784080505, -0.023909395560622215, -0.21447713673114777, -0.11439070850610733, -0.05458236485719681, 0.38647517561912537, 0.4618194103240967, -0.36509013175964355, 0.2551279067993164, 0.2595694959163666, -0.8613632917404175, 0.36901241540908813, 0.062397874891757965, 0.2572895884513855, -0.017702948302030563, -0.24944844841957092, -0.0628504827618599, -0.19612157344818115, -0.06372039020061493, 0.025464165955781937, -0.32919833064079285, -0.5705587863922119, 0.08919423073530197, -0.004017268773168325, 0.08206559717655182, -0.4824233055114746, -0.2738765478134155, 0.2700828015804291, -0.08383048325777054, 0.06310757249593735, 0.154595285654068, -0.20015732944011688, -0.11903552711009979, -0.05691913887858391, 0.07334663718938828, -0.5810964703559875, 0.1219543069601059, 0.008566712029278278, -0.540307879447937, -0.12647324800491333, -0.24604038894176483, -0.23241248726844788, 0.5834143757820129, 0.14029601216316223, -0.4002229869365692, -0.16159050166606903, 0.18865230679512024, 0.017286550253629684, 0.429023802280426, -0.30850547552108765, -0.2558716833591461, -0.174285426735878, 0.0011089484905824065, 0.30193498730659485, -0.40623825788497925, 0.27981045842170715, 0.5032414793968201, -0.2465113401412964, -0.036058951169252396, 0.1776619851589203, 0.17803135514259338, -0.9180221557617188, 0.13365072011947632, 0.6110361814498901, -0.10910739004611969, -0.13883627951145172, 0.061682701110839844, 0.45799189805984497, 0.07271359860897064, -0.0008688819361850619, 0.3911091387271881, -0.24682947993278503, 0.015697041526436806, -0.3827582001686096, -0.32824501395225525, 0.5241750478744507, 0.8131160140037537, 0.22149431705474854, -0.17094920575618744, 0.12200339138507843, -0.09677018225193024, 0.5068479776382446, -0.27820783853530884, -0.3620401918888092, -0.01123971026390791, -1.6580703258514404, -0.9642770886421204, -0.10271372646093369, -0.19882048666477203, 0.24864624440670013, 0.25739970803260803, -0.08238593488931656, -0.43534091114997864, -0.177744060754776, 0.08138399571180344, 0.5430785417556763, 0.5616866946220398, 0.09018216282129288, 0.3280048370361328, 0.3768221437931061, -0.13037942349910736, 0.36026281118392944, -0.6604477167129517, 0.5374435782432556, -0.22344417870044708, -0.2822117507457733, 0.3042268455028534, -0.25798943638801575, -0.3265768587589264, -0.20729698240756989, -0.10863355547189713, -0.08378748595714569, -0.03015175275504589, -0.009941338561475277, -0.29994040727615356, -0.24571581184864044, -0.24771609902381897, 0.3111782670021057, 0.0166301466524601, -0.5523799657821655, 0.012637664563953876, -0.5400060415267944, -0.24689500033855438, 0.46488165855407715, 0.1339653879404068, 0.8058475255966187, 0.20943355560302734, 0.04674762114882469, -0.14765122532844543, -0.446189820766449, -0.05461413785815239, -0.32359078526496887, 0.10339771956205368, 0.3589596152305603, 0.2501864731311798, -0.2009550780057907, 0.4443841278553009, 0.2583964765071869, -0.0974385142326355, -0.3047616481781006, -1.0217794179916382, 0.10400885343551636, 0.24876824021339417, 0.4250698387622833, 0.1550610512495041, -0.32003292441368103, -0.5593379139900208, 0.5389819741249084, 0.2826990783214569, -0.39513829350471497, 0.6416621208190918, 0.5226420760154724, -0.14896027743816376, -0.12518832087516785, -0.18896663188934326, 0.3840530216693878, -0.31342774629592896, -0.4649870693683624, 0.1752561330795288, -0.13804344832897186, -0.30686691403388977, 0.048690829426050186, 0.02645936608314514, -0.21440713107585907, 0.42857858538627625, 0.16016820073127747, 1.2871599197387695, -0.07520922273397446, -0.09099877625703812, 0.07078776508569717, -0.49352210760116577, 0.3357298970222473, 0.42100873589515686, -0.08479384332895279, 0.8311018943786621, -0.21440066397190094, 0.007185887545347214, -0.25036540627479553, -0.08758793026208878, 0.43445441126823425, 0.01676366664469242, 0.3160913586616516, 0.18498381972312927, -0.6213745474815369, 0.0198003351688385, 0.10696174949407578, 0.2338312864303589, 0.3530425429344177, -0.20493511855602264, 0.4847284257411957, 0.4246886372566223, 0.16565725207328796, -0.4296473562717438, 0.615238606929779, -0.09505008906126022, 0.6054396033287048, -0.5080398321151733, 0.3231091797351837, -0.1933845579624176, -0.05734096094965935, 0.029732299968600273, 0.26355528831481934, -0.06769155710935593, 0.21158190071582794, -0.27024441957473755, 0.23642410337924957, -0.4667825400829315, 2.00354266166687, 0.6377670168876648, 0.4008670747280121, 0.13308806717395782, -0.18142156302928925, 0.13109105825424194, 0.46942275762557983, 0.16278645396232605, -0.426542729139328, 0.6955052018165588, 0.2780774235725403, -0.42000481486320496, -0.7265227437019348, -0.3473889231681824, -0.09229547530412674, 19.621244430541992, -0.19357727468013763, -2.134817361831665, -0.279761403799057, -0.05024229362607002, -0.04515400901436806, 0.04354396462440491, 0.12922629714012146, -0.2613372802734375, -0.10330729931592941, 0.1943991333246231, 0.34021782875061035, 0.17065301537513733, 0.09888993948698044, 0.6280935406684875, -0.39176344871520996, -0.2179941087961197, -0.44632238149642944, 0.06871272623538971, -0.015363463200628757, -0.8372179269790649, 0.016907712444663048, 0.8494285345077515, 0.252715528011322, 0.09984975308179855, -0.04700777307152748, -0.21225665509700775, -0.39380428194999695, 0.08518169820308685, 0.3643398880958557, -0.20268942415714264, -0.5189329385757446, 0.4324982464313507, 0.2986534535884857, -0.09449204057455063, 0.05740524083375931, 0.25654274225234985, -0.23369447886943817, 0.15615840256214142, -0.03821483254432678, -0.17346440255641937, -0.42955732345581055, 0.19037391245365143, -0.42000070214271545, 0.009805497713387012, 0.15828262269496918, -0.2885776162147522, 0.06463035196065903, 0.02993500605225563, -0.6698950529098511, 0.32837602496147156, 0.6216702461242676, -0.231495663523674, -0.4577477276325226, -0.260874480009079, 0.233750119805336, 0.05365709215402603, -0.12661436200141907, -0.38722899556159973, 0.37595075368881226, 0.154469296336174, 0.3723424971103668, -0.30017778277397156, 0.24832870066165924, -0.299051433801651, 0.1436234414577484, -0.4327792227268219, -0.13312678039073944, 0.10406691581010818, 0.13450318574905396, -0.12595117092132568, -0.39709076285362244, -0.3067610561847687, 0.459703654050827, -0.06644942611455917, -0.41024473309516907, -0.5422671437263489, 0.06515572965145111, 0.6984806656837463, -0.6295455694198608, 0.16021950542926788, -0.3045608401298523, 0.22896000742912292, 0.10693545639514923, -0.1427180916070938, -0.22889257967472076, 0.20046286284923553, -0.013345882296562195, -0.43388548493385315, -0.022241288796067238, 0.1636192947626114, -0.3524634540081024, -0.4538521468639374, -0.30016377568244934, 0.04315323755145073, 0.5004957318305969, 0.12356623262166977, -0.47403866052627563, -0.05365675687789917, 0.011899562552571297, 0.3995249569416046, -0.27953410148620605, 0.26728153228759766, -0.02725805900990963, -0.9009637236595154, 0.34684568643569946, 0.06997572630643845, 0.7762851715087891, 0.08766502141952515, -0.36038365960121155, -0.27032262086868286, -0.45118096470832825, 0.6129282116889954, 0.03843052312731743, 0.4756257236003876, -0.29233884811401367, -0.13832947611808777, -0.07602798193693161, -0.5959835052490234, 0.48876506090164185, 0.23543237149715424, 0.3812430799007416, -0.08529241383075714, 0.10854203999042511, -0.3334570825099945, 0.6499253511428833, -0.2065260112285614, 0.03193570300936699, -0.011295187287032604, -0.016540808603167534, 0.08386362344026566, 0.2424083948135376, -0.6077743768692017, 0.5637924075126648, 0.29686254262924194, -0.024206221103668213, 0.035550832748413086, 0.4606310725212097, 0.00610915245488286, -0.19055011868476868, -0.18333180248737335, -0.20053508877754211, -0.12310001999139786, -0.2275879681110382, -0.13131120800971985, 0.8395237326622009, -0.24936909973621368, 0.07953162491321564, -0.010797570459544659, 0.5175585150718689, 0.4915149211883545, -0.4056227207183838, -0.34371575713157654, 0.07604781538248062, 0.03537160903215408, 0.21414713561534882, -0.09626960754394531, -0.4787552058696747, 0.023589154705405235, 0.20568135380744934, 0.20764152705669403, 0.12657496333122253, -0.4991116523742676, -0.2078932523727417, 0.26929420232772827, 0.0045507438480854034, -0.157644122838974, -0.17836716771125793, 0.0632493644952774, 0.4705783426761627, -0.013498960062861443, 0.14122061431407928, -0.38800668716430664, -1.0587818622589111, -0.3069459795951843, 0.036798715591430664, -0.10429228842258453, 0.29145923256874084, -0.17784830927848816, 0.05736555904150009, -0.10301151126623154, -0.06754019111394882, 0.2533213496208191, 0.45505568385124207, 0.06234209984540939, 0.1478494256734848, -0.018723053857684135, 0.0733380913734436, -0.278003454208374, -0.49392464756965637, 0.41462063789367676, -0.10607459396123886, -0.24948632717132568, 0.1951737254858017, -0.11201605945825577, 0.08749610185623169, 0.4185656011104584, 0.26560744643211365, -0.35752105712890625, -0.25861677527427673, -0.34102267026901245, -0.10927369445562363, -0.08903072774410248, -0.002532443730160594, -0.10097134858369827, 0.17808668315410614, 0.13215754926204681, 0.030640380457043648, 0.16196727752685547, -0.11966962367296219, 0.1315264254808426, -0.24038997292518616, -0.17938311398029327, 0.007170273922383785, -0.4391707479953766, -0.5428763628005981, -1.574863314628601, -0.2976762354373932, 0.2118901014328003, 0.6727067232131958, -0.16809602081775665, -0.26631298661231995, -0.9650347828865051, 0.02639773115515709, 0.5069543719291687, 0.601405918598175, 0.03738219663500786, -0.34334325790405273, 0.1466573178768158, -0.2649526298046112, -0.13012880086898804, -0.5078596472740173, 0.009141890332102776, 0.5307652354240417, 0.08391749858856201, 0.5233805775642395, 0.3113277852535248, 0.006740678567439318, -0.3858320116996765, -0.2468053251504898, -0.37469738721847534, -0.1889490932226181, -0.28752008080482483, 0.5360628366470337, 0.05640951916575432, 0.03803867846727371, 0.1500868946313858, 0.5575993061065674, 0.09036784619092941, -0.08752872049808502, 0.28394120931625366, -0.012420778162777424, -0.08345699310302734, 0.09781190007925034, 0.0032836736645549536, 0.14272798597812653, -0.44111910462379456, 0.27352026104927063, 0.299956351518631, 0.35552674531936646, -0.048227276653051376, 0.0028306900057941675, 0.25407537817955017, -0.2428593784570694, -0.5781687498092651, 0.3773464560508728, -0.04193605110049248, -0.30519038438796997, 0.23675356805324554, 0.09397534281015396, 0.3356058597564697, 0.3814617097377777, 0.5630046725273132, -0.4553403854370117, 0.43266919255256653, 0.045644380152225494, 0.4936753213405609, -0.1561214029788971, 0.33720335364341736, -0.12793470919132233, 1.1331684589385986, -0.20839561522006989, -0.14894257485866547, 0.37457647919654846, -0.07088018208742142, -0.19793501496315002, 0.16132445633411407, 0.2577725350856781, -0.41597819328308105, 0.5373267531394958, -0.32186269760131836, -0.6190337538719177, -0.016553478315472603, -0.48883000016212463, -0.2489713877439499, -0.07534414529800415, 0.8695019483566284, 0.03279147297143936, 0.37868550419807434, 0.05522410199046135, 0.16424301266670227, 0.08952713012695312, -0.04785584658384323, -0.007709110621362925, 0.08928251266479492, 0.1736803948879242, -0.16943857073783875, -0.36917248368263245, 0.3566393256187439, 0.3545341491699219, -0.2128850519657135, 0.3632536828517914, 0.1390976756811142, -0.22948265075683594, 0.2617633640766144, 0.4278164803981781, 0.3285673260688782, 0.6147909760475159, 0.23577670753002167, 0.24766775965690613, -0.15603767335414886, -0.28434357047080994, 0.12677337229251862, 0.4032178819179535, 0.12536583840847015, 0.15573279559612274, 0.13583241403102875, -0.35919857025146484, -0.29187968373298645, -0.1183246299624443, 0.20397520065307617, -0.14564459025859833, 0.03449598699808121, 1.1174222230911255, -0.35002511739730835, 0.03248981386423111, 0.3323710560798645, 0.48091092705726624, -0.69730144739151, -0.2270335853099823, 0.044675350189208984, -0.16256628930568695, -0.09325873851776123, -0.2096250355243683, -0.3592248260974884, -0.6858822107315063])]\n",
      " [2\n",
      "  list([-0.477529913187027, -0.4689346253871918, -0.22414015233516693, 0.2252071350812912, -0.628368079662323, -0.18691977858543396, 0.42223113775253296, 1.0975004434585571, -0.643062949180603, 0.3866192400455475, 0.32634520530700684, 1.0023528337478638, -0.7588444948196411, -0.20622460544109344, 0.6019148230552673, 0.10883346199989319, -0.4659857749938965, -0.361278772354126, -0.06895655393600464, 0.25676023960113525, 0.3440479636192322, -0.06623208522796631, 0.49911022186279297, -0.5164183378219604, 0.32284247875213623, 0.30228230357170105, -0.49010512232780457, -0.0520186647772789, -0.11236506700515747, 0.10036110877990723, -0.04835577309131622, -0.26882222294807434, -0.4282759130001068, 0.038508087396621704, -0.0545903779566288, 0.509164035320282, 0.07254684716463089, 0.0665426105260849, 0.1459425687789917, -0.2319977879524231, -0.5026612877845764, 0.29569658637046814, -0.36897173523902893, 0.05055858567357063, -0.20878680050373077, -0.24966946244239807, -0.09255179017782211, -0.23162773251533508, 0.11780750006437302, -0.36373353004455566, 0.2737933397293091, -0.33557814359664917, 0.21894152462482452, 0.2393958419561386, 0.3777420222759247, -0.24879054725170135, -1.3264328241348267, -0.05375726521015167, -0.07151945680379868, 0.24253463745117188, 0.15013045072555542, 0.2239050418138504, -0.1937023401260376, -0.26326698064804077, -0.3251974582672119, 0.12945950031280518, 0.14640560746192932, -0.6622109413146973, 0.11379218101501465, 0.2143472582101822, 0.23625294864177704, 0.663857638835907, 0.3864658772945404, 0.015519033186137676, -0.4425412118434906, 0.25430020689964294, 0.3657739460468292, 0.9806383848190308, 0.27635490894317627, 0.3281942903995514, 0.3976256549358368, 0.20622093975543976, -0.19064058363437653, -0.17366768419742584, -0.529971182346344, 0.14746122062206268, 0.2013188600540161, 0.17927366495132446, -0.6036553978919983, -0.04381641373038292, 0.5671338438987732, 0.19965478777885437, 0.5936703085899353, -0.029423674568533897, 0.5389916896820068, -0.243244931101799, 0.4664647877216339, -0.20781399309635162, -0.1494300812482834, -0.3795660734176636, 0.015487346798181534, -0.23113718628883362, -0.49978071451187134, 0.214637890458107, 0.3928528428077698, 0.43574589490890503, -0.09251945465803146, -0.32588595151901245, 0.101085364818573, 0.9985814094543457, 0.7515033483505249, -1.0075628757476807, -0.17144718766212463, -0.24398857355117798, 0.30842074751853943, 0.0016073865117505193, -1.261194109916687, 0.42414477467536926, -0.35406437516212463, 1.5710631608963013, -0.11483809351921082, -0.1319972574710846, -0.5985490083694458, 0.19617411494255066, 0.14631809294223785, 0.027025243267416954, -0.38893723487854004, -0.6309229731559753, 0.29331302642822266, -0.5647750496864319, -0.0954434722661972, -0.06054489687085152, 0.1372092366218567, -0.14055976271629333, 0.13059891760349274, 0.24362173676490784, -0.48101258277893066, 0.1681285798549652, -0.19362138211727142, -0.30380764603614807, -0.05171799287199974, -0.10262005776166916, 0.1234966591000557, 0.4822578430175781, 0.49790459871292114, 0.12792448699474335, -0.028099393472075462, 0.6819983124732971, -0.2762531638145447, 0.13485652208328247, -0.7675253748893738, 0.6084415912628174, 0.2874848246574402, 0.2526089549064636, -0.13131962716579437, 0.15510761737823486, -0.0234783124178648, -0.2910063862800598, -0.08156617730855942, 0.1680651605129242, 0.23132193088531494, -0.24243682622909546, 0.21194064617156982, -0.04356888681650162, -0.43111276626586914, 0.403058797121048, 0.09649044275283813, -0.12606866657733917, 0.41555801033973694, -0.5763726234436035, 0.1818273514509201, 0.5340100526809692, 0.18805409967899323, 0.27573108673095703, -0.41355249285697937, 0.27685606479644775, 0.20449084043502808, -0.001141253625974059, 0.004367709159851074, 0.28181377053260803, -0.12765488028526306, -0.239640012383461, 0.358695387840271, -0.30274495482444763, -0.43402549624443054, -0.37713754177093506, 0.49404779076576233, 0.7068029642105103, 0.5695695877075195, 0.4275307357311249, -0.09739632159471512, -0.1719411462545395, -0.139446422457695, -0.3793933391571045, -0.0749325081706047, 0.1503974348306656, -0.13996201753616333, 0.0079573355615139, -0.21048404276371002, -0.5156391263008118, -0.3078305721282959, 0.3589673638343811, -0.07309020310640335, -0.5946991443634033, -0.49914926290512085, 0.23163866996765137, 0.3795870542526245, -0.010061826556921005, 0.2293364554643631, 0.3826267421245575, -0.39180201292037964, 0.23735475540161133, 0.9091607332229614, 0.052740875631570816, -0.17618252336978912, -0.07109373807907104, 0.356250524520874, 0.21922418475151062, 0.03145456314086914, -0.059587422758340836, -0.14011898636817932, 0.08108813315629959, -0.7254831194877625, 0.22362709045410156, -0.0854869931936264, -0.1774573028087616, 0.09724432975053787, 0.07655127346515656, -0.4785895049571991, -0.5912230610847473, -0.02715439721941948, -0.4763232469558716, 0.5248596668243408, -0.11766761541366577, 0.3141307532787323, -1.0557305812835693, 0.4865104556083679, -0.1421796679496765, -0.9502498507499695, 0.39014315605163574, -0.8276499509811401, 0.10498405992984772, -0.03348976746201515, 0.3094465732574463, -0.36420610547065735, -0.09991669654846191, -0.27547430992126465, -0.1117938980460167, 0.20619821548461914, -0.6132264733314514, 0.3932645916938782, -0.13097745180130005, -0.018096335232257843, 1.020370364189148, -1.021158218383789, 0.15060122311115265, 0.944695770740509, -0.04430817812681198, 0.3004019260406494, 0.2383136749267578, 0.5573201775550842, -1.0532126426696777, 0.38248780369758606, 0.6496915817260742, -0.04347424581646919, -0.11111731827259064, 0.022217322140932083, 0.6346702575683594, 0.15200380980968475, -0.09973873943090439, -0.10644873231649399, -0.1836612969636917, -0.3010789453983307, -0.12852296233177185, -0.6804718375205994, 0.7674009799957275, -0.3652896583080292, -0.033391568809747696, 0.14463119208812714, -0.15196162462234497, 0.020615380257368088, 0.527600109577179, 0.401425302028656, -0.08387763798236847, -0.6714845299720764, -2.262904167175293, -0.4508320391178131, 0.054953981190919876, -0.36164021492004395, -0.04550736024975777, 0.07826809585094452, -0.05711529776453972, -0.6200888156890869, -0.4721657335758209, 0.5548725724220276, 0.30333828926086426, 0.07883352786302567, 0.030916662886738777, 0.06484191864728928, -0.12223302572965622, -0.4205591082572937, 0.26794904470443726, -0.5579341053962708, -0.08457136899232864, -0.41636601090431213, -0.28652524948120117, 0.19352860748767853, 0.16634616255760193, 0.3619276285171509, -0.6154622435569763, -0.3052031397819519, -0.06181127950549126, 0.09135956317186356, 0.5460451245307922, -0.36745619773864746, -0.8561262488365173, -0.4427148401737213, 0.1615036129951477, -0.12464743852615356, -0.2277211993932724, 0.22032608091831207, -1.282782793045044, 0.18853721022605896, 0.37571001052856445, 0.03341793641448021, 0.5510446429252625, 0.16480644047260284, 0.47710907459259033, -0.3156909942626953, 0.3405008614063263, 0.20323620736598969, 0.052616335451602936, -0.16606764495372772, 0.33656710386276245, 0.13985119760036469, -0.41711777448654175, 0.01574115641415119, 0.5088420510292053, -0.15344879031181335, 0.22860299050807953, -1.1020325422286987, -0.18739746510982513, 0.16024495661258698, 0.315064936876297, -0.5941056609153748, -0.4578406810760498, -0.5620023012161255, 0.30136388540267944, -0.23441600799560547, 0.6334967017173767, 0.07605922222137451, 0.4994342029094696, -0.07824848592281342, -0.026399273425340652, -0.45683935284614563, 0.47619348764419556, -0.4836018979549408, -0.9949746131896973, 0.11579318344593048, 0.1568654328584671, -0.43991154432296753, -0.17408767342567444, 0.11410168558359146, -0.20721957087516785, 1.042151689529419, 0.47790393233299255, 0.9042352437973022, -0.7630553245544434, -0.39992275834083557, -0.2635944187641144, -0.3956199288368225, 0.3093912601470947, 0.7628639340400696, -0.15583211183547974, 0.9426208734512329, 0.06041780486702919, 0.11397118866443634, -0.11122891306877136, -0.4787629544734955, 0.19242337346076965, 0.03958752751350403, 0.01445003505796194, 0.07106069475412369, -1.0481302738189697, 0.06324265897274017, 0.09329604357481003, 0.06419763714075089, 0.27485209703445435, -0.407784104347229, 0.7714873552322388, 0.07828886061906815, -0.038885749876499176, -1.1194190979003906, 0.6824994087219238, 0.005284563172608614, 0.5244896411895752, -0.6107492446899414, -0.12838774919509888, 0.09642425179481506, 0.31714358925819397, 0.018023714423179626, 0.015065095387399197, -0.26598691940307617, 0.9857161045074463, -0.7300457954406738, -0.1011018231511116, -0.7004181742668152, 1.8496615886688232, 0.4566578269004822, -0.08903772383928299, 0.08665695786476135, 0.0893658921122551, 0.29637208580970764, 0.10973108559846878, -0.05557730793952942, -0.48574092984199524, 0.22378280758857727, 0.7436472177505493, -0.10047946125268936, -0.16777540743350983, -0.26834869384765625, -0.1760784387588501, 23.71079444885254, -0.499502569437027, -2.054926633834839, -0.5010418891906738, 0.16824665665626526, -0.9778119325637817, 0.19376598298549652, -0.03367225453257561, 0.5690895318984985, -0.10294842720031738, -0.09333041310310364, 0.3922646939754486, -0.21204887330532074, -0.06713038682937622, 0.6584492921829224, -0.4139540195465088, 0.0859406441450119, -0.5117481350898743, -0.04956089332699776, -0.34395915269851685, -0.7997002601623535, 0.09673959761857986, 0.4496951699256897, 0.28549066185951233, 0.1905101090669632, 0.03337156027555466, 0.32577401399612427, -0.15489061176776886, -0.10406257957220078, 0.4818004071712494, 0.24362799525260925, -0.4787665009498596, 0.6126493215560913, -0.29578861594200134, -0.23509882390499115, 0.5632628798484802, 0.7586939930915833, -0.4970509707927704, 0.28180330991744995, 0.15254360437393188, -0.4383554756641388, -0.4013994336128235, -0.28247326612472534, -0.5094599723815918, 0.35928893089294434, 0.2706596851348877, -0.46317267417907715, -0.10820792615413666, 0.33707520365715027, -0.7761713266372681, 0.32202693819999695, -0.2900637090206146, 0.1678813397884369, 0.04791921749711037, -0.795211136341095, -0.36404138803482056, -0.13421671092510223, -0.2701791822910309, -0.5314536094665527, 0.4557349681854248, 0.8257738947868347, 0.27638328075408936, 0.243095263838768, 0.49730783700942993, -0.2995884418487549, 0.25656768679618835, -0.38528287410736084, -0.3142159879207611, -0.04181736335158348, -0.04436687007546425, -0.4336996376514435, -0.22970329225063324, 0.17954692244529724, 0.320626437664032, -0.8089777231216431, 0.07195321470499039, -0.32161980867385864, -0.01963677443563938, 0.8954760432243347, -0.03752550110220909, -0.31827735900878906, 0.0664249062538147, 0.3071141541004181, -0.21304944157600403, 0.08123882114887238, 0.08574090152978897, 0.4076038599014282, 0.332186758518219, -0.33477330207824707, 0.1276269406080246, -0.003963379189372063, 0.412657767534256, -0.5572697520256042, -0.288967102766037, -0.44942715764045715, 0.26573652029037476, -0.16907645761966705, -0.06569472700357437, -0.2556755840778351, -0.013921047560870647, 0.4089277982711792, -0.2440578192472458, 0.36344578862190247, 0.026393242180347443, -0.9681515693664551, 0.257606565952301, 0.2168375700712204, 0.2806297242641449, -0.5103309750556946, -0.06938272714614868, -0.06218816339969635, -0.371952623128891, 0.02954936772584915, 0.40036511421203613, 1.0518261194229126, -0.16138972342014313, 0.326454222202301, -0.16768983006477356, -0.7876270413398743, 0.15010374784469604, 0.04436415806412697, 0.3872978091239929, 0.16461965441703796, 0.5722482800483704, 0.08202136307954788, 0.19579847157001495, 0.1249607726931572, 0.0011418864596635103, 0.20713463425636292, 0.28254076838493347, 0.16229209303855896, 0.05080563575029373, -0.4377036988735199, 0.7237591743469238, 0.3062542974948883, 0.023716742172837257, 0.34882813692092896, -0.04274214059114456, -0.06213180348277092, 0.1299106478691101, -0.3416163921356201, 0.28876742720603943, -0.3505019545555115, 0.0045401048846542835, -0.12205608934164047, 0.011738188564777374, 0.06623058021068573, 0.5434570908546448, 0.19692030549049377, 0.5584763288497925, 0.43868139386177063, -0.5689851641654968, -0.08743017911911011, 0.3022291958332062, -0.34530335664749146, 0.27875906229019165, -0.7409363985061646, -0.9224035143852234, 0.5246012210845947, 0.06733998656272888, 0.11339849978685379, 0.012525097467005253, -0.5348649024963379, -0.0022474632132798433, -0.046425219625234604, 0.2633109390735626, 0.24260902404785156, -0.7271690964698792, 0.13736264407634735, 0.977164089679718, -0.020217783749103546, -0.3601946532726288, -0.4635973572731018, -1.2679394483566284, -0.3137369155883789, 0.08560597896575928, 0.22309505939483643, 0.1656898707151413, -0.5265912413597107, 0.07665293663740158, -0.1740538775920868, -0.08008056879043579, -0.15188489854335785, 0.2043391466140747, -0.14826679229736328, 0.6609641313552856, -0.29692864418029785, 0.10645122826099396, -0.0903206318616867, -0.30388057231903076, 0.84955233335495, -0.11191915720701218, -0.6212185025215149, 0.06104595586657524, 0.14632822573184967, 0.017709121108055115, 0.9646582007408142, -0.21369799971580505, -0.3576883375644684, -0.3471440076828003, -0.24223428964614868, -0.18272648751735687, 0.4342358112335205, 0.3258599042892456, 0.13849835097789764, 0.3554062247276306, 0.20096802711486816, -0.13213370740413666, 0.5115902423858643, -0.1460055708885193, -0.14750927686691284, -0.0046349940821528435, -0.3222050070762634, 0.8069398403167725, -0.420888751745224, -0.7632210850715637, -1.1383945941925049, -0.5507546067237854, 0.3105925917625427, -0.08008415251970291, -0.24191834032535553, -0.4476979970932007, -1.5259710550308228, -0.09121856838464737, 0.545957088470459, 0.6538436412811279, 0.09076706320047379, -0.2717823088169098, 0.03841308876872063, -1.1751916408538818, -0.019648751243948936, -0.37281739711761475, -0.14264841377735138, 0.836575984954834, -0.16136208176612854, 0.16842985153198242, 0.18737885355949402, -0.20572267472743988, -1.0223835706710815, -0.515666663646698, -0.1237110123038292, -0.5319458246231079, 0.3189397156238556, -0.02471359632909298, 0.42148661613464355, -0.28131723403930664, -0.02531539276242256, 0.11375116556882858, 0.015438027679920197, -0.044965244829654694, 0.22072061896324158, 0.9057071805000305, 0.4013058841228485, -0.14792437851428986, -0.1536107361316681, -0.17073728144168854, -0.31944864988327026, -0.3429310619831085, 0.7432029843330383, 0.010170049034059048, -0.17309099435806274, 0.15145739912986755, 0.7544801831245422, -0.3597048223018646, -0.17726394534111023, -0.19897347688674927, -0.026097122579813004, -0.19686882197856903, 0.36075150966644287, -0.3944186568260193, 0.0894862711429596, 0.8104298114776611, 0.9119513630867004, -0.26811304688453674, 0.5919547080993652, -0.2990797162055969, 0.3752615749835968, -0.1171436756849289, 0.47694727778434753, 0.25632667541503906, 0.702228307723999, -0.161302849650383, -0.008634409867227077, -0.25853806734085083, -0.4145995080471039, -0.3019544780254364, 0.18305371701717377, 0.054916225373744965, -0.4665461778640747, 0.17479002475738525, -0.5790441632270813, -0.08368086814880371, -0.026114359498023987, -0.6122962832450867, -0.5740872621536255, 0.16369670629501343, 0.6650331616401672, -0.07128184288740158, 0.3129117488861084, 0.46186399459838867, 0.25376439094543457, 0.0206607598811388, -0.47281989455223083, -0.057304397225379944, -0.3386954963207245, -0.08672946691513062, -0.06970888376235962, -0.37573930621147156, 0.19996203482151031, 0.06666316092014313, -0.049557462334632874, 0.40348777174949646, 0.055488765239715576, 0.2272142916917801, 0.4071415662765503, 0.09297564625740051, 0.17388775944709778, 0.016615580767393112, -0.16697363555431366, -0.15825121104717255, -0.10619419068098068, -0.7351095080375671, -0.46442723274230957, 0.8188991546630859, 0.3153177499771118, -0.3494362533092499, 0.43040043115615845, -0.24145536124706268, -0.44920724630355835, 0.12327621877193451, 0.2712019383907318, -0.06140595301985741, 0.20083224773406982, 0.9565017819404602, 0.15245719254016876, -0.19777581095695496, -0.0032923431135714054, 0.211434006690979, -0.20234614610671997, -0.2483585625886917, 0.10418061912059784, -0.5595015287399292, -0.06283283233642578, -0.059074703603982925, 0.13215892016887665, -0.7351582050323486])]\n",
      " [2\n",
      "  list([-0.6192537546157837, -0.19193889200687408, -0.384044349193573, 0.2082524448633194, -0.6080247163772583, 0.4782591164112091, 0.20338262617588043, 0.5042448043823242, -0.39835092425346375, 0.23590169847011566, 0.14720608294010162, -0.030748317018151283, -0.7404270172119141, 0.33281227946281433, 0.569347620010376, 0.1367003470659256, -0.08188729733228683, -0.31411296129226685, 0.07200105488300323, 0.14233215153217316, 0.20520074665546417, 0.23890705406665802, 0.1138598620891571, -0.4467875063419342, 0.3902041018009186, 0.21599489450454712, -0.08641031384468079, -0.05275522172451019, 0.1284443587064743, -0.0029878600034862757, -0.04598209634423256, -0.5932589173316956, -0.4666347801685333, -0.14448221027851105, -0.3754745423793793, 0.5142406821250916, -0.1653359979391098, -0.12418618053197861, -0.19600804150104523, -0.4991767704486847, -0.31055718660354614, 0.2565799653530121, -0.037501316517591476, -0.13152699172496796, 0.2644779682159424, -0.5024707913398743, -0.12552830576896667, 0.25383833050727844, 0.1529024988412857, 0.1418985277414322, 0.7123332619667053, -0.24778394401073456, 0.296182781457901, 0.19352537393569946, 0.19757765531539917, -0.5725829601287842, -0.6153334379196167, -0.11363372206687927, 0.3696967661380768, 0.1177678182721138, 0.18322065472602844, 0.14530709385871887, -0.34265515208244324, -0.178195521235466, -0.19963683187961578, -0.0458650216460228, 0.08901370316743851, -0.9018612504005432, 0.033502575010061264, 0.009625752456486225, 0.39867761731147766, 0.18271762132644653, 0.11415135860443115, -0.47133955359458923, -0.5907031893730164, 0.2926236391067505, 0.32114508748054504, 0.2098410576581955, 0.19821308553218842, 0.10688941180706024, 0.2091352492570877, 0.07356196641921997, -0.31954577565193176, -0.24373431503772736, -0.14064592123031616, 0.09934497624635696, -0.00901210866868496, -0.4245094060897827, 0.0570048950612545, 0.10371293872594833, 0.2442471981048584, 0.012010926380753517, 0.1476057469844818, -0.4908563792705536, 0.5020261406898499, -0.21815155446529388, 0.019144853577017784, -0.013332745060324669, -0.01994117721915245, -0.19196759164333344, 0.16510812938213348, 0.29490387439727783, -0.37279176712036133, -0.029654504731297493, 0.2974906861782074, 0.07769106328487396, 0.43851107358932495, -0.3825457692146301, 0.07752080261707306, 0.5395718812942505, 0.7943047881126404, -0.6028144955635071, 0.05602305009961128, -0.11851360648870468, 0.021441344171762466, -0.12187796086072922, -0.5699005126953125, 0.1543484777212143, 0.028838025406003, 1.092043399810791, 0.019633937627077103, -0.24967460334300995, -0.26369279623031616, 0.43038612604141235, 0.15347842872142792, -0.38599348068237305, -0.30393096804618835, -0.33574724197387695, -0.05045391246676445, -0.7175405025482178, 0.1576094627380371, -0.3999723792076111, 0.182847797870636, -0.04089047759771347, 0.7823722958564758, 0.061479996889829636, -0.6557509303092957, -0.015991518273949623, -0.25797274708747864, 0.0382792130112648, -0.1381540298461914, 0.07152772694826126, -0.12229888141155243, 0.44900810718536377, 0.5387439131736755, 0.03568865731358528, -0.2584299147129059, 0.6314518451690674, 0.08679772913455963, -0.027481278404593468, -0.4308706820011139, 0.10177378356456757, 0.20233598351478577, 0.29808980226516724, 0.1852557510137558, 0.08204235881567001, -0.47581619024276733, 0.3626056909561157, 0.03517523780465126, -0.20390859246253967, 0.11253999173641205, 0.036767613142728806, -0.18209724128246307, 0.21005167067050934, -0.38316237926483154, 0.47441110014915466, -0.2407863736152649, 0.2292935848236084, -0.2619546055793762, -0.31344738602638245, 0.19060969352722168, 0.1025652140378952, 0.2266671359539032, 0.5311965346336365, -0.06369033455848694, 0.2353496104478836, 0.2664141058921814, -0.09751790016889572, 0.5552154779434204, 0.6560497879981995, -0.16182561218738556, -0.5934306979179382, -0.1867222636938095, -0.5308727025985718, -0.2686688303947449, -0.07423034310340881, 0.2769009470939636, 0.5355525612831116, -0.06009359285235405, -0.27177494764328003, 0.0707886815071106, -0.36208462715148926, 0.19942983984947205, -1.6367932558059692, 0.29474982619285583, 0.03393876180052757, 0.0794631689786911, -0.1822185218334198, -0.3302708566188812, -0.38742801547050476, -0.19282294809818268, -0.1158720925450325, -0.26680299639701843, -0.6775570511817932, -0.571911633014679, 0.7112617492675781, 0.6394440531730652, -0.4128759205341339, -0.010576892644166946, 0.11934667080640793, -0.6244738101959229, 0.07796141505241394, 0.2465960681438446, -0.2166995406150818, -0.10485131293535233, -0.39860987663269043, 0.3664587438106537, -0.5137914419174194, -0.19321958720684052, -0.13941524922847748, -0.8312290906906128, -0.2783377766609192, -0.5467209219932556, 0.3517239987850189, 0.05125661939382553, -0.45839518308639526, -0.393412709236145, 0.5787941217422485, 0.1265403926372528, -0.437191903591156, -0.27029263973236084, -0.23454171419143677, 0.5109052658081055, 0.14492817223072052, 0.0301259346306324, -0.20906957983970642, 0.055858064442873, 0.16861124336719513, -0.21986261010169983, 0.18630018830299377, -0.4761604368686676, 0.1930963546037674, 0.17676657438278198, 0.2798892557621002, -0.36004871129989624, -0.33375585079193115, 0.05610722303390503, 0.18538889288902283, 0.10349901020526886, -0.09760545939207077, 0.286424845457077, -0.14296863973140717, -0.15317268669605255, 0.65852290391922, -0.1877976953983307, 0.1332828551530838, 0.5571404695510864, 0.25956353545188904, 0.15843063592910767, -0.014226655475795269, 0.10428842157125473, -1.151328206062317, 0.25469791889190674, 0.1553553193807602, -0.16227401793003082, -0.2662781774997711, -0.21619175374507904, 0.2658522129058838, 0.2106517106294632, 0.2291037142276764, 0.2661944627761841, -0.1453033685684204, 0.1370192915201187, 0.14498496055603027, -0.3204934597015381, 0.7399469017982483, 0.14214228093624115, -0.05549918860197067, -0.13998879492282867, -0.15374068915843964, -0.3123418986797333, 0.5694214701652527, -0.2765537202358246, -0.32924503087997437, -0.19985270500183105, -1.555212140083313, -0.5820391774177551, -0.5492848753929138, -0.3110812306404114, 0.15987271070480347, 0.1729525923728943, -0.04626007005572319, -0.4196215867996216, -0.0751165896654129, 0.1629972606897354, 0.6993597745895386, 0.18455274403095245, -0.15961739420890808, 0.1443987786769867, 0.033198095858097076, -0.2966405153274536, 0.1464817374944687, -0.4559233486652374, 0.38484179973602295, 0.09897014498710632, 0.14794807136058807, 0.3341321349143982, 0.04688255861401558, -0.17298023402690887, -0.29060524702072144, -0.0181428212672472, 0.3148089647293091, 0.21877260506153107, 0.5361859798431396, -0.07101762294769287, -0.28932592272758484, -0.4840550422668457, 0.1368250697851181, -0.18051929771900177, -0.24501273036003113, 0.27788740396499634, -0.8611986041069031, -0.08551433682441711, 0.1386430412530899, -0.2048574686050415, 0.6853241920471191, -0.14212524890899658, 0.2970068156719208, -0.29212841391563416, 0.08569204062223434, 0.13081644475460052, 0.14425073564052582, -0.05063045397400856, 0.5674961805343628, 0.27394047379493713, 0.16508594155311584, 0.21103523671627045, 0.3589351177215576, -0.12852612137794495, 0.017378760501742363, -0.9901927709579468, -0.31532856822013855, -0.3934972584247589, 0.22735533118247986, 0.3601342439651489, -0.4424341022968292, -0.5907347202301025, 0.48655039072036743, 0.4738175570964813, 0.5813375115394592, 0.3198162019252777, 0.571586549282074, -0.1658424735069275, -0.029288234189152718, -0.3514638841152191, 0.4310593605041504, 0.027680914849042892, -0.8058562874794006, 0.11375102400779724, 0.3096659481525421, -0.6844712495803833, 0.13508480787277222, 0.02772309072315693, 0.2787877917289734, 0.32964012026786804, 0.49904996156692505, 1.0584049224853516, -0.2627377510070801, 0.3680824637413025, -0.20038342475891113, -0.702064573764801, 0.4960867762565613, 0.4905889332294464, -0.32036951184272766, 1.0007929801940918, 0.08486069738864899, 0.004550862591713667, -0.14447197318077087, -0.3557737171649933, 0.16963167488574982, 0.22590391337871552, 0.2301248461008072, 0.26368585228919983, -0.6717371940612793, 0.2643117606639862, 0.014049258083105087, 0.37236592173576355, 0.3632871210575104, -0.13747538626194, 0.2970496416091919, 0.22498738765716553, 0.15055815875530243, -0.05722487345337868, 0.6496934294700623, 0.18987014889717102, 0.31692448258399963, -0.3096967935562134, 0.48691168427467346, 0.0969599038362503, 0.42974773049354553, -0.2775033116340637, 0.213858500123024, -0.15007463097572327, 0.5239160060882568, -0.5996555685997009, 0.06286868453025818, -0.3237617015838623, 1.9117686748504639, -0.13505101203918457, 0.34503448009490967, -0.001381870941258967, 0.3414272367954254, 0.31703391671180725, 0.4375658631324768, -0.13118988275527954, -0.308029443025589, 0.7622253894805908, 0.3905879557132721, 0.035160910338163376, -0.32188886404037476, 0.02545941062271595, 0.20181700587272644, 18.291873931884766, 0.059259798377752304, -1.4962518215179443, -0.20516718924045563, -0.41189467906951904, -0.5009510517120361, 0.4856182038784027, 0.14367903769016266, -0.019885972142219543, 0.06663594394922256, 0.21074004471302032, 0.2153630554676056, -0.024424977600574493, 0.32184767723083496, 0.6926866769790649, -0.7821275591850281, -0.2472185343503952, -0.40764525532722473, -0.022531336173415184, 0.015510686673223972, -0.7284515500068665, 0.3416963219642639, 0.5201290845870972, 0.33889371156692505, 0.2719113230705261, 0.12778353691101074, 0.04148797318339348, -0.05697308108210564, -0.22862739861011505, 0.44954735040664673, 0.30830907821655273, -0.5193395018577576, 0.5358189940452576, 0.16029977798461914, -0.31965944170951843, 0.4146222472190857, 0.46758198738098145, -0.19944661855697632, 0.3048081398010254, 0.051242645829916, -0.22858914732933044, -0.4279223084449768, 0.3106572926044464, -0.48445385694503784, 0.22439906001091003, 0.09786006063222885, -0.012006934732198715, -0.20233961939811707, 0.2981410622596741, -0.81900554895401, 0.4771120846271515, 0.3119591474533081, 0.23290498554706573, -0.37188413739204407, -0.18673036992549896, -0.19410011172294617, -0.016697805374860764, -0.34518587589263916, -0.30587321519851685, 0.3010154962539673, 0.6580875515937805, 0.324162095785141, -0.1408829540014267, 0.519428551197052, 0.012288606725633144, -0.17708460986614227, -0.3076765537261963, -0.3512762784957886, 0.23040248453617096, 0.18479281663894653, -0.20004190504550934, -0.46637219190597534, 0.08744021505117416, 0.4975090026855469, -0.3330775797367096, -0.39298683404922485, -0.3180711567401886, -0.22486187517642975, 0.5687016248703003, -0.24609164893627167, -0.18557550013065338, -0.5397553443908691, 0.015642637386918068, -0.15250997245311737, 0.04028233140707016, -0.2958392798900604, 0.14758260548114777, 0.18659667670726776, -0.6531028151512146, 0.5970790982246399, 0.28857314586639404, 0.3883313536643982, -0.46604177355766296, -0.2856712341308594, 0.00446601677685976, 0.11999960988759995, 0.14743228256702423, -0.09721311181783676, -0.10771463066339493, -0.10802756994962692, 0.6417331099510193, 0.0693219006061554, 0.3277387022972107, -0.01631968840956688, -0.3666909337043762, 0.1673067957162857, -0.1783430129289627, 0.3269677460193634, -0.3624994158744812, -0.3417333960533142, -0.33470281958580017, -0.6680063009262085, 0.4063413739204407, -0.170907124876976, 0.46397048234939575, 0.33056771755218506, 0.16951344907283783, -0.13975375890731812, -0.7709466814994812, 0.12930089235305786, -0.0051536415703594685, 0.15632028877735138, 0.44046223163604736, -0.0006902522873133421, -0.05113856866955757, 0.5341184139251709, 0.11234689503908157, 0.09072105586528778, -0.11391448974609375, 0.11585576832294464, 0.3552118241786957, 0.1325354129076004, -0.6254510879516602, 0.3606509864330292, 0.34391555190086365, -0.06073380634188652, -0.022333713248372078, -0.11448153853416443, 0.09311947971582413, -0.11237725615501404, -0.6974096298217773, -0.05269554629921913, -0.6784577965736389, 0.24047456681728363, 0.2611335515975952, -0.21722601354122162, 0.17729656398296356, 0.40203356742858887, -0.30770060420036316, 0.3971359431743622, 0.35054412484169006, -0.5206074118614197, -0.33925625681877136, 0.752772331237793, -0.3520861864089966, 0.057120468467473984, -0.5039351582527161, -0.4922214448451996, -0.1299106925725937, 0.15300218760967255, -0.18051894009113312, 0.268292099237442, -0.5089889168739319, -0.3256670832633972, 0.05255358666181564, -0.03848600760102272, -0.32775309681892395, -0.5008775591850281, -0.1477910727262497, 0.4886125922203064, -0.4407716393470764, -0.012415573932230473, -0.541678786277771, -1.3712815046310425, -0.41755497455596924, 0.25735822319984436, -0.09920018166303635, -0.012586641125380993, -0.3396679759025574, -0.2987516522407532, -0.23406831920146942, -0.16551503539085388, 0.07672358304262161, -0.17835424840450287, 0.14129336178302765, 0.245491161942482, -0.06280741840600967, -0.25149932503700256, -0.08307941257953644, -0.2931048274040222, 0.4056703448295593, 0.02129853144288063, -0.19954413175582886, -0.6703938841819763, 0.0033611918333917856, 0.12478821724653244, 0.3490593135356903, -0.12867669761180878, -0.16712073981761932, -0.022663671523332596, 0.1930275559425354, -0.11031585186719894, 0.22543439269065857, 0.2397008091211319, -0.03994759917259216, 0.2440902590751648, 0.19593338668346405, 0.2804486155509949, 0.049845919013023376, -0.24251024425029755, 0.28057482838630676, -0.2636812627315521, -0.35899263620376587, 0.2454460710287094, -0.1278459131717682, -0.6807444095611572, -1.4523314237594604, -0.1961493343114853, 0.1703076958656311, 0.08234594017267227, -0.11980753391981125, -0.4866926372051239, -0.8925989866256714, 0.1251554638147354, 0.5787249207496643, 0.293685644865036, -0.008474016562104225, -0.10294100642204285, 0.04396018758416176, -0.6201593279838562, -0.015557610429823399, -0.19035349786281586, 0.05243529751896858, 0.52191162109375, 0.5882553458213806, -0.0188446044921875, 0.5105094313621521, 0.40608930587768555, -0.28307294845581055, -0.3668868839740753, -0.6420335173606873, -0.294278621673584, -0.1149776503443718, -0.09140999615192413, 0.10710003226995468, -0.28350409865379333, 0.2946721315383911, 0.3642418086528778, -0.01088531594723463, -0.27812203764915466, 0.1719251126050949, 0.5799961090087891, 0.10935437679290771, -0.8710419535636902, 0.07626074552536011, 0.31718334555625916, -0.3476641774177551, -0.02500094287097454, 0.4678648114204407, 0.212029829621315, 0.29005399346351624, 0.1001967191696167, 0.3730943500995636, -0.15291248261928558, -0.1098150983452797, 0.06506392359733582, 0.27397817373275757, 0.07022958248853683, 0.28409692645072937, 0.031107470393180847, 0.5649592280387878, 0.9206569790840149, 0.4974748492240906, -0.04120916128158569, 0.5000767111778259, -0.5843760371208191, 0.33889469504356384, 0.11629506945610046, 0.2966797649860382, -0.15287922322750092, 0.6039677262306213, 0.05041789636015892, -0.01475162710994482, 0.11383301764726639, -0.464680016040802, -0.26162493228912354, -0.4293942451477051, 0.19857065379619598, -0.885516345500946, 0.3283024728298187, -0.3098360598087311, -0.3420405983924866, 0.4981130063533783, -0.14018969237804413, 0.12392332404851913, 0.07917609810829163, 1.1289913654327393, -0.3252846598625183, 0.036276254802942276, 0.38584235310554504, 0.20099225640296936, 0.0731177031993866, -0.3339456617832184, -0.276064395904541, -0.29895657300949097, 0.24939821660518646, -0.5425678491592407, -0.03806420415639877, 0.2382289469242096, 0.8172782063484192, 0.004120182245969772, 0.4975802004337311, -0.004347248934209347, 0.06500472873449326, -0.26370924711227417, 0.4778575003147125, 0.20173512399196625, 0.046703074127435684, -0.17960238456726074, 0.30164098739624023, -0.37495505809783936, -0.672130823135376, 0.19290713965892792, 0.3691360056400299, 0.11615394800901413, -0.2284102588891983, 0.08076224476099014, -0.17877896130084991, -0.149912029504776, -0.10481268912553787, 0.1797156035900116, 0.20820848643779755, -0.08408794552087784, 1.243131399154663, -0.29986751079559326, -0.4111693501472473, -0.18780042231082916, -0.013601286336779594, -0.07448519766330719, -0.5331430435180664, -0.20041164755821228, -0.42180031538009644, -0.2397003024816513, 0.2095237821340561, 0.15594534575939178, -0.2631100118160248])]\n",
      " ...\n",
      " [4\n",
      "  list([-0.0636778399348259, -0.24925105273723602, 0.12395718693733215, 0.4414444863796234, 0.017980676144361496, -0.10568788647651672, 0.5185385942459106, 0.7098270654678345, 0.16837066411972046, -0.45537447929382324, 0.5639397501945496, -0.7334728837013245, -0.1520111858844757, -0.2415996789932251, -0.13970701396465302, -0.28013378381729126, 0.036837387830019, 0.06638020277023315, 0.3121437728404999, -0.04212279990315437, -0.6258048415184021, 0.18489350378513336, -0.30407312512397766, 0.026379728689789772, 0.5804604291915894, 0.15632782876491547, 0.059910889714956284, 0.0599571168422699, -0.09452235698699951, -0.13231752812862396, 0.07066477835178375, -0.6392607092857361, -0.27059534192085266, -1.1749539375305176, 0.4905393421649933, 0.9582639932632446, 0.3829919993877411, -0.01686393842101097, -0.3730066120624542, -0.027092155069112778, -0.2632724344730377, -0.30214160680770874, 0.46849173307418823, -0.14558015763759613, 0.46446168422698975, 0.1409817785024643, 0.2449190318584442, 0.26301658153533936, -0.4718041718006134, 0.06350254267454147, 0.48096734285354614, -0.14621573686599731, -0.47794559597969055, 0.2947506308555603, -0.06546155363321304, -0.4145471751689911, -0.8597938418388367, 0.0363536961376667, 0.4875933825969696, 0.23672746121883392, -0.2253706455230713, -0.24958112835884094, 0.22924333810806274, 0.46127498149871826, -0.018467634916305542, -0.04723558574914932, -0.0069665987975895405, -0.6490106582641602, -0.06009622663259506, 0.30507275462150574, -0.15903130173683167, 0.052613869309425354, -0.11658043414354324, 0.07271213829517365, -0.47657886147499084, 0.45334526896476746, 0.3336672782897949, 0.5838435888290405, 0.19730843603610992, 0.05156100541353226, 0.255327045917511, 0.4560050070285797, -0.16230978071689606, -0.14687596261501312, -0.1686440110206604, 0.09708017855882645, -0.40732893347740173, 0.5307322144508362, 0.060933541506528854, 0.11129587143659592, 0.34512820839881897, 0.2750404179096222, 0.11745856702327728, -0.17845012247562408, 0.5049553513526917, 0.35807889699935913, 0.5927314162254333, 0.32204341888427734, -0.14831478893756866, -0.05124283954501152, -0.5263895392417908, 0.09486231207847595, -0.0059867845848202705, 0.5611797571182251, 0.35363101959228516, -0.031656570732593536, 0.03725606948137283, 0.21782097220420837, 0.16069935262203217, 0.044111065566539764, 0.7184943556785583, -0.597819447517395, 0.24036432802677155, -0.37907981872558594, -0.5530824065208435, -0.5454623103141785, 0.17241795361042023, 0.3208785057067871, 0.2694423794746399, 1.169057846069336, -0.3059569001197815, 0.37233734130859375, -0.21786223351955414, 0.3588019609451294, -0.06356345117092133, -0.12029813975095749, -0.034403152763843536, -0.6749497056007385, 0.2906166911125183, -0.35012608766555786, 0.026457566767930984, 0.389493465423584, -0.2882576286792755, -0.12400403618812561, 0.6394984722137451, -0.17253533005714417, -0.42006903886795044, -0.16108350455760956, -0.16237184405326843, 0.20609161257743835, -0.10164111107587814, 0.09982109069824219, -0.12095841020345688, 0.7974659204483032, 0.6693214774131775, 0.1164582371711731, -0.22660334408283234, 0.975750744342804, -0.8054960370063782, 0.02801225148141384, 0.2635326087474823, 0.2750806212425232, -0.4246520698070526, -0.25318047404289246, -0.16105720400810242, -0.3381367325782776, -0.48688971996307373, -0.12165817618370056, -0.381469190120697, 0.1328774094581604, 0.12031532824039459, -0.1742529273033142, -0.27070215344429016, 0.20510227978229523, -0.4706283211708069, -0.30648431181907654, -0.5290105938911438, -0.3609236776828766, 0.11668302863836288, -0.6576149463653564, -0.020766349509358406, 0.09157074987888336, 0.06799238920211792, -0.5437052249908447, 0.21945235133171082, 0.02647118642926216, 0.10794632881879807, -0.5332807898521423, 0.4236166775226593, 0.3999477028846741, -0.05478505417704582, -0.06618408858776093, 0.23867176473140717, -0.47274017333984375, 0.1179276555776596, -0.38387832045555115, 0.195248544216156, 0.06964094191789627, 0.20628193020820618, -0.6237201690673828, 0.36799702048301697, 0.41208842396736145, -0.36305317282676697, -0.7225134372711182, 0.06312444806098938, -0.2982500195503235, 0.08259722590446472, 0.06782694905996323, 0.0985107496380806, -0.5262154936790466, -0.5475238561630249, 0.0755523294210434, -0.4153977334499359, 0.03389738127589226, 0.15205781161785126, -0.39209145307540894, 0.31184515357017517, 0.06680042296648026, 0.22592498362064362, 0.0050055114552378654, -1.0579440593719482, -0.24122509360313416, 0.6189649105072021, 0.3709319233894348, -0.09398692101240158, -0.819006085395813, -0.40789249539375305, -0.5202150344848633, 0.09581483900547028, -0.2252652496099472, -0.0559062696993351, -0.12084083259105682, 0.23317833244800568, 0.34194040298461914, -0.07262146472930908, -1.155496597290039, -0.38082924485206604, -0.3421476185321808, 0.4114493429660797, 0.12249307334423065, -0.13706718385219574, -0.29816973209381104, 0.44831132888793945, 0.3140137195587158, 0.6304274201393127, -0.6765550971031189, 0.5852237939834595, 0.042579445987939835, 0.11332832276821136, 0.33214229345321655, -0.5393234491348267, -0.4897526502609253, 0.7114781141281128, -0.3463470935821533, -0.6719551682472229, -0.29321497678756714, 0.3596959114074707, -0.20806381106376648, 0.3052141070365906, -0.4222797751426697, -0.4868502616882324, -0.7010244727134705, 0.8266665935516357, 0.14091812074184418, 0.01335236243903637, 0.5569430589675903, 0.9307058453559875, -0.05994780734181404, 0.49757736921310425, -0.5030714869499207, 0.14079231023788452, -0.9893462061882019, -0.19889885187149048, 0.5982933640480042, -0.06053028628230095, -0.1592758446931839, 0.0013326433254405856, -0.0063755023293197155, 0.3063053488731384, -0.006936023477464914, 0.5518300533294678, 0.5290103554725647, 0.13193699717521667, -0.5316998958587646, 0.02330349199473858, 0.14371825754642487, 1.2061786651611328, 0.6357269287109375, 0.12179505825042725, 0.21527084708213806, -0.026085708290338516, 0.4354676902294159, -0.019926147535443306, 0.04143153876066208, -0.09940202534198761, -1.5422290563583374, -0.7455965876579285, 0.14887510240077972, -0.183638334274292, -0.07789977639913559, 0.49588149785995483, 0.062326956540346146, -0.018835069611668587, -0.653759241104126, -0.45426225662231445, -0.17360861599445343, 0.0032186040189117193, -0.27676260471343994, 0.21696656942367554, 0.45061686635017395, 0.14117246866226196, -0.25802913308143616, -0.6354846954345703, 0.4817911684513092, 0.132289320230484, 0.18110761046409607, -0.038679130375385284, 0.10278097540140152, -0.22197780013084412, 0.1272720843553543, 0.1438531130552292, -0.2777341604232788, -0.04490159451961517, 0.09258091449737549, -0.4966684877872467, -0.45028555393218994, -0.41783806681632996, 0.2312508225440979, 0.49873560667037964, -0.5728242993354797, 0.6107460260391235, -0.6298601031303406, -0.12047025561332703, -0.03525517135858536, 0.24604743719100952, 0.18763317167758942, 0.0722857341170311, 0.8196571469306946, -0.4774205982685089, -0.17519532144069672, 0.5100262761116028, -0.5960494875907898, 0.19404347240924835, 0.5125563144683838, -0.2041647732257843, 0.07932357490062714, 0.22111384570598602, 0.2525014877319336, -0.49311167001724243, -0.28833723068237305, -0.20995616912841797, 0.36624497175216675, 0.3761559724807739, 0.5853889584541321, 0.14458441734313965, -0.25006547570228577, -0.9089959859848022, 0.4585772156715393, 0.10996966063976288, -0.17865200340747833, 0.10170949995517731, 0.5515384078025818, -0.1408202052116394, 0.1889490932226181, -0.01521454006433487, 0.7289057374000549, -0.041334960609674454, -0.5787386894226074, -0.39224374294281006, 0.40890344977378845, -0.09519391506910324, 0.1199704259634018, -0.1838136464357376, -0.2349858433008194, 0.5351126194000244, 0.4550512135028839, 1.0130678415298462, -0.48723432421684265, -0.32464802265167236, -0.2653631865978241, -0.7519374489784241, -0.21790899336338043, 0.7892022728919983, -0.07220857590436935, 0.7837671637535095, 0.39937078952789307, 0.07311801612377167, 0.4024113118648529, -0.05328098312020302, 0.22135886549949646, 0.26637572050094604, -0.19138704240322113, 0.059339459985494614, -0.29258814454078674, -0.019138243049383163, 0.3347991704940796, 0.2182878851890564, -0.23771871626377106, -0.2800590991973877, -0.17658847570419312, -0.37560129165649414, 0.43973469734191895, -0.4095205068588257, 1.1815779209136963, 0.2075810581445694, 0.16824856400489807, -0.2561427354812622, 0.14582665264606476, -0.08582882583141327, -0.41142937541007996, 0.33749645948410034, 0.26271021366119385, -0.5560764670372009, 0.1132209450006485, -0.8565266728401184, 0.06761858612298965, -0.8018306493759155, 1.918510913848877, 0.2914581298828125, 0.47641122341156006, 0.27853265404701233, -0.03232521191239357, 0.2078954130411148, 0.5942152738571167, 0.11817143857479095, -0.5765068531036377, 0.4693869352340698, -0.21142883598804474, -0.21245349943637848, -0.1445179134607315, -0.08475226163864136, 0.23129849135875702, 18.65146255493164, 0.051481205970048904, -2.4266767501831055, -0.9627761840820312, 0.1721866875886917, 0.1286519467830658, 0.2560803294181824, -0.20164042711257935, 0.3502063453197479, 0.37860631942749023, 0.15477919578552246, -0.40731117129325867, 0.31079399585723877, 0.48813962936401367, 0.21971336007118225, -0.4360918402671814, -0.5404309034347534, 0.25944244861602783, 0.5268957018852234, -0.4931335151195526, -0.5329241752624512, 0.26677632331848145, 0.3318919837474823, 0.6743184328079224, -0.11326190084218979, 0.17022821307182312, 0.23813900351524353, 0.2537372410297394, -0.20363809168338776, 0.03575507178902626, 0.15042012929916382, -0.8810318112373352, 0.9670901894569397, 0.20238232612609863, -0.026146449148654938, -0.053174685686826706, 0.21216553449630737, -0.16196505725383759, 0.3137325644493103, 0.5891570448875427, -0.9343400001525879, 0.031644295901060104, 0.5079969763755798, -0.023846380412578583, -0.19045403599739075, -0.41168496012687683, -0.18262457847595215, -0.168418288230896, -0.15499716997146606, -1.0020835399627686, -0.09107381105422974, 0.0767386332154274, -0.12987640500068665, -0.16425971686840057, -0.7468235492706299, 0.4825242757797241, 0.17235244810581207, 0.09655711054801941, -0.48607486486434937, 0.7081509232521057, 0.26080039143562317, 0.517665445804596, -0.1731315553188324, 0.086956687271595, 0.02807813137769699, -0.3202199935913086, -0.7552856206893921, -0.32685261964797974, 0.16733011603355408, -0.07031349837779999, -0.5109002590179443, -0.6991996765136719, -0.02227463386952877, 0.472210556268692, -0.24898061156272888, 0.3262549638748169, -0.2110920548439026, -0.433699369430542, -0.18220177292823792, -0.7144840955734253, -0.23867490887641907, 0.4140567481517792, 0.8000448346138, 0.08707590401172638, 0.17308638989925385, -0.1830676645040512, 0.3851511776447296, -0.20689889788627625, -0.2963050305843353, 0.17776335775852203, 0.010362458415329456, 0.3832835853099823, -0.42812982201576233, 0.104061059653759, -0.15379317104816437, -0.04479779303073883, 0.0033192443661391735, -0.16639374196529388, -0.2071601301431656, -0.19304616749286652, 0.15207970142364502, 0.17516453564167023, 0.0753505527973175, -0.4579995572566986, -0.2872878313064575, 0.6676604151725769, 0.16684725880622864, -0.031915515661239624, -0.11979278922080994, 0.14006932079792023, -0.10555016249418259, -0.40933308005332947, 1.2203994989395142, -0.8632196187973022, 0.1076296716928482, 0.3036602735519409, 0.0650300681591034, 0.19399988651275635, -0.3728117346763611, 0.22283975780010223, 0.3246150612831116, 0.09903957694768906, -0.0009781843982636929, -0.023722095414996147, -0.1390942931175232, 1.1645917892456055, -0.1573214828968048, 0.32118120789527893, 0.15473675727844238, 0.17823514342308044, 0.511283814907074, 0.2750941812992096, -0.7336857914924622, 0.5915824174880981, 0.2525380253791809, -0.6439846754074097, -0.07265603542327881, 0.12056267261505127, -0.3798285722732544, -0.5509297847747803, -0.14564299583435059, 0.2447613626718521, -0.6440615057945251, -0.29685673117637634, 0.16893544793128967, 0.6881548762321472, -0.1198243796825409, -0.12441728264093399, -0.2771869897842407, 0.46532249450683594, 0.17354464530944824, -0.26303404569625854, -0.6250472664833069, 0.47881728410720825, -0.21014073491096497, -0.13367167115211487, 0.07819798588752747, -0.5578461289405823, 0.2562209665775299, -0.1351989358663559, 0.2712479829788208, 0.008310046046972275, -0.1269327849149704, -0.17370744049549103, 0.15038079023361206, 0.16725601255893707, -0.2361951768398285, -0.7767676711082458, -0.22106310725212097, 0.2133861780166626, 0.27939313650131226, -0.5906293392181396, -0.5950800776481628, -1.2791156768798828, -0.5577751398086548, -0.35922595858573914, 0.11688105016946793, 0.17950008809566498, -0.42859119176864624, 0.2815130949020386, 0.2638404071331024, -0.1472230851650238, 0.7431256771087646, -0.04878602921962738, -0.22995011508464813, -0.40110695362091064, -0.38510751724243164, -0.5039543509483337, -0.3476414978504181, -0.14917530119419098, 0.4258503019809723, 0.04318726807832718, -0.07174492627382278, 0.16795003414154053, -0.8055750727653503, 0.39179641008377075, 0.37630611658096313, -0.2755224406719208, -0.4041246771812439, 0.4690236747264862, -0.15215574204921722, -0.3461740016937256, -0.1636202484369278, 0.08039405196905136, 0.2961820065975189, 0.1243365928530693, 0.3034224808216095, 0.42982733249664307, -0.06863607466220856, -0.20435617864131927, 0.22304420173168182, -0.40277671813964844, -0.10265940427780151, 0.41255271434783936, -0.29480138421058655, -0.23849771916866302, -1.6031968593597412, -0.011189121752977371, 0.2713618278503418, 0.1555694192647934, 0.1208517998456955, -0.10695897042751312, -1.5520509481430054, -0.09558757394552231, 0.3898778557777405, 0.4672337770462036, -0.1653899848461151, -0.008962489664554596, -0.02357889898121357, -0.0012931760866194963, 0.08482041954994202, -0.294919490814209, -0.269520103931427, 0.9435282349586487, 0.0316719114780426, 0.10615195333957672, 0.30547034740448, 0.3911472260951996, -0.7713974118232727, 0.4188694357872009, -0.10519998520612717, -0.07755192369222641, -0.24185428023338318, 0.051262255758047104, 0.23752731084823608, 0.3677106499671936, 0.3293909728527069, 0.27393755316734314, 0.14316532015800476, -0.024800727143883705, 0.39641138911247253, 0.28913387656211853, -0.18233609199523926, -0.2162487804889679, -0.008935912512242794, 0.24561373889446259, -0.4838730990886688, 0.2978687882423401, 0.5197702050209045, 0.3890574276447296, 0.11263842135667801, -0.37583693861961365, 0.37907129526138306, -0.1562444120645523, -0.9250901937484741, -0.08829409629106522, 0.2708929181098938, -0.14798760414123535, 0.4747902452945709, -0.47651129961013794, 0.14545181393623352, 0.5254336595535278, 0.198791041970253, -0.8117944598197937, -0.004884426016360521, 0.24638642370700836, -0.2781689465045929, -0.5966618061065674, 0.5984299778938293, 0.2492142766714096, 0.5264498591423035, -0.24170342087745667, -0.15448889136314392, 0.30641940236091614, -0.3346790075302124, -0.4584519565105438, 0.25977882742881775, 0.004453745204955339, -0.6598049402236938, -0.13006848096847534, -0.1585225909948349, -0.9331570267677307, 0.21037444472312927, -0.043268803507089615, -0.10476832836866379, -0.6037420034408569, 0.8789960145950317, -0.3369661569595337, 0.4537452161312103, -0.08147519081830978, 0.5788138508796692, 0.27827709913253784, 0.1552141010761261, 0.04657619819045067, -0.28548192977905273, -0.24274688959121704, -0.6448265314102173, -0.1914673000574112, 0.04435382038354874, 0.34206798672676086, 0.3309432864189148, 0.2409122884273529, 0.3593177795410156, -0.12788572907447815, 0.30510690808296204, 0.7313539385795593, 0.4334506094455719, 0.24817757308483124, 0.5608698129653931, 0.807504415512085, -0.266723096370697, -0.6087898015975952, -0.07746922969818115, 1.1717331409454346, 0.4151492118835449, 0.08545839786529541, 0.27723753452301025, -0.4905450940132141, -0.16836145520210266, -0.6318742036819458, 0.25942906737327576, 0.41405537724494934, -0.7260125279426575, 0.8991113305091858, -0.22638030350208282, 0.01353944931179285, 0.3422330319881439, 0.10431674122810364, -0.7913123369216919, 0.11868803948163986, -0.3242187201976776, 0.042767126113176346, -0.14014407992362976, 0.21405339241027832, -0.48107418417930603, -0.04000963270664215])]\n",
      " [4\n",
      "  list([-0.1644267588853836, 0.18554329872131348, -0.3932712972164154, 0.11036694794893265, -0.31496065855026245, -0.026900703087449074, 0.6667561531066895, 0.13149021565914154, 0.16108226776123047, -0.4209212362766266, 0.3827539086341858, -0.4289911687374115, 0.11760012805461884, -0.29186442494392395, -0.35626211762428284, -0.47613534331321716, -0.24519799649715424, 0.11920060962438583, 0.12309709191322327, 0.03712813928723335, -0.4615003764629364, -0.13226957619190216, 0.1420878767967224, 0.017403878271579742, 0.45813149213790894, 0.05274870991706848, -0.12699761986732483, -0.03757604956626892, 0.058482132852077484, -0.2615683078765869, 0.11324281245470047, -0.32200106978416443, -0.1557384580373764, -0.880906343460083, 0.2548316419124603, 0.6757705211639404, 0.295467346906662, 0.06054118275642395, -0.33736518025398254, -0.16798348724842072, -0.14299406111240387, 0.02546043135225773, 0.6090904474258423, 0.2706771790981293, 0.1027395948767662, 0.15544649958610535, 0.09384448081254959, 0.5959290862083435, -0.5322626829147339, -0.004005610477179289, 0.5893511772155762, -0.06577584892511368, -0.16757754981517792, 0.0785999670624733, -0.02537432871758938, -0.24097922444343567, -0.6429261565208435, -0.15042302012443542, 0.29667928814888, 0.27708086371421814, -0.17037907242774963, -0.2953745722770691, 0.44582226872444153, 0.5488319396972656, 0.05917416885495186, 0.260303258895874, 0.10941921919584274, -0.5672450065612793, -0.05179610848426819, 0.07211185246706009, -0.026011552661657333, 0.2427615374326706, -0.21307964622974396, 0.2736149728298187, -0.4572021961212158, 0.14134997129440308, 0.0366995744407177, 0.5389008522033691, 0.07729997485876083, 0.19619882106781006, -0.10599119961261749, 0.05860120430588722, -0.21633467078208923, -0.10533525049686432, 0.0351942703127861, -0.014806607738137245, -0.21553640067577362, 0.22240781784057617, 0.031936321407556534, -0.1423739641904831, 0.43939656019210815, 0.2575514316558838, 0.0495632104575634, 0.08267377316951752, 0.6640596389770508, 0.3285033702850342, 0.24525444209575653, 0.10657911747694016, -0.10055908560752869, -0.3529595136642456, -0.4488303065299988, 0.08054986596107483, 0.14139239490032196, 0.11051293462514877, 0.012517360970377922, -0.10818787664175034, 0.10759484022855759, 0.0993339791893959, 0.16747839748859406, 0.280566543340683, 0.5681020617485046, -0.6972246170043945, 0.2821228504180908, -0.4064953327178955, -0.23518040776252747, -0.41972771286964417, -0.3062021732330322, 0.3709965944290161, 0.1712711602449417, 0.9469547271728516, -0.17220647633075714, 0.5363421440124512, 0.2941296100616455, 0.12377392500638962, 0.14017927646636963, -0.10528790205717087, 0.08723413199186325, -0.3432285785675049, 0.09379414469003677, -0.32004570960998535, 0.3546602427959442, 0.31664150953292847, 0.31146278977394104, -0.12643851339817047, 0.42037323117256165, 0.05465537682175636, -0.2392280250787735, 0.07487863302230835, -0.06453526765108109, 0.07549172639846802, 0.3992733061313629, -0.09490887820720673, -0.17006061971187592, 0.45089972019195557, 0.4964250326156616, -0.057411614805459976, 0.05629202723503113, 0.48798808455467224, -0.19998790323734283, -0.12096284329891205, -0.049473315477371216, 0.26940473914146423, -0.1353466808795929, -0.12622612714767456, -0.06939835101366043, -0.6275414824485779, -0.7689014077186584, -0.1639905720949173, -0.09621824324131012, 0.4503933787345886, 0.1158217266201973, -0.3519793748855591, -0.2492792010307312, -0.08440003544092178, -0.18988534808158875, 0.03783199191093445, -0.5153620839118958, -0.5277673006057739, 0.2564382255077362, -0.5691261887550354, 0.16994452476501465, 0.3019714653491974, -0.06644994020462036, -0.252296507358551, 0.5835407972335815, -0.289288192987442, -0.04414968192577362, -0.58528071641922, 0.3336135149002075, 0.4246399998664856, -0.18831767141819, -0.10673362016677856, 0.4335908889770508, -0.6156589388847351, -0.054553188383579254, -0.5266023874282837, 0.11557402461767197, 0.3098973333835602, 0.09599258005619049, -0.6168236136436462, 0.42710551619529724, 0.052144795656204224, 0.2525518536567688, -0.9349763989448547, 0.03648671135306358, -0.14191105961799622, 0.16476894915103912, -0.15360774099826813, -0.003293802496045828, -0.6747180819511414, -0.5341505408287048, 0.46921318769454956, -0.13762477040290833, 0.003672759747132659, -0.13424472510814667, -0.4505327045917511, 0.23002445697784424, -0.10963837802410126, 0.5047513246536255, -0.2078372985124588, -0.6592075228691101, -0.48909372091293335, 0.4670291244983673, 0.08660632371902466, -0.4007073938846588, -0.6701637506484985, -0.14414872229099274, -0.14843034744262695, -0.08634182810783386, -0.2488471120595932, -0.09373210370540619, -0.19315026700496674, 0.15713387727737427, 0.33282652497291565, -0.20154710114002228, -1.077742576599121, -0.17349179089069366, -0.32028189301490784, 0.3319685161113739, 0.2148115187883377, 0.16205275058746338, -0.37835559248924255, 0.32314005494117737, 0.6115630865097046, 0.639454185962677, -0.5192611217498779, 0.6923142671585083, -0.0562993586063385, -0.05002676323056221, 0.4257209599018097, -0.22370895743370056, -0.18443195521831512, 0.7426956295967102, -0.5246761441230774, -0.6394087076187134, -0.31047502160072327, -0.03745914250612259, -0.05431640148162842, 0.21074892580509186, -0.5156794786453247, -0.23858408629894257, -0.6321984529495239, 0.7014214396476746, 0.3021378219127655, 0.027603324502706528, 0.7228881120681763, 0.22870416939258575, 0.1167013868689537, 0.40112799406051636, -0.5693483948707581, 0.1269189864397049, -0.8575727343559265, 0.00817396491765976, 0.45537352561950684, -0.33235788345336914, -0.04834435507655144, 0.06515401601791382, -0.16447557508945465, -0.15823915600776672, 0.3782435357570648, 0.38653507828712463, 0.13313186168670654, -0.17317602038383484, -0.408072829246521, -0.30045583844184875, 0.14705468714237213, 0.7666879296302795, 0.6269197463989258, -0.033778805285692215, 0.0029699550941586494, 0.0767776221036911, 0.2676338255405426, 0.14948967099189758, -0.18132756650447845, -0.20225608348846436, -1.461647629737854, -0.6497288942337036, 0.042661335319280624, -0.03987440839409828, 0.08351392298936844, 0.3064846098423004, -0.0727386474609375, -0.07071827352046967, -0.5961295962333679, -0.5185055136680603, 0.02342870458960533, -0.042657509446144104, -0.17549669742584229, 0.08347119390964508, 0.22107861936092377, 0.1196533665060997, -0.18335753679275513, -0.5359874963760376, 0.43901845812797546, 0.231562539935112, -0.10872364044189453, 0.08518081158399582, 0.23065321147441864, -0.07363047450780869, -0.1852831393480301, 0.15022841095924377, -0.2524805963039398, -0.2927893102169037, -0.008275819942355156, -0.40043702721595764, -0.46052998304367065, -0.6700456738471985, 0.22537773847579956, 0.09902828186750412, -0.3523203730583191, 0.701927125453949, -0.4699668288230896, -0.3993360698223114, -0.027385298162698746, 0.008749491535127163, 0.2699643075466156, 0.26090240478515625, 0.45836886763572693, -0.31158247590065, -0.27083098888397217, 0.46533825993537903, -0.18939317762851715, 0.19643373787403107, 0.14536377787590027, -0.2940405011177063, 0.07256799936294556, 0.19465267658233643, 0.27369001507759094, -0.2799651622772217, -0.11332398653030396, 0.15108470618724823, -0.03332038223743439, 0.3521355092525482, 0.5095099210739136, 0.09235886484384537, 0.018828025087714195, -0.8816311359405518, 0.029134901240468025, 0.026679443195462227, -0.2792378067970276, -0.1376180648803711, 0.632973313331604, -0.022794676944613457, 0.22498276829719543, 0.04363804683089256, 0.5524585843086243, -0.29215991497039795, -0.3775055408477783, -0.13462813198566437, 0.48126286268234253, -0.09919433295726776, 0.31193989515304565, -0.26734811067581177, -0.16101890802383423, 0.6324342489242554, 0.27270641922950745, 1.3331962823867798, -0.8736734986305237, -0.07747073471546173, -0.18082043528556824, -0.6675662994384766, -0.20397230982780457, 0.5884140133857727, 0.22044438123703003, 0.5043905973434448, 0.13708937168121338, -0.17638197541236877, 0.4629281759262085, -0.32727059721946716, 0.18250614404678345, 0.5688241124153137, 0.036731451749801636, -0.33261924982070923, -0.16752591729164124, -0.016322987154126167, 0.5198175311088562, 0.09036845713853836, -0.15694719552993774, 0.07271528989076614, 0.12412883341312408, -0.23970982432365417, 0.3335949778556824, -0.3181378245353699, 1.102683186531067, -0.08043643087148666, 0.06329801678657532, -0.4413296580314636, 0.15512843430042267, -0.11317677050828934, -0.15473566949367523, 0.20417337119579315, 0.2979975938796997, -0.4774886667728424, 0.014407205395400524, -0.5734115839004517, 0.15186701714992523, -0.6051977276802063, 1.933180332183838, 0.034058261662721634, 0.356624573469162, 0.16352789103984833, 0.023968541994690895, 0.31882789731025696, 0.561168909072876, -0.07159513235092163, -0.23115520179271698, 0.38110557198524475, -0.22705893218517303, -0.12245956063270569, -0.4884895384311676, -0.05746002122759819, 0.3525969088077545, 19.825162887573242, 0.22104226052761078, -1.7560372352600098, -1.0369768142700195, 0.34174099564552307, 0.2712151110172272, 0.32670238614082336, -0.13275587558746338, 0.21313662827014923, -0.03439316526055336, -0.009601167403161526, 0.09646324068307877, 0.00457913288846612, 0.7433902621269226, 0.366950660943985, -0.3046148419380188, -0.40949928760528564, 0.1374252438545227, 0.09893101453781128, -0.4381590783596039, -0.5509375929832458, 0.33670103549957275, 0.4187425971031189, 0.5995635390281677, -0.08878586441278458, 0.23719945549964905, 0.20689210295677185, 0.284030944108963, -0.28299158811569214, -0.06799342483282089, -0.11603694409132004, -0.5714336633682251, 0.5524376630783081, 0.20238929986953735, -0.07932677119970322, 0.06925316900014877, 0.3654768466949463, -0.27427902817726135, 0.5116845965385437, 0.29239392280578613, -0.9345647096633911, 0.35528460144996643, 0.30325591564178467, 0.21799971163272858, -0.31803059577941895, -0.21523280441761017, -0.36085253953933716, 0.4975384771823883, -0.25565850734710693, -0.9508174061775208, -0.5293180346488953, 0.2822333872318268, 0.02596457302570343, -0.2086101472377777, -0.42577120661735535, 0.23533204197883606, -0.036232661455869675, -0.18597741425037384, -0.28942281007766724, 0.38446444272994995, 0.03206139802932739, 0.3250003755092621, 0.010487978346645832, 0.22625769674777985, 0.021745743229985237, -0.32521340250968933, -0.8633333444595337, -0.6209145188331604, 0.2011067420244217, -0.07719793170690536, -0.3260031044483185, -0.21780256927013397, -0.369483083486557, 0.4250010550022125, -0.2947332262992859, 0.28449273109436035, -0.6040540933609009, -0.2981089949607849, -0.22049805521965027, -0.4669443964958191, 0.14461427927017212, -0.021453842520713806, 0.6895852088928223, 0.3982568085193634, -0.009681742638349533, -0.33248358964920044, 0.23911483585834503, -0.07054460793733597, -0.4378557801246643, 0.2280604988336563, -0.12673789262771606, 0.10313877463340759, -0.4284723103046417, 0.27422308921813965, -0.1449386477470398, -0.07343871891498566, -0.025225775316357613, 0.002197838854044676, -0.4161519706249237, 0.03286254405975342, 0.01454972568899393, 0.043264180421829224, 0.42720624804496765, -0.243035688996315, -0.1641932725906372, 0.7340054512023926, -0.08229827135801315, -0.11209888011217117, -0.012998851016163826, 0.36446306109428406, -0.03525179252028465, -0.19167406857013702, 0.9611044526100159, -0.6457560062408447, 0.2543758153915405, 0.427701860666275, -0.24051876366138458, 0.08866187185049057, -0.24384930729866028, 0.28394296765327454, 0.5133229494094849, 0.008398751728236675, -0.06241817772388458, -0.05523388460278511, -0.028255600482225418, 1.01935613155365, -0.056249428540468216, 0.21483561396598816, -0.12814494967460632, -0.01477094367146492, 0.33060625195503235, 0.250098317861557, -0.598652720451355, 0.5721908807754517, 0.39659538865089417, -0.4090123176574707, -0.10309161990880966, 0.2449413388967514, 0.05624277889728546, -0.08508732169866562, -0.19282501935958862, 0.4512760639190674, -0.5284028053283691, 0.01693512499332428, 0.05342831090092659, 0.4887539744377136, -0.2685644328594208, -0.08619721233844757, 0.11408749222755432, 0.4540083408355713, -0.021421363577246666, -0.28356292843818665, -0.5247910618782043, 0.7123579382896423, -0.1349697858095169, 0.017545554786920547, -0.04753764718770981, -0.06648602336645126, 0.14885428547859192, -0.5149280428886414, 0.1780126839876175, 0.07370084524154663, -0.6129550933837891, -0.27916380763053894, -0.03352177143096924, 0.15533192455768585, -0.11845412850379944, -0.5474556088447571, -0.2695712745189667, 0.17403694987297058, 0.07780581712722778, -0.46281328797340393, -0.6812850832939148, -0.8578748106956482, -0.4290522038936615, -0.43232807517051697, -0.2656664550304413, -0.010038775391876698, -0.5160688161849976, 0.27320754528045654, 0.18093571066856384, 0.19100916385650635, 0.6553975939750671, -0.3710949420928955, 0.14475364983081818, 0.03619159013032913, -0.4434335231781006, 0.05446375161409378, -0.320273220539093, -0.322980135679245, 0.6837148666381836, 0.017867621034383774, 0.17048180103302002, 0.018661167472600937, -0.7083938121795654, 0.34209537506103516, 0.38285261392593384, -0.04456593468785286, -0.6485950350761414, 0.5026236176490784, -0.14239923655986786, -0.40042245388031006, -0.20917078852653503, 0.19314825534820557, 0.3356711268424988, 0.28370848298072815, 0.4079507887363434, 0.5090582966804504, -0.057880252599716187, -0.004774082452058792, 0.009798641316592693, 0.16086150705814362, -0.22578084468841553, 0.43640878796577454, -0.569963276386261, 0.20666925609111786, -1.650436520576477, 0.004563416354358196, 0.16880714893341064, 0.05845137685537338, 0.02559272013604641, -0.06589994579553604, -1.3695733547210693, -0.10811728239059448, -0.07998831570148468, 0.18138420581817627, 0.04198640584945679, -0.1501733809709549, 0.2019471526145935, -0.3161364793777466, 0.3214688301086426, -0.3255603611469269, 0.1756984144449234, 0.9642655253410339, 0.30806389451026917, 0.02446908876299858, 0.3894016146659851, 0.40488678216934204, -0.3158992826938629, 0.1536758542060852, -0.2560676038265228, -0.07090014219284058, -0.3582801818847656, 0.4993065297603607, 0.2869773805141449, 0.06540632992982864, 0.06633984297513962, 0.2524570822715759, 0.09405165165662766, 0.07177736610174179, 0.15899060666561127, 0.41019153594970703, -0.1622888147830963, -0.3479725420475006, 0.0325179249048233, 0.15828509628772736, -0.47771161794662476, 0.07223421335220337, 0.2726232707500458, 0.6054184436798096, 0.2764350175857544, -0.3247164189815521, 0.17649614810943604, -0.001008374965749681, -0.9308285713195801, -0.26674318313598633, -0.018813466653227806, -0.05038093775510788, 0.27561816573143005, -0.49089694023132324, -0.0783739984035492, 0.6445056200027466, 0.5736256837844849, -0.7337923645973206, 0.2379193753004074, 0.26081520318984985, -0.3535977303981781, -0.5340753793716431, 0.8523755073547363, 0.46171319484710693, 0.08937771618366241, -0.1667853593826294, -0.2944408059120178, 0.016154911369085312, -0.5072388052940369, -0.4203563630580902, 0.16494786739349365, 0.04037873446941376, -0.6638144254684448, -0.027811730280518532, 0.09034935384988785, -0.8467373847961426, 0.0861782357096672, -0.13209013640880585, 0.23366352915763855, 0.02022802270948887, 0.4616491496562958, -0.057893626391887665, 0.21979713439941406, 0.1292598694562912, 0.4338926374912262, 0.6378788352012634, -0.1687888652086258, -0.29786959290504456, -0.3533947765827179, -0.021836336702108383, -0.6392655372619629, -0.2356569916009903, 0.13680720329284668, 0.3488018810749054, 0.6069058775901794, 0.011370214633643627, 0.508765459060669, -0.21035301685333252, 0.22139358520507812, 0.3905705213546753, 0.22509387135505676, 0.06298303604125977, 0.5852486491203308, 0.39195215702056885, -0.22815825045108795, -0.4805676341056824, -0.32869771122932434, 1.005001187324524, 0.2162499725818634, 0.2672897279262543, 0.20088690519332886, -0.45399144291877747, -0.32829365134239197, -0.5470336675643921, 0.2053292989730835, -0.15611906349658966, -0.4764757752418518, 0.8056974411010742, -0.15662971138954163, 0.2557278573513031, 0.005893291439861059, 0.07439649850130081, -0.44291582703590393, 0.0060498071834445, -0.15535610914230347, -0.18167570233345032, -0.35975098609924316, -0.08149158209562302, -0.5634910464286804, -0.015071439556777477])]\n",
      " [1\n",
      "  list([-0.25807732343673706, -0.31464385986328125, -0.08209022879600525, 0.31845468282699585, 0.1104920357465744, 0.24226245284080505, 0.4565821886062622, 0.5439284443855286, 0.3046536445617676, -0.22702549397945404, 0.7458170652389526, -0.18362115323543549, 0.12507319450378418, -0.19145667552947998, 0.13601738214492798, -0.45732611417770386, 0.3377094864845276, -0.11224911361932755, 0.10162147134542465, -0.1381261646747589, -0.3881327211856842, -0.21086905896663666, 0.20536242425441742, -0.019371725618839264, 0.5743242502212524, -0.08488518744707108, 0.16456130146980286, -0.2851807475090027, 0.062343765050172806, -0.29434922337532043, 0.27476194500923157, -0.307754248380661, -0.16572384536266327, -0.8160754442214966, 0.6866941452026367, 0.601589024066925, -0.38192665576934814, -0.047160033136606216, -0.3041081726551056, -0.14399977028369904, -0.14049731194972992, -0.18395952880382538, 0.020291011780500412, 0.23943601548671722, 0.07837240397930145, 0.2967360317707062, 0.032270826399326324, 0.2014978528022766, -0.36215412616729736, -0.10648272186517715, 0.07441350072622299, -0.16004788875579834, -0.5840234756469727, 0.18231014907360077, -0.20223000645637512, -0.35835835337638855, -0.5562852621078491, -0.5034573078155518, 0.4726165533065796, 0.2820144593715668, -0.1679389625787735, -0.1871439516544342, 0.14685292541980743, 0.5037145614624023, -0.22643661499023438, 0.05817948654294014, 0.6157227754592896, -0.375673770904541, -0.37902507185935974, 0.4423004388809204, 0.1470387578010559, 0.43482887744903564, -0.11786847561597824, -0.11712877452373505, -0.4358053505420685, 0.10262474417686462, 0.13999228179454803, 1.1457821130752563, 0.1176692470908165, -0.0912884846329689, 0.1186467856168747, 0.10594531148672104, -0.34805041551589966, -0.04856221750378609, -0.09565116465091705, -0.10109708458185196, 0.051400888711214066, 0.20287370681762695, -0.4350734353065491, -0.33646076917648315, 0.45401906967163086, -0.46334409713745117, 0.28094467520713806, -0.10608255863189697, 0.5096460580825806, 0.14217911660671234, 0.2583831250667572, -0.12297865003347397, -0.4789595603942871, 0.11571668833494186, -0.5280147194862366, 0.34254711866378784, -0.19492380321025848, 0.17210882902145386, 0.3948959708213806, 0.09588075429201126, 0.17650523781776428, 0.0891953632235527, 0.21304821968078613, 0.6106600761413574, -0.03128407150506973, -0.5102476477622986, 0.21740326285362244, -0.24017426371574402, -0.5556244254112244, -0.31166040897369385, -0.09093531966209412, 0.5771297216415405, 0.1909298151731491, 1.109763503074646, 0.04234742000699043, 0.613943874835968, -0.02781231701374054, 0.2429191768169403, 0.05827826261520386, 0.15297381579875946, 0.21470671892166138, -0.3942852318286896, 0.4251079559326172, -0.3706345558166504, -0.06819149851799011, 0.30828818678855896, -0.20286591351032257, -0.0933755487203598, 0.4509371817111969, -0.26102885603904724, 0.2448870688676834, 0.37623345851898193, -0.4959811568260193, -0.14518702030181885, -0.04547089710831642, 0.27730193734169006, 0.3862336277961731, 0.6294447779655457, 0.9227450489997864, -0.1005895733833313, -0.16815921664237976, 0.853575587272644, -0.017506485804915428, -0.11118175089359283, -0.23140721023082733, 0.5001475811004639, -0.5453798174858093, -0.1848469227552414, 0.05929446220397949, 0.0047316355630755424, -0.15265052020549774, -0.40330055356025696, -0.13254153728485107, 0.1338399350643158, 0.1929362714290619, -0.5149994492530823, -0.2198716551065445, 0.30920127034187317, -0.8022831082344055, -0.022611325606703758, -0.36992698907852173, -0.14058203995227814, 0.09562984853982925, -0.35917147994041443, 0.6973493695259094, 0.05634758248925209, 0.09841030091047287, -0.07357662916183472, 0.1849220097064972, 0.13961161673069, 0.14770659804344177, -0.3417937457561493, 0.061772771179676056, 0.8700927495956421, -0.17977756261825562, -0.17948444187641144, -0.21279282867908478, -0.7403715252876282, 0.06386610865592957, 0.035422999411821365, -0.05336630344390869, 0.29825660586357117, 0.0911395475268364, -0.34309664368629456, 0.45004647970199585, 0.4293976426124573, 0.2714368402957916, -1.222831130027771, 0.25161898136138916, -0.5423681735992432, -0.21309693157672882, -0.014993972145020962, 0.15828511118888855, -0.9031471014022827, -0.2962179481983185, 0.2335355132818222, -0.23260685801506042, -0.21006925404071808, -0.5243715643882751, -0.477456271648407, 0.22061747312545776, 0.05368119478225708, 0.35234495997428894, 0.12467154860496521, -0.8528274893760681, -0.36294907331466675, 0.32016006112098694, 0.05152490735054016, 0.02502639777958393, -0.39157646894454956, -0.2236374467611313, -0.06285049021244049, -0.6703513264656067, 0.3473617434501648, 0.32520341873168945, -0.18076832592487335, 0.21420696377754211, -0.21465295553207397, 0.13767383992671967, -0.6697298288345337, 0.1325516551733017, -0.03530452400445938, 0.19805915653705597, -0.15153507888317108, -0.4010312259197235, -0.4200313687324524, 0.12136854976415634, 0.07980580627918243, 0.3139077425003052, -1.1212644577026367, 0.4489346146583557, -0.03375248610973358, -0.1790209263563156, 0.1708357334136963, -0.6695278286933899, -0.3257479667663574, 0.654749870300293, -0.44516268372535706, -0.6966310739517212, -0.13534002006053925, -0.15853270888328552, -0.23885561525821686, -0.18893197178840637, -0.11048779636621475, -0.1551899015903473, -0.7827383279800415, 0.543042004108429, 0.29214948415756226, 0.08057675510644913, 0.36338290572166443, 0.27539995312690735, -0.3691099286079407, 0.06332460790872574, -0.24715550243854523, 0.14192959666252136, -0.38634079694747925, -0.1918865144252777, 0.6434429883956909, 0.17297948896884918, -0.06831328570842743, 0.07283639162778854, -0.13577863574028015, -0.2677376866340637, 0.025495100766420364, 0.4028001129627228, 0.014868672005832195, -0.1760018765926361, -0.7711342573165894, 0.25154823064804077, -0.03705001622438431, 1.2649763822555542, 0.568552553653717, 0.18890032172203064, 0.12754125893115997, -0.02729976549744606, 0.3489401936531067, -0.045441098511219025, -0.39964890480041504, 0.07351863384246826, -1.6162543296813965, -0.7732028961181641, 0.046015821397304535, -0.33990126848220825, 0.41436225175857544, 0.04178046062588692, 0.6715108156204224, -0.042194295674562454, -0.9023813605308533, -0.23072178661823273, -0.1493302881717682, -0.14641587436199188, -0.06636753678321838, -0.09993474930524826, 0.3390825092792511, -0.014107810333371162, 0.05436933413147926, -0.6049293875694275, 0.34823107719421387, 0.3149343729019165, 0.06092792749404907, 0.33189186453819275, 0.1430986076593399, -0.20273388922214508, 0.014334382489323616, -0.07215756922960281, -0.13486437499523163, -0.1368209421634674, -0.08299364894628525, -0.29079821705818176, -0.22179017961025238, -0.2750993072986603, 0.36903050541877747, 0.14536330103874207, -0.453202486038208, -0.26007717847824097, -0.139113187789917, -0.28981027007102966, 0.4021603465080261, 0.023134250193834305, 0.3489537537097931, -0.5924459099769592, 0.2405528575181961, -0.2998926341533661, 0.04347806051373482, 0.26343515515327454, -0.06365567445755005, -0.3389708995819092, 0.23884232342243195, 0.02355765365064144, -0.38214167952537537, -0.11498426645994186, 0.4703415632247925, -0.11397815495729446, -0.3461669683456421, -0.4115878641605377, 0.3173769414424896, 0.6151221394538879, 0.5113810300827026, -0.24947047233581543, -0.38146695494651794, -0.838194727897644, 0.6423887014389038, -0.12478658556938171, -0.22374220192432404, 0.43515241146087646, 0.40290528535842896, 0.19681398570537567, -0.3345606327056885, -0.2240530252456665, 0.5136496424674988, -0.17393489181995392, -0.6219927668571472, -0.02519926428794861, 0.22911562025547028, 0.21259714663028717, 0.3981046676635742, -0.15846553444862366, -0.2559186518192291, 0.5559196472167969, 0.2847307026386261, 1.2917805910110474, -0.9363117814064026, -0.580781102180481, -0.011368939653038979, -0.42608362436294556, 0.1028376966714859, 0.5359241366386414, 0.2477075159549713, 0.5923520922660828, 0.504954993724823, -0.03557410091161728, 0.2673787474632263, -0.2327694445848465, 0.4467647671699524, 0.10936295986175537, 0.47561484575271606, -0.2662487030029297, 0.09545119106769562, 0.11726310104131699, 0.38105508685112, 0.3498654365539551, 0.24150262773036957, -0.09143568575382233, 0.12127435207366943, 0.08399718254804611, 0.19870267808437347, -0.051060426980257034, 0.7818967700004578, 0.06808831542730331, -0.305484801530838, -0.428594172000885, 0.06671340763568878, -0.21820954978466034, -0.15455378592014313, 0.12458387762308121, 0.526618480682373, -0.21631008386611938, -0.26260271668434143, -0.5873636603355408, 0.22560086846351624, -0.6983773708343506, 1.8499759435653687, 0.4068850576877594, 0.3588055670261383, 0.368623286485672, -0.18247023224830627, 0.24332639575004578, 0.31291282176971436, -0.2198205143213272, 0.02911732718348503, 0.07487703859806061, -0.3016642928123474, 0.05989265441894531, -0.41991034150123596, -0.16109168529510498, 0.3802029490470886, 20.81659507751465, 0.31587690114974976, -2.261432647705078, -0.3695395588874817, 0.24733896553516388, 0.30244550108909607, 0.6659972071647644, -0.10395369678735733, -0.08710354566574097, 0.38612115383148193, -0.0773850530385971, -0.35654714703559875, 0.05511623993515968, 0.308054119348526, 0.48173975944519043, -0.06596653908491135, -0.22194650769233704, -0.042347315698862076, 0.044696565717458725, -0.7131704688072205, -0.19365745782852173, 0.48444047570228577, 0.338838666677475, 0.12489096820354462, -0.0361935980618, 0.28238481283187866, 0.17435692250728607, 0.15602946281433105, -0.13446936011314392, -0.10685832798480988, 0.01919291354715824, -0.7064632773399353, 0.5979192852973938, 0.24152840673923492, -0.19603517651557922, -0.200393408536911, 0.1779080182313919, -0.08468477427959442, 0.3842650055885315, 0.13358524441719055, -0.5054452419281006, -0.016737626865506172, -0.21428020298480988, 0.11526075750589371, -0.015936510637402534, 0.20560026168823242, -0.3209931552410126, 0.21496084332466125, 0.267640620470047, -0.46642860770225525, -0.4182392954826355, -0.25119179487228394, 0.1247643530368805, -0.166932612657547, -0.5568121671676636, 0.1886483132839203, 0.17905250191688538, 0.1392272412776947, -0.3392479121685028, 0.4833611249923706, -2.5726652893354185e-05, 0.7134254574775696, 0.24390044808387756, 0.22082844376564026, -0.027412008494138718, -0.345721036195755, -0.9425574541091919, -0.3337653577327728, 0.2636246979236603, -0.22798867523670197, -0.8261693120002747, -0.1182483583688736, -0.1558610498905182, 0.07544434815645218, -0.21601468324661255, -0.010402283631265163, -0.5425943732261658, -0.3979455530643463, 0.2738327980041504, -0.92570960521698, -0.2617127001285553, 0.2341628223657608, 0.742561399936676, 0.5823149681091309, 0.09519568830728531, -0.4832829236984253, 0.5380422472953796, 0.31605300307273865, -0.5193549990653992, 0.03403965383768082, 0.07009228318929672, -0.28967151045799255, -0.25734201073646545, -0.03511861339211464, -0.3334401249885559, -0.00959922093898058, -0.1012563705444336, 0.32348746061325073, -0.7178441286087036, 0.15092028677463531, -0.10733599215745926, -0.27960503101348877, 0.0941881537437439, 0.016999833285808563, -0.5073828101158142, 0.45271795988082886, -0.21253342926502228, 0.037998974323272705, 0.12364650517702103, 0.08569438755512238, 0.1338600367307663, -0.37885940074920654, 0.703679084777832, -0.4476240575313568, 0.506698727607727, -0.08735297620296478, -0.6537324786186218, 0.014128823764622211, -0.25623515248298645, -0.07229968905448914, 0.17479610443115234, -0.3992580771446228, -0.060060467571020126, -0.008695500902831554, 0.03023611567914486, 0.5786460638046265, -0.09843885153532028, 0.3199214041233063, 0.19161589443683624, 0.41860058903694153, 0.39940962195396423, 0.22457432746887207, -0.09150935709476471, 0.6729184985160828, -0.1119549497961998, 0.02354157529771328, -0.07985657453536987, 0.08734611421823502, -0.021991847082972527, -0.34277164936065674, -0.3947060704231262, 0.16630497574806213, -0.5636707544326782, -0.19288766384124756, 0.0942724198102951, 0.8896017074584961, -0.06662474572658539, 0.2130819857120514, -0.2861689329147339, 0.31032586097717285, 0.49244338274002075, -0.4997786581516266, -0.20973443984985352, 0.1423315852880478, -0.06408310681581497, 0.18904252350330353, 0.5028666853904724, -0.5829427242279053, 0.08820726722478867, -0.12689241766929626, -0.2203870713710785, 0.27365559339523315, -0.2594628930091858, -0.3598109483718872, 0.06933632493019104, -0.029927769675850868, 0.20415204763412476, -0.6803285479545593, 0.23653115332126617, 0.39346498250961304, 0.22874122858047485, -0.32977908849716187, -0.14680281281471252, -0.5197830200195312, -0.22891464829444885, -0.18237364292144775, -0.2627914845943451, -0.12766669690608978, -0.6638186573982239, 0.1741139441728592, -0.20833538472652435, -0.08833713084459305, 0.3893803656101227, 0.12975943088531494, 0.6953568458557129, 0.037212569266557693, -0.4881955683231354, -0.12822727859020233, -0.698417603969574, -0.05688711255788803, 0.5741270780563354, 0.08398272842168808, -0.029359279200434685, 0.2850310504436493, -0.21924033761024475, 0.29011741280555725, 0.3423305153846741, -0.01820819452404976, -0.18905027210712433, 0.05486338958144188, -0.24878816306591034, -0.13359922170639038, -0.38612812757492065, 0.04402530565857887, 0.23101219534873962, 0.15465028584003448, 0.3214966654777527, 0.018874064087867737, 0.27468132972717285, 0.09103108942508698, -0.12211091816425323, 0.1977614015340805, -0.30256733298301697, 0.4725937843322754, -0.5742439031600952, 0.1755363792181015, -1.6569932699203491, -0.46181952953338623, 0.3778096139431, 0.06580214947462082, -0.05249473825097084, 0.019591446965932846, -0.9439733624458313, -0.15681122243404388, 0.2445782572031021, 0.6409262418746948, -0.34192410111427307, -0.44369402527809143, -0.3616664409637451, -0.18966813385486603, -0.03726254403591156, -0.1214975044131279, 0.3098231554031372, 0.8589882254600525, 0.44403642416000366, 0.01106988824903965, 0.4951559603214264, -0.08872105181217194, -0.6125195026397705, 0.1954103261232376, -0.1338464468717575, -0.4173438251018524, -0.5913349390029907, 0.21018126606941223, 0.5093315839767456, 0.44620126485824585, 0.19098874926567078, 0.45751839876174927, 0.15947763621807098, -0.4860287308692932, 0.18791517615318298, 0.2456779032945633, -0.3344596028327942, 0.0002691246336326003, -0.3945462107658386, 0.15694183111190796, -0.27737462520599365, 0.5433087348937988, 0.13920268416404724, 0.11055219173431396, 0.3918991982936859, -0.5702326893806458, 0.1341431587934494, -0.3307848572731018, -0.8056121468544006, -0.190015509724617, 0.19338040053844452, -0.19977693259716034, 0.21360820531845093, -0.461875855922699, -0.21212993562221527, 0.4422571361064911, 0.38439515233039856, -0.6369805335998535, 0.46131911873817444, 0.12835125625133514, 0.02588026225566864, -0.5491327047348022, 0.3497549891471863, 0.07065091282129288, 0.5674271583557129, -0.26139408349990845, -0.09769485145807266, -0.27387765049934387, 0.040948741137981415, -0.3871922194957733, 0.07705394923686981, 0.3274572491645813, -0.2886406481266022, 0.06615011394023895, -0.2193831354379654, -0.4234883189201355, -0.09954233467578888, -0.17721904814243317, -0.19650529325008392, -0.11055844277143478, 0.58519047498703, -0.19565291702747345, 0.2676386833190918, -0.07743872702121735, 0.49322423338890076, 0.645207405090332, -0.042022835463285446, 0.00974760577082634, -0.4452494978904724, -0.12827886641025543, -0.22758664190769196, -0.3983674943447113, 0.14385434985160828, -0.11934366822242737, 0.1379382610321045, 0.0991167351603508, 0.3980330228805542, 0.14060290157794952, 0.20388825237751007, 0.5672911405563354, 0.29095786809921265, 0.25692734122276306, 0.3874766230583191, 0.2582276165485382, -0.22544868290424347, -0.4555763602256775, -0.215714693069458, 1.2307894229888916, -0.15859666466712952, 0.23673300445079803, 0.17808012664318085, -0.1471034735441208, -0.35026252269744873, -0.2454007863998413, -0.13115182518959045, -0.24814562499523163, -0.3499595522880554, 1.0172725915908813, 0.22887036204338074, 0.27000126242637634, 0.13950209319591522, -0.17449049651622772, -0.6196014285087585, 0.04026671126484871, -0.001938900793902576, 0.17440667748451233, 0.043789662420749664, -0.18915146589279175, -0.22753022611141205, -0.4026366174221039])]]\n"
     ]
    },
    {
     "ename": "ValueError",
     "evalue": "Unknown type: <class 'list'>",
     "output_type": "error",
     "traceback": [
      "\u001b[0;31m---------------------------------------------------------------------------\u001b[0m",
      "\u001b[0;31mValueError\u001b[0m                                Traceback (most recent call last)",
      "\u001b[0;32m<ipython-input-10-1315962fa328>\u001b[0m in \u001b[0;36m<module>\u001b[0;34m\u001b[0m\n\u001b[1;32m     13\u001b[0m       \u001b[0;34m,\u001b[0m \u001b[0mexport_df\u001b[0m\u001b[0;34m.\u001b[0m\u001b[0mvalues\u001b[0m\u001b[0;34m\u001b[0m\u001b[0;34m\u001b[0m\u001b[0m\n\u001b[1;32m     14\u001b[0m       \u001b[0;34m,\u001b[0m \u001b[0mrelation\u001b[0m\u001b[0;34m=\u001b[0m\u001b[0;34m'relation name'\u001b[0m\u001b[0;34m\u001b[0m\u001b[0;34m\u001b[0m\u001b[0m\n\u001b[0;32m---> 15\u001b[0;31m       , names=['code', 'scibert'])\n\u001b[0m",
      "\u001b[0;32m~/anaconda3/lib/python3.7/site-packages/arff/__init__.py\u001b[0m in \u001b[0;36mdump\u001b[0;34m(fname, row_iterator, relation, names)\u001b[0m\n\u001b[1;32m    319\u001b[0m     \u001b[0mw\u001b[0m \u001b[0;34m=\u001b[0m \u001b[0mWriter\u001b[0m\u001b[0;34m(\u001b[0m\u001b[0mfname\u001b[0m\u001b[0;34m,\u001b[0m \u001b[0mrelation\u001b[0m\u001b[0;34m,\u001b[0m \u001b[0mnames\u001b[0m\u001b[0;34m)\u001b[0m\u001b[0;34m\u001b[0m\u001b[0;34m\u001b[0m\u001b[0m\n\u001b[1;32m    320\u001b[0m     \u001b[0;32mfor\u001b[0m \u001b[0mrow\u001b[0m \u001b[0;32min\u001b[0m \u001b[0mrow_iterator\u001b[0m\u001b[0;34m:\u001b[0m\u001b[0;34m\u001b[0m\u001b[0;34m\u001b[0m\u001b[0m\n\u001b[0;32m--> 321\u001b[0;31m         \u001b[0mw\u001b[0m\u001b[0;34m.\u001b[0m\u001b[0mwrite\u001b[0m\u001b[0;34m(\u001b[0m\u001b[0mrow\u001b[0m\u001b[0;34m)\u001b[0m\u001b[0;34m\u001b[0m\u001b[0;34m\u001b[0m\u001b[0m\n\u001b[0m\u001b[1;32m    322\u001b[0m     \u001b[0mw\u001b[0m\u001b[0;34m.\u001b[0m\u001b[0mclose\u001b[0m\u001b[0;34m(\u001b[0m\u001b[0;34m)\u001b[0m\u001b[0;34m\u001b[0m\u001b[0;34m\u001b[0m\u001b[0m\n\u001b[1;32m    323\u001b[0m \u001b[0;34m\u001b[0m\u001b[0m\n",
      "\u001b[0;32m~/anaconda3/lib/python3.7/site-packages/arff/__init__.py\u001b[0m in \u001b[0;36mwrite\u001b[0;34m(self, row)\u001b[0m\n\u001b[1;32m    369\u001b[0m \u001b[0;34m\u001b[0m\u001b[0m\n\u001b[1;32m    370\u001b[0m     \u001b[0;32mdef\u001b[0m \u001b[0mwrite\u001b[0m\u001b[0;34m(\u001b[0m\u001b[0mself\u001b[0m\u001b[0;34m,\u001b[0m \u001b[0mrow\u001b[0m\u001b[0;34m)\u001b[0m\u001b[0;34m:\u001b[0m\u001b[0;34m\u001b[0m\u001b[0;34m\u001b[0m\u001b[0m\n\u001b[0;32m--> 371\u001b[0;31m         \u001b[0;32mfor\u001b[0m \u001b[0mline\u001b[0m \u001b[0;32min\u001b[0m \u001b[0mself\u001b[0m\u001b[0;34m.\u001b[0m\u001b[0mgenerate_lines\u001b[0m\u001b[0;34m(\u001b[0m\u001b[0mrow\u001b[0m\u001b[0;34m)\u001b[0m\u001b[0;34m:\u001b[0m\u001b[0;34m\u001b[0m\u001b[0;34m\u001b[0m\u001b[0m\n\u001b[0m\u001b[1;32m    372\u001b[0m             \u001b[0mline\u001b[0m \u001b[0;34m=\u001b[0m \u001b[0mline\u001b[0m \u001b[0;34m+\u001b[0m \u001b[0mos\u001b[0m\u001b[0;34m.\u001b[0m\u001b[0mlinesep\u001b[0m\u001b[0;34m\u001b[0m\u001b[0;34m\u001b[0m\u001b[0m\n\u001b[1;32m    373\u001b[0m             \u001b[0mself\u001b[0m\u001b[0;34m.\u001b[0m\u001b[0mfhand\u001b[0m\u001b[0;34m.\u001b[0m\u001b[0mwrite\u001b[0m\u001b[0;34m(\u001b[0m\u001b[0mline\u001b[0m\u001b[0;34m.\u001b[0m\u001b[0mencode\u001b[0m\u001b[0;34m(\u001b[0m\u001b[0;34m'utf-8'\u001b[0m\u001b[0;34m)\u001b[0m\u001b[0;34m)\u001b[0m\u001b[0;34m\u001b[0m\u001b[0;34m\u001b[0m\u001b[0m\n",
      "\u001b[0;32m~/anaconda3/lib/python3.7/site-packages/arff/__init__.py\u001b[0m in \u001b[0;36mgenerate_lines\u001b[0;34m(self, row)\u001b[0m\n\u001b[1;32m    337\u001b[0m                 \u001b[0mitem_type\u001b[0m \u001b[0;34m=\u001b[0m \u001b[0mtype\u001b[0m\u001b[0;34m(\u001b[0m\u001b[0mitem\u001b[0m\u001b[0;34m)\u001b[0m\u001b[0;34m\u001b[0m\u001b[0;34m\u001b[0m\u001b[0m\n\u001b[1;32m    338\u001b[0m                 \u001b[0;32mif\u001b[0m \u001b[0mitem_type\u001b[0m \u001b[0;32mnot\u001b[0m \u001b[0;32min\u001b[0m \u001b[0mself\u001b[0m\u001b[0;34m.\u001b[0m\u001b[0mpytypes\u001b[0m\u001b[0;34m:\u001b[0m\u001b[0;34m\u001b[0m\u001b[0;34m\u001b[0m\u001b[0m\n\u001b[0;32m--> 339\u001b[0;31m                     \u001b[0;32mraise\u001b[0m \u001b[0mValueError\u001b[0m\u001b[0;34m(\u001b[0m\u001b[0;34m\"Unknown type: %s\"\u001b[0m \u001b[0;34m%\u001b[0m \u001b[0mitem_type\u001b[0m\u001b[0;34m)\u001b[0m\u001b[0;34m\u001b[0m\u001b[0;34m\u001b[0m\u001b[0m\n\u001b[0m\u001b[1;32m    340\u001b[0m                 \u001b[0mftypes\u001b[0m\u001b[0;34m.\u001b[0m\u001b[0mappend\u001b[0m\u001b[0;34m(\u001b[0m\u001b[0mself\u001b[0m\u001b[0;34m.\u001b[0m\u001b[0mpytypes\u001b[0m\u001b[0;34m[\u001b[0m\u001b[0mitem_type\u001b[0m\u001b[0;34m]\u001b[0m\u001b[0;34m)\u001b[0m\u001b[0;34m\u001b[0m\u001b[0;34m\u001b[0m\u001b[0m\n\u001b[1;32m    341\u001b[0m             \u001b[0;32mif\u001b[0m \u001b[0mself\u001b[0m\u001b[0;34m.\u001b[0m\u001b[0mnames\u001b[0m \u001b[0;32mis\u001b[0m \u001b[0;32mNone\u001b[0m\u001b[0;34m:\u001b[0m\u001b[0;34m\u001b[0m\u001b[0;34m\u001b[0m\u001b[0m\n",
      "\u001b[0;31mValueError\u001b[0m: Unknown type: <class 'list'>"
     ]
    }
   ],
   "source": [
    "# Export to weka\n",
    "export_df = df.drop(['label', 'sentence'], axis=1)[:2500]\n",
    "\n",
    "def f(x):\n",
    "    return list(x.tolist())\n",
    "\n",
    "pd.DataFrame(df['scibert'][:2500].tolist(), index= df.index[:2500])\n",
    "\n",
    "export_df['scibert'] = pd.DataFrame(export_df['scibert'].tolist(), index= export_df.index)\n",
    "\n",
    "print(export_df.values)\n",
    "\n",
    "import arff\n",
    "arff.dump('filename.arff'\n",
    "      , export_df.values\n",
    "      , relation='relation name'\n",
    "      , names=['code', 'scibert'])"
   ]
  },
  {
   "cell_type": "code",
   "execution_count": 5,
   "metadata": {},
   "outputs": [
    {
     "data": {
      "text/html": [
       "<div>\n",
       "<style scoped>\n",
       "    .dataframe tbody tr th:only-of-type {\n",
       "        vertical-align: middle;\n",
       "    }\n",
       "\n",
       "    .dataframe tbody tr th {\n",
       "        vertical-align: top;\n",
       "    }\n",
       "\n",
       "    .dataframe thead th {\n",
       "        text-align: right;\n",
       "    }\n",
       "</style>\n",
       "<table border=\"1\" class=\"dataframe\">\n",
       "  <thead>\n",
       "    <tr style=\"text-align: right;\">\n",
       "      <th></th>\n",
       "      <th>sentence</th>\n",
       "      <th>code</th>\n",
       "      <th>scibert</th>\n",
       "    </tr>\n",
       "    <tr>\n",
       "      <th>label</th>\n",
       "      <th></th>\n",
       "      <th></th>\n",
       "      <th></th>\n",
       "    </tr>\n",
       "  </thead>\n",
       "  <tbody>\n",
       "    <tr>\n",
       "      <th>BACKGROUND</th>\n",
       "      <td>500</td>\n",
       "      <td>500</td>\n",
       "      <td>500</td>\n",
       "    </tr>\n",
       "    <tr>\n",
       "      <th>CONCLUSIONS</th>\n",
       "      <td>500</td>\n",
       "      <td>500</td>\n",
       "      <td>500</td>\n",
       "    </tr>\n",
       "    <tr>\n",
       "      <th>METHODS</th>\n",
       "      <td>500</td>\n",
       "      <td>500</td>\n",
       "      <td>500</td>\n",
       "    </tr>\n",
       "    <tr>\n",
       "      <th>OBJECTIVE</th>\n",
       "      <td>500</td>\n",
       "      <td>500</td>\n",
       "      <td>500</td>\n",
       "    </tr>\n",
       "    <tr>\n",
       "      <th>RESULTS</th>\n",
       "      <td>500</td>\n",
       "      <td>500</td>\n",
       "      <td>500</td>\n",
       "    </tr>\n",
       "  </tbody>\n",
       "</table>\n",
       "</div>"
      ],
      "text/plain": [
       "             sentence  code  scibert\n",
       "label                               \n",
       "BACKGROUND        500   500      500\n",
       "CONCLUSIONS       500   500      500\n",
       "METHODS           500   500      500\n",
       "OBJECTIVE         500   500      500\n",
       "RESULTS           500   500      500"
      ]
     },
     "execution_count": 5,
     "metadata": {},
     "output_type": "execute_result"
    }
   ],
   "source": [
    "# Sample even number from each class\n",
    "even_df = df.groupby('code').apply(lambda x: x.sample(n=500)).reset_index(drop = True)\n",
    "even_df.groupby(\"label\").count()"
   ]
  },
  {
   "cell_type": "code",
   "execution_count": 6,
   "metadata": {},
   "outputs": [
    {
     "name": "stdout",
     "output_type": "stream",
     "text": [
      "F1 Score\n",
      "0.6819527403960083\n",
      "0.654013853094385\n",
      "MCC\n",
      "0.700766156771334\n",
      "0.652233775495782\n",
      "Accuracy\n",
      "0.778\n",
      "0.733\n"
     ]
    }
   ],
   "source": [
    "from sklearn.neighbors import KNeighborsClassifier\n",
    "model = KNeighborsClassifier()\n",
    "model_even = KNeighborsClassifier()\n",
    "# Fit models\n",
    "model.fit(df['scibert'][:2500].tolist(), df['code'][:2500].tolist())\n",
    "model_even.fit(even_df['scibert'].tolist(), even_df['code'].tolist())\n",
    "# Predictions for each model\n",
    "pred = model.predict(df['scibert'][2500:3500].tolist())\n",
    "pred_even = model_even.predict(df['scibert'][2500:3500].tolist())\n",
    "# Evaluate\n",
    "print(\"F1 Score\")\n",
    "print(f1_score(df['code'][2500:3500].tolist(), pred, average=\"macro\"))\n",
    "print(f1_score(df['code'][2500:3500].tolist(), pred_even, average=\"macro\"))\n",
    "print(\"MCC\")\n",
    "print(matthews_corrcoef(df['code'][2500:3500].tolist(), pred))\n",
    "print(matthews_corrcoef(df['code'][2500:3500].tolist(), pred_even))\n",
    "print(\"Accuracy\")\n",
    "print(accuracy_score(df['code'][2500:3500].tolist(), pred))\n",
    "print(accuracy_score(df['code'][2500:3500].tolist(), pred_even))"
   ]
  },
  {
   "cell_type": "code",
   "execution_count": 7,
   "metadata": {},
   "outputs": [
    {
     "name": "stdout",
     "output_type": "stream",
     "text": [
      "F1 Score\n",
      "0.6681035538397584\n",
      "0.6709305896250097\n",
      "MCC\n",
      "0.6634952331940656\n",
      "0.6558606143364742\n",
      "Accuracy\n",
      "0.747\n",
      "0.741\n"
     ]
    }
   ],
   "source": [
    "from sklearn.naive_bayes import BernoulliNB\n",
    "model = BernoulliNB()\n",
    "model_even = BernoulliNB()\n",
    "# Fit models\n",
    "model.fit(df['scibert'][:2500].tolist(), df['code'][:2500].tolist())\n",
    "model_even.fit(even_df['scibert'].tolist(), even_df['code'].tolist())\n",
    "# Predictions for each model\n",
    "pred = model.predict(df['scibert'][2500:3500].tolist())\n",
    "pred_even = model_even.predict(df['scibert'][2500:3500].tolist())\n",
    "# Evaluate\n",
    "print(\"F1 Score\")\n",
    "print(f1_score(df['code'][2500:3500].tolist(), pred, average=\"macro\"))\n",
    "print(f1_score(df['code'][2500:3500].tolist(), pred_even, average=\"macro\"))\n",
    "print(\"MCC\")\n",
    "print(matthews_corrcoef(df['code'][2500:3500].tolist(), pred))\n",
    "print(matthews_corrcoef(df['code'][2500:3500].tolist(), pred_even))\n",
    "print(\"Accuracy\")\n",
    "print(accuracy_score(df['code'][2500:3500].tolist(), pred))\n",
    "print(accuracy_score(df['code'][2500:3500].tolist(), pred_even))"
   ]
  },
  {
   "cell_type": "code",
   "execution_count": 8,
   "metadata": {},
   "outputs": [
    {
     "name": "stdout",
     "output_type": "stream",
     "text": [
      "F1 Score\n",
      "0.6969765214942665\n",
      "0.680103550567688\n",
      "MCC\n",
      "0.6918251118653097\n",
      "0.6686883947774092\n",
      "Accuracy\n",
      "0.767\n",
      "0.75\n"
     ]
    }
   ],
   "source": [
    "from sklearn.naive_bayes import GaussianNB\n",
    "model = GaussianNB()\n",
    "model_even = GaussianNB()\n",
    "# Fit models\n",
    "model.fit(df['scibert'][:2500].tolist(), df['code'][:2500].tolist())\n",
    "model_even.fit(even_df['scibert'].tolist(), even_df['code'].tolist())\n",
    "# Predictions for each model\n",
    "pred = model.predict(df['scibert'][2500:3500].tolist())\n",
    "pred_even = model_even.predict(df['scibert'][2500:3500].tolist())\n",
    "# Evaluate\n",
    "print(\"F1 Score\")\n",
    "print(f1_score(df['code'][2500:3500].tolist(), pred, average=\"macro\"))\n",
    "print(f1_score(df['code'][2500:3500].tolist(), pred_even, average=\"macro\"))\n",
    "print(\"MCC\")\n",
    "print(matthews_corrcoef(df['code'][2500:3500].tolist(), pred))\n",
    "print(matthews_corrcoef(df['code'][2500:3500].tolist(), pred_even))\n",
    "print(\"Accuracy\")\n",
    "print(accuracy_score(df['code'][2500:3500].tolist(), pred))\n",
    "print(accuracy_score(df['code'][2500:3500].tolist(), pred_even))"
   ]
  },
  {
   "cell_type": "code",
   "execution_count": 9,
   "metadata": {},
   "outputs": [
    {
     "name": "stdout",
     "output_type": "stream",
     "text": [
      "F1 Score\n",
      "0.46094697692739006\n",
      "0.4676075892099999\n",
      "MCC\n",
      "0.4103338396416756\n",
      "0.38655254976388786\n",
      "Accuracy\n",
      "0.559\n",
      "0.525\n"
     ]
    }
   ],
   "source": [
    "from sklearn.tree import DecisionTreeClassifier\n",
    "model = DecisionTreeClassifier()\n",
    "model_even = DecisionTreeClassifier()\n",
    "# Fit models\n",
    "model.fit(df['scibert'][:2500].tolist(), df['code'][:2500].tolist())\n",
    "model_even.fit(even_df['scibert'].tolist(), even_df['code'].tolist())\n",
    "# Predictions for each model\n",
    "pred = model.predict(df['scibert'][2500:3500].tolist())\n",
    "pred_even = model_even.predict(df['scibert'][2500:3500].tolist())\n",
    "# Evaluate\n",
    "print(\"F1 Score\")\n",
    "print(f1_score(df['code'][2500:3500].tolist(), pred, average=\"macro\"))\n",
    "print(f1_score(df['code'][2500:3500].tolist(), pred_even, average=\"macro\"))\n",
    "print(\"MCC\")\n",
    "print(matthews_corrcoef(df['code'][2500:3500].tolist(), pred))\n",
    "print(matthews_corrcoef(df['code'][2500:3500].tolist(), pred_even))\n",
    "print(\"Accuracy\")\n",
    "print(accuracy_score(df['code'][2500:3500].tolist(), pred))\n",
    "print(accuracy_score(df['code'][2500:3500].tolist(), pred_even))"
   ]
  },
  {
   "cell_type": "code",
   "execution_count": 10,
   "metadata": {},
   "outputs": [
    {
     "name": "stderr",
     "output_type": "stream",
     "text": [
      "/home/connor/anaconda3/lib/python3.7/site-packages/sklearn/svm/_base.py:947: ConvergenceWarning: Liblinear failed to converge, increase the number of iterations.\n",
      "  \"the number of iterations.\", ConvergenceWarning)\n"
     ]
    },
    {
     "name": "stdout",
     "output_type": "stream",
     "text": [
      "F1 Score\n",
      "0.6931498071426793\n",
      "0.6671190236890402\n",
      "MCC\n",
      "0.7125171448205804\n",
      "0.6789894636994003\n",
      "Accuracy\n",
      "0.787\n",
      "0.758\n"
     ]
    },
    {
     "name": "stderr",
     "output_type": "stream",
     "text": [
      "/home/connor/anaconda3/lib/python3.7/site-packages/sklearn/svm/_base.py:947: ConvergenceWarning: Liblinear failed to converge, increase the number of iterations.\n",
      "  \"the number of iterations.\", ConvergenceWarning)\n"
     ]
    }
   ],
   "source": [
    "from sklearn.svm import LinearSVC\n",
    "model = LinearSVC(multi_class=\"ovr\", max_iter=1000)\n",
    "model_even = LinearSVC(multi_class=\"ovr\", max_iter=1000)\n",
    "# Fit models\n",
    "model.fit(df['scibert'][:2500].tolist(), df['code'][:2500].tolist())\n",
    "model_even.fit(even_df['scibert'].tolist(), even_df['code'].tolist())\n",
    "# Predictions for each model\n",
    "pred = model.predict(df['scibert'][2500:3500].tolist())\n",
    "pred_even = model_even.predict(df['scibert'][2500:3500].tolist())\n",
    "# Evaluate\n",
    "print(\"F1 Score\")\n",
    "print(f1_score(df['code'][2500:3500].tolist(), pred, average=\"macro\"))\n",
    "print(f1_score(df['code'][2500:3500].tolist(), pred_even, average=\"macro\"))\n",
    "print(\"MCC\")\n",
    "print(matthews_corrcoef(df['code'][2500:3500].tolist(), pred))\n",
    "print(matthews_corrcoef(df['code'][2500:3500].tolist(), pred_even))\n",
    "print(\"Accuracy\")\n",
    "print(accuracy_score(df['code'][2500:3500].tolist(), pred))\n",
    "print(accuracy_score(df['code'][2500:3500].tolist(), pred_even))"
   ]
  },
  {
   "cell_type": "code",
   "execution_count": 64,
   "metadata": {},
   "outputs": [
    {
     "name": "stdout",
     "output_type": "stream",
     "text": [
      "F1 Score\n",
      "0.742674548713269\n",
      "0.7522561109618942\n",
      "MCC\n",
      "0.7866132899786072\n",
      "[[ 89   8  12  16   2]\n",
      " [ 20 117   5   0  17]\n",
      " [  4   2 324   2   8]\n",
      " [ 31   5   7  22   1]\n",
      " [  0   5  13   0 290]]\n",
      "0.757602626006683\n",
      "Accuracy\n",
      "0.842\n",
      "0.819\n"
     ]
    }
   ],
   "source": [
    "from sklearn.svm import SVC\n",
    "model = SVC(kernel='rbf', gamma=0.02, C=2)\n",
    "# model_even = SVC()\n",
    "# Fit models\n",
    "model.fit(df['scibert'][:2500].tolist(), df['code'][:2500].tolist())\n",
    "# model_even.fit(even_df['scibert'].tolist(), even_df['code'].tolist())\n",
    "# Predictions for each model\n",
    "pred = model.predict(df['scibert'][2500:3500].tolist())\n",
    "# pred_even = model_even.predict(df['scibert'][2500:3500].tolist())\n",
    "# Evaluate\n",
    "print(\"F1 Score\")\n",
    "print(f1_score(df['code'][2500:3500].tolist(), pred, average=\"macro\"))\n",
    "print(f1_score(df['code'][2500:3500].tolist(), pred_even, average=\"macro\"))\n",
    "print(\"MCC\")\n",
    "print(matthews_corrcoef(df['code'][2500:3500].tolist(), pred))\n",
    "print(confusion_matrix(df['code'][2500:3500].tolist(), pred))\n",
    "print(matthews_corrcoef(df['code'][2500:3500].tolist(), pred_even))\n",
    "print(\"Accuracy\")\n",
    "print(accuracy_score(df['code'][2500:3500].tolist(), pred))\n",
    "print(accuracy_score(df['code'][2500:3500].tolist(), pred_even))"
   ]
  },
  {
   "cell_type": "code",
   "execution_count": null,
   "metadata": {},
   "outputs": [],
   "source": [
    "import numpy as np\n",
    "import pandas as pd\n",
    "import statsmodels.api as sm\n",
    "from sklearn.preprocessing import MinMaxScaler\n",
    "from sklearn.model_selection import train_test_split as tts\n",
    "from sklearn.metrics import accuracy_score, recall_score, precision_score\n",
    "from sklearn.utils import shuffle\n",
    "\n",
    "\n",
    "# >> FEATURE SELECTION << #\n",
    "def remove_correlated_features(X):\n",
    "    corr_threshold = 0.9\n",
    "    corr = X.corr()\n",
    "    drop_columns = np.full(corr.shape[0], False, dtype=bool)\n",
    "    for i in range(corr.shape[0]):\n",
    "        for j in range(i + 1, corr.shape[0]):\n",
    "            if corr.iloc[i, j] >= corr_threshold:\n",
    "                drop_columns[j] = True\n",
    "    columns_dropped = X.columns[drop_columns]\n",
    "    X.drop(columns_dropped, axis=1, inplace=True)\n",
    "    return columns_dropped\n",
    "\n",
    "\n",
    "def remove_less_significant_features(X, Y):\n",
    "    sl = 0.05\n",
    "    regression_ols = None\n",
    "    columns_dropped = np.array([])\n",
    "    for itr in range(0, len(X.columns)):\n",
    "        regression_ols = sm.OLS(Y, X).fit()\n",
    "        max_col = regression_ols.pvalues.idxmax()\n",
    "        max_val = regression_ols.pvalues.max()\n",
    "        if max_val > sl:\n",
    "            X.drop(max_col, axis='columns', inplace=True)\n",
    "            columns_dropped = np.append(columns_dropped, [max_col])\n",
    "        else:\n",
    "            break\n",
    "    regression_ols.summary()\n",
    "    return columns_dropped\n",
    "\n",
    "\n",
    "##############################\n",
    "\n",
    "\n",
    "# >> MODEL TRAINING << #\n",
    "def compute_cost(W, X, Y):\n",
    "    # calculate hinge loss\n",
    "    N = X.shape[0]\n",
    "    distances = 1 - Y * (np.dot(X, W))\n",
    "    distances[distances < 0] = 0  # equivalent to max(0, distance)\n",
    "    hinge_loss = regularization_strength * (np.sum(distances) / N)\n",
    "\n",
    "    # calculate cost\n",
    "    cost = 1 / 2 * np.dot(W, W) + hinge_loss\n",
    "    return cost\n",
    "\n",
    "\n",
    "# I haven't tested it but this same function should work for\n",
    "# vanilla and mini-batch gradient descent as well\n",
    "def calculate_cost_gradient(W, X_batch, Y_batch):\n",
    "    # if only one example is passed (eg. in case of SGD)\n",
    "    if type(Y_batch) == np.float64:\n",
    "        Y_batch = np.array([Y_batch])\n",
    "        X_batch = np.array([X_batch])  # gives multidimensional array\n",
    "\n",
    "    distance = 1 - (Y_batch * np.dot(X_batch, W))\n",
    "    dw = np.zeros(len(W))\n",
    "\n",
    "    for ind, d in enumerate(distance):\n",
    "        if max(0, d) == 0:\n",
    "            di = W\n",
    "        else:\n",
    "            di = W - (regularization_strength * Y_batch[ind] * X_batch[ind])\n",
    "        dw += di\n",
    "\n",
    "    dw = dw/len(Y_batch)  # average\n",
    "    return dw\n",
    "\n",
    "\n",
    "def sgd(features, outputs):\n",
    "    max_epochs = 5000\n",
    "    weights = np.zeros(features.shape[1])\n",
    "    nth = 0\n",
    "    prev_cost = float(\"inf\")\n",
    "    cost_threshold = 0.01  # in percent\n",
    "    # stochastic gradient descent\n",
    "    for epoch in range(1, max_epochs):\n",
    "        # shuffle to prevent repeating update cycles\n",
    "        X, Y = shuffle(features, outputs)\n",
    "        for ind, x in enumerate(X):\n",
    "            ascent = calculate_cost_gradient(weights, x, Y[ind])\n",
    "            weights = weights - (learning_rate * ascent)\n",
    "\n",
    "        # convergence check on 2^nth epoch\n",
    "        if epoch == 2 ** nth or epoch == max_epochs - 1:\n",
    "            cost = compute_cost(weights, features, outputs)\n",
    "            print(\"Epoch is: {} and Cost is: {}\".format(epoch, cost))\n",
    "            # stoppage criterion\n",
    "            if abs(prev_cost - cost) < cost_threshold * prev_cost:\n",
    "                return weights\n",
    "            prev_cost = cost\n",
    "            nth += 1\n",
    "    return weights\n",
    "\n",
    "\n",
    "########################\n",
    "\n",
    "\n",
    "def init():\n",
    "    diag_map = {0: 1.0, 1: -1.0, 2: -1.0, 3: -1.0, 4: -1.0}\n",
    "\n",
    "    # put features & outputs in different data frames\n",
    "    Y = pd.DataFrame(df['code'][:2500].map(diag_map))\n",
    "    X = pd.DataFrame(df['scibert'][:2500].tolist(), index= df.index[:2500])\n",
    "\n",
    "    # filter features\n",
    "    remove_correlated_features(X)\n",
    "    remove_less_significant_features(X, Y)\n",
    "\n",
    "    # normalize data for better convergence and to prevent overflow\n",
    "    X_normalized = MinMaxScaler().fit_transform(X.values)\n",
    "    X = pd.DataFrame(X_normalized)\n",
    "\n",
    "    # insert 1 in every row for intercept b\n",
    "    X.insert(loc=len(X.columns), column='intercept', value=1)\n",
    "\n",
    "    # split data into train and test set\n",
    "    print(\"splitting dataset into train and test sets...\")\n",
    "    X_train, X_test, y_train, y_test = tts(X, Y, test_size=0.2, random_state=42)\n",
    "\n",
    "    # train the model\n",
    "    print(\"training started...\")\n",
    "    W = sgd(X_train.to_numpy(), y_train.to_numpy())\n",
    "    print(\"training finished.\")\n",
    "    print(\"weights are: {}\".format(W))\n",
    "\n",
    "    # testing the model\n",
    "    print(\"testing the model...\")\n",
    "    y_train_predicted = np.array([])\n",
    "    for i in range(X_train.shape[0]):\n",
    "        yp = np.sign(np.dot(X_train.to_numpy()[i], W))\n",
    "        y_train_predicted = np.append(y_train_predicted, yp)\n",
    "\n",
    "    y_test_predicted = np.array([])\n",
    "    for i in range(X_test.shape[0]):\n",
    "        yp = np.sign(np.dot(X_test.to_numpy()[i], W))\n",
    "        y_test_predicted = np.append(y_test_predicted, yp)\n",
    "\n",
    "    print(\"accuracy on test dataset: {}\".format(accuracy_score(y_test, y_test_predicted)))\n",
    "    print(\"recall on test dataset: {}\".format(recall_score(y_test, y_test_predicted)))\n",
    "    print(\"precision on test dataset: {}\".format(recall_score(y_test, y_test_predicted)))\n",
    "\n",
    "\n",
    "# set hyper-parameters and call init\n",
    "regularization_strength = 10000\n",
    "learning_rate = 0.000001\n",
    "init()"
   ]
  },
  {
   "cell_type": "code",
   "execution_count": 22,
   "metadata": {},
   "outputs": [
    {
     "name": "stdout",
     "output_type": "stream",
     "text": [
      "F1 Score\n",
      "0.7231861816607512\n",
      "0.7153398986547954\n",
      "MCC\n",
      "0.7527761095624504\n",
      "0.7345170631965806\n",
      "Accuracy\n",
      "0.817\n",
      "0.802\n",
      "[[ 71  16   3  32   5]\n",
      " [ 16 113   3  10  17]\n",
      " [ 13   0 309   5  13]\n",
      " [ 19   6   5  35   1]\n",
      " [  1  14  18   1 274]]\n"
     ]
    }
   ],
   "source": [
    "from sklearn.linear_model import LogisticRegression\n",
    "model = LogisticRegression(multi_class=\"ovr\", max_iter=1000)\n",
    "model_even = LogisticRegression(multi_class=\"ovr\", max_iter=1000)\n",
    "# Fit models\n",
    "model.fit(df['scibert'][:2500].tolist(), df['code'][:2500].tolist())\n",
    "model_even.fit(even_df['scibert'].tolist(), even_df['code'].tolist())\n",
    "# Predictions for each model\n",
    "pred = model.predict(df['scibert'][2500:3500].tolist())\n",
    "pred_even = model_even.predict(df['scibert'][2500:3500].tolist())\n",
    "# Evaluate\n",
    "print(\"F1 Score\")\n",
    "print(f1_score(df['code'][2500:3500].tolist(), pred, average=\"macro\"))\n",
    "print(f1_score(df['code'][2500:3500].tolist(), pred_even, average=\"macro\"))\n",
    "print(\"MCC\")\n",
    "print(matthews_corrcoef(df['code'][2500:3500].tolist(), pred))\n",
    "print(matthews_corrcoef(df['code'][2500:3500].tolist(), pred_even))\n",
    "print(\"Accuracy\")\n",
    "print(accuracy_score(df['code'][2500:3500].tolist(), pred))\n",
    "print(accuracy_score(df['code'][2500:3500].tolist(), pred_even))\n",
    "print(confusion_matrix(df['code'][2500:3500].tolist(), pred_even))"
   ]
  },
  {
   "cell_type": "code",
   "execution_count": 16,
   "metadata": {},
   "outputs": [
    {
     "name": "stdout",
     "output_type": "stream",
     "text": [
      "F1 Score\n",
      "0.7058321377086436\n",
      "0.7256700391541749\n",
      "MCC\n",
      "0.7370274149726393\n",
      "0.7448034226562301\n",
      "Accuracy\n",
      "0.805\n",
      "0.809\n"
     ]
    }
   ],
   "source": [
    "from sklearn.neural_network import MLPClassifier\n",
    "model = MLPClassifier()\n",
    "model_even = MLPClassifier()\n",
    "# Fit models\n",
    "model.fit(df['scibert'][:2500].tolist(), df['code'][:2500].tolist())\n",
    "model_even.fit(even_df['scibert'].tolist(), even_df['code'].tolist())\n",
    "# Predictions for each model\n",
    "pred = model.predict(df['scibert'][2500:3500].tolist())\n",
    "pred_even = model_even.predict(df['scibert'][2500:3500].tolist())\n",
    "# Evaluate\n",
    "print(\"F1 Score\")\n",
    "print(f1_score(df['code'][2500:3500].tolist(), pred, average=\"macro\"))\n",
    "print(f1_score(df['code'][2500:3500].tolist(), pred_even, average=\"macro\"))\n",
    "print(\"MCC\")\n",
    "print(matthews_corrcoef(df['code'][2500:3500].tolist(), pred))\n",
    "print(matthews_corrcoef(df['code'][2500:3500].tolist(), pred_even))\n",
    "print(\"Accuracy\")\n",
    "print(accuracy_score(df['code'][2500:3500].tolist(), pred))\n",
    "print(accuracy_score(df['code'][2500:3500].tolist(), pred_even))"
   ]
  },
  {
   "cell_type": "code",
   "execution_count": 17,
   "metadata": {},
   "outputs": [
    {
     "name": "stdout",
     "output_type": "stream",
     "text": [
      "F1 Score\n",
      "0.6976264130136529\n",
      "0.7122919005635008\n",
      "MCC\n",
      "0.7286235564447606\n",
      "0.7298053612649003\n",
      "Accuracy\n",
      "0.798\n",
      "0.799\n"
     ]
    }
   ],
   "source": [
    "from sklearn.linear_model import Perceptron\n",
    "model = Perceptron()\n",
    "model_even = Perceptron()\n",
    "# Fit models\n",
    "model.fit(df['scibert'][:2500].tolist(), df['code'][:2500].tolist())\n",
    "model_even.fit(even_df['scibert'].tolist(), even_df['code'].tolist())\n",
    "# Predictions for each model\n",
    "pred = model.predict(df['scibert'][2500:3500].tolist())\n",
    "pred_even = model_even.predict(df['scibert'][2500:3500].tolist())\n",
    "# Evaluate\n",
    "print(\"F1 Score\")\n",
    "print(f1_score(df['code'][2500:3500].tolist(), pred, average=\"macro\"))\n",
    "print(f1_score(df['code'][2500:3500].tolist(), pred_even, average=\"macro\"))\n",
    "print(\"MCC\")\n",
    "print(matthews_corrcoef(df['code'][2500:3500].tolist(), pred))\n",
    "print(matthews_corrcoef(df['code'][2500:3500].tolist(), pred_even))\n",
    "print(\"Accuracy\")\n",
    "print(accuracy_score(df['code'][2500:3500].tolist(), pred))\n",
    "print(accuracy_score(df['code'][2500:3500].tolist(), pred_even))"
   ]
  },
  {
   "cell_type": "code",
   "execution_count": 140,
   "metadata": {},
   "outputs": [
    {
     "name": "stdout",
     "output_type": "stream",
     "text": [
      "Epoch 1/4\n",
      "79/79 [==============================] - 1s 13ms/step - loss: 0.7245 - accuracy: 0.7280 - val_loss: 0.5772 - val_accuracy: 0.8020\n",
      "Epoch 2/4\n",
      "79/79 [==============================] - 1s 8ms/step - loss: 0.4701 - accuracy: 0.8300 - val_loss: 0.5675 - val_accuracy: 0.8090\n",
      "Epoch 3/4\n",
      "79/79 [==============================] - 1s 9ms/step - loss: 0.3893 - accuracy: 0.8580 - val_loss: 0.6605 - val_accuracy: 0.7610\n",
      "Epoch 4/4\n",
      "79/79 [==============================] - 1s 11ms/step - loss: 0.3543 - accuracy: 0.8656 - val_loss: 0.5173 - val_accuracy: 0.8220\n",
      "32/32 [==============================] - 0s 3ms/step - loss: 0.5173 - accuracy: 0.8220\n",
      "\n",
      "Eval loss: 0.517, Eval accuracy: 0.822\n",
      "F1 Score\n",
      "0.7312273609053561\n",
      "MCC\n",
      "0.7599122337675305\n",
      "Accuracy\n",
      "0.822\n",
      "Confusion Matrix\n",
      "[[ 86  12   9  16   4]\n",
      " [ 21 111   5   3  19]\n",
      " [ 10   1 319   3   7]\n",
      " [ 29   5   5  26   1]\n",
      " [  0   7  21   0 280]]\n"
     ]
    }
   ],
   "source": [
    "# Tensorflow NN\n",
    "import numpy as np\n",
    "\n",
    "# Build model\n",
    "model = tf.keras.Sequential()\n",
    "\n",
    "model.add(tf.keras.layers.Dense(768, activation='relu'))\n",
    "model.add(tf.keras.layers.Dropout(0.2))\n",
    "model.add(tf.keras.layers.Dense(64, activation='relu'))\n",
    "\n",
    "# Output layer. The first argument is the number of labels.\n",
    "model.add(tf.keras.layers.Dense(5))\n",
    "\n",
    "model.compile(optimizer='adam',\n",
    "              loss=tf.keras.losses.SparseCategoricalCrossentropy(from_logits=True),\n",
    "              metrics=['accuracy'])\n",
    "\n",
    "train_em = df['scibert'][:2500]\n",
    "train_em = np.array(train_em.tolist())\n",
    "train_label = df['code'][:2500]\n",
    "train_label = np.array(train_label.tolist())\n",
    "\n",
    "test_em = df['scibert'][2500:3500]\n",
    "test_em = np.array(test_em.tolist())\n",
    "test_label = df['code'][2500:3500]\n",
    "test_label = np.array(test_label.tolist())\n",
    "\n",
    "# Fit Model\n",
    "model.fit(train_em, train_label, epochs=4, validation_data=(test_em, test_label))\n",
    "\n",
    "eval_loss, eval_acc = model.evaluate(test_em, test_label)\n",
    "print('\\nEval loss: {:.3f}, Eval accuracy: {:.3f}'.format(eval_loss, eval_acc))\n",
    "\n",
    "pred = model.predict(test_em).argmax(axis=-1)\n",
    "\n",
    "# Evaluate\n",
    "print(\"F1 Score\")\n",
    "print(f1_score(df['code'][2500:3500].tolist(), pred, average=\"macro\"))\n",
    "print(\"MCC\")\n",
    "print(matthews_corrcoef(df['code'][2500:3500].tolist(), pred))\n",
    "print(\"Accuracy\")\n",
    "print(accuracy_score(df['code'][2500:3500].tolist(), pred))\n",
    "print(\"Confusion Matrix\")\n",
    "print(confusion_matrix(df['code'][2500:3500].tolist(), pred))"
   ]
  },
  {
   "cell_type": "markdown",
   "metadata": {
    "id": "SbwN0-7LF7Bz"
   },
   "source": [
    "# Distillibert\n"
   ]
  },
  {
   "cell_type": "code",
   "execution_count": null,
   "metadata": {
    "colab": {
     "base_uri": "https://localhost:8080/",
     "height": 340
    },
    "id": "zURKzB5xGcuJ",
    "outputId": "8e07a3b4-9e9c-4db1-e8c0-6c5d918115bd"
   },
   "outputs": [],
   "source": [
    "import numpy as np\n",
    "import pandas as pd\n",
    "from sklearn.model_selection import train_test_split\n",
    "from sklearn.linear_model import LogisticRegression\n",
    "from sklearn.model_selection import GridSearchCV\n",
    "from sklearn.model_selection import cross_val_score\n",
    "import torch\n",
    "import transformers as ppb\n",
    "import warnings\n",
    "warnings.filterwarnings('ignore')"
   ]
  },
  {
   "cell_type": "code",
   "execution_count": null,
   "metadata": {
    "id": "L4puT8zYF-JC"
   },
   "outputs": [],
   "source": [
    "batch_1 = df[:256]"
   ]
  },
  {
   "cell_type": "code",
   "execution_count": null,
   "metadata": {
    "colab": {
     "base_uri": "https://localhost:8080/",
     "height": 204
    },
    "id": "bFBBCNKqGLZ6",
    "outputId": "f555513e-af6a-42ab-cd67-ae168b30ba97"
   },
   "outputs": [],
   "source": [
    "batch_1.head()"
   ]
  },
  {
   "cell_type": "code",
   "execution_count": null,
   "metadata": {
    "colab": {
     "base_uri": "https://localhost:8080/",
     "height": 119
    },
    "id": "mGqRLvAoGP1Z",
    "outputId": "573160f5-41b0-493e-a2ac-b60a14c7e430"
   },
   "outputs": [],
   "source": [
    "batch_1['code'].value_counts()"
   ]
  },
  {
   "cell_type": "code",
   "execution_count": null,
   "metadata": {
    "id": "oHXx0aNHGWgD"
   },
   "outputs": [],
   "source": [
    "# For DistilBERT:\n",
    "model_class, tokenizer_class, pretrained_weights = (ppb.DistilBertModel, ppb.DistilBertTokenizer, 'distilbert-base-uncased')\n",
    "\n",
    "## Want BERT instead of distilBERT? Uncomment the following line:\n",
    "#model_class, tokenizer_class, pretrained_weights = (ppb.BertModel, ppb.BertTokenizer, 'bert-base-uncased')\n",
    "\n",
    "# Load pretrained model/tokenizer\n",
    "tokenizer = tokenizer_class.from_pretrained(pretrained_weights)\n",
    "model = model_class.from_pretrained(pretrained_weights)"
   ]
  },
  {
   "cell_type": "code",
   "execution_count": null,
   "metadata": {},
   "outputs": [],
   "source": [
    "# For SciBert\n",
    "scibert_model = BertModel.from_pretrained(\"allenai/scibert_scivocab_uncased\",\n",
    "                                  output_hidden_states=True)\n",
    "scibert_tokenizer = BertTokenizer.from_pretrained(\"allenai/scibert_scivocab_uncased\")\n",
    "\n",
    "print('scibert_tokenizer is type:', type(scibert_tokenizer))\n",
    "print('    scibert_model is type:', type(scibert_model))"
   ]
  },
  {
   "cell_type": "code",
   "execution_count": null,
   "metadata": {
    "id": "ZNoUftJWGk3X"
   },
   "outputs": [],
   "source": [
    "tokenized = batch_1['sentence'].apply((lambda x: scibert_tokenizer.encode(x, add_special_tokens=True)))"
   ]
  },
  {
   "cell_type": "code",
   "execution_count": null,
   "metadata": {
    "id": "jUsw4RkcGqjz"
   },
   "outputs": [],
   "source": [
    "max_len = 0\n",
    "for i in tokenized.values:\n",
    "    if len(i) > max_len:\n",
    "        max_len = len(i)\n",
    "\n",
    "padded = np.array([i + [0]*(max_len-len(i)) for i in tokenized.values])"
   ]
  },
  {
   "cell_type": "code",
   "execution_count": null,
   "metadata": {
    "colab": {
     "base_uri": "https://localhost:8080/",
     "height": 34
    },
    "id": "S2p-5rpCGuBF",
    "outputId": "9343d5cc-fba7-4a3c-bf92-d999f0b5d8a3"
   },
   "outputs": [],
   "source": [
    "np.array(padded).shape"
   ]
  },
  {
   "cell_type": "code",
   "execution_count": null,
   "metadata": {
    "colab": {
     "base_uri": "https://localhost:8080/",
     "height": 34
    },
    "id": "s_QdfLjyGxE-",
    "outputId": "e52c2033-ed09-41ff-e0e9-383851a28246"
   },
   "outputs": [],
   "source": [
    "attention_mask = np.where(padded != 0, 1, 0)\n",
    "attention_mask.shape"
   ]
  },
  {
   "cell_type": "code",
   "execution_count": null,
   "metadata": {},
   "outputs": [],
   "source": [
    "cuda = torch.device('cuda')     # Default CUDA devicecuda0\n",
    "cuda0 = torch.device('cuda:0')"
   ]
  },
  {
   "cell_type": "code",
   "execution_count": null,
   "metadata": {
    "id": "YLKSC1HIGzPg"
   },
   "outputs": [],
   "source": [
    "input_ids = torch.tensor(padded)\n",
    "# input_ids = input_ids.to(cuda0)\n",
    "attention_mask = torch.tensor(attention_mask)\n",
    "# attention_mask = attention_mask.to(cuda0)"
   ]
  },
  {
   "cell_type": "code",
   "execution_count": null,
   "metadata": {},
   "outputs": [],
   "source": [
    "with torch.no_grad():\n",
    "    features = scibert_model(input_ids, attention_mask=attention_mask)[0][:,0,:].numpy()"
   ]
  },
  {
   "cell_type": "code",
   "execution_count": null,
   "metadata": {
    "id": "CG_B3isIG126"
   },
   "outputs": [],
   "source": [
    "features = last_hidden_states"
   ]
  },
  {
   "cell_type": "code",
   "execution_count": null,
   "metadata": {
    "id": "CA7QIMTtG5BX"
   },
   "outputs": [],
   "source": [
    "labels = batch_1['code']"
   ]
  },
  {
   "cell_type": "code",
   "execution_count": null,
   "metadata": {
    "id": "Eq278mmcG7wa"
   },
   "outputs": [],
   "source": [
    "train_features, test_features, train_labels, test_labels = train_test_split(features, labels)"
   ]
  },
  {
   "cell_type": "code",
   "execution_count": null,
   "metadata": {
    "colab": {
     "base_uri": "https://localhost:8080/",
     "height": 34
    },
    "id": "9t_63xgWLYzZ",
    "outputId": "49ed4263-c4ca-4713-ad09-039bdc922158"
   },
   "outputs": [],
   "source": [
    "train_features.shape"
   ]
  },
  {
   "cell_type": "code",
   "execution_count": 18,
   "metadata": {
    "colab": {
     "base_uri": "https://localhost:8080/",
     "height": 68
    },
    "id": "OX9JI2LLLxVA",
    "outputId": "be986158-3fed-4374-ce30-6d85874b030f"
   },
   "outputs": [
    {
     "data": {
      "text/plain": [
       "KNeighborsClassifier(algorithm='auto', leaf_size=30, metric='minkowski',\n",
       "                     metric_params=None, n_jobs=None, n_neighbors=5, p=2,\n",
       "                     weights='uniform')"
      ]
     },
     "execution_count": 18,
     "metadata": {},
     "output_type": "execute_result"
    }
   ],
   "source": [
    "from sklearn.neighbors import KNeighborsClassifier\n",
    "lr_clf = KNeighborsClassifier()\n",
    "lr_clf.fit(df['scibert'][:1000].tolist(), df['code'][:1000].tolist())"
   ]
  },
  {
   "cell_type": "code",
   "execution_count": 20,
   "metadata": {
    "colab": {
     "base_uri": "https://localhost:8080/",
     "height": 34
    },
    "id": "U-DZTNEoM5nv",
    "outputId": "da515d44-5854-4c1e-bf5d-d9445643c0f6"
   },
   "outputs": [
    {
     "data": {
      "text/plain": [
       "0.738"
      ]
     },
     "execution_count": 20,
     "metadata": {},
     "output_type": "execute_result"
    }
   ],
   "source": [
    "lr_clf.score(df['scibert'][1000:2000].tolist(), df['code'][1000:2000].tolist())"
   ]
  }
 ],
 "metadata": {
  "colab": {
   "collapsed_sections": [],
   "name": "Pubmed_20k_Pandas.ipynb",
   "provenance": [],
   "toc_visible": true
  },
  "kernelspec": {
   "display_name": "Python 3",
   "language": "python",
   "name": "python3"
  },
  "language_info": {
   "codemirror_mode": {
    "name": "ipython",
    "version": 3
   },
   "file_extension": ".py",
   "mimetype": "text/x-python",
   "name": "python",
   "nbconvert_exporter": "python",
   "pygments_lexer": "ipython3",
   "version": "3.7.6"
  }
 },
 "nbformat": 4,
 "nbformat_minor": 1
}
