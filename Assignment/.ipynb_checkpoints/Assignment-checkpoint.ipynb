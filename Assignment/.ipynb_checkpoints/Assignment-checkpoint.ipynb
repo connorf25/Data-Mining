{
 "cells": [
  {
   "cell_type": "code",
   "execution_count": 4,
   "metadata": {},
   "outputs": [
    {
     "name": "stderr",
     "output_type": "stream",
     "text": [
      "100%|████████████████████████████████████████████████████████████████████████████████| 245M/245M [21:49<00:00, 187kB/s]\n"
     ]
    }
   ],
   "source": [
    "import pandas as pd\n",
    "from sentence_transformers import SentenceTransformer, util\n",
    "model = SentenceTransformer('distilbert-base-nli-stsb-mean-tokens')"
   ]
  },
  {
   "cell_type": "code",
   "execution_count": 5,
   "metadata": {},
   "outputs": [
    {
     "name": "stdout",
     "output_type": "stream",
     "text": [
      "[['BACKGROUND', 'IgE sensitization to Aspergillus fumigatus and a positive sputum fungal culture result are common in patients with refractory asthma .'], ['OBJECTIVE', 'We sought to determine whether a @-month course of voriconazole improved asthma-related outcomes in patients with asthma who are IgE sensitized to A fumigatus .'], ['METHODS', 'Primary outcomes were improvement in quality of life at the end of the treatment period and a reduction in the number of severe exacerbations over the @ months of the study .'], ['RESULTS', 'Fifty-nine patients started treatment ( @ receiving voriconazole and @ receiving placebo ) and were included in an intention-to-treat analysis .'], ['RESULTS', 'Between the voriconazole and placebo groups , there were no significant differences in the number of severe exacerbations ( @ vs @ per patient per year , respectively ; mean difference , @ ; @ % CI , @-@ @ ) , quality of life ( change in Asthma Quality of Life Questionnaire score , @ vs @ ; mean difference between groups , @ ; @ % CI , -@ to -@ ) , or any of our secondary outcome measures .']]\n"
     ]
    }
   ],
   "source": [
    "# Save data from txt into list\n",
    "f = open(\"PubMed_20k_RCT_numbers_replaced_with_at_sign/dev.txt\", \"r\")\n",
    "\n",
    "list_data = []\n",
    "for x in f:\n",
    "    list_data.append(f.readline().rstrip().split(\"\\t\"))\n",
    "\n",
    "print(list_data[:5])"
   ]
  },
  {
   "cell_type": "code",
   "execution_count": 6,
   "metadata": {},
   "outputs": [
    {
     "data": {
      "text/html": [
       "<div>\n",
       "<style scoped>\n",
       "    .dataframe tbody tr th:only-of-type {\n",
       "        vertical-align: middle;\n",
       "    }\n",
       "\n",
       "    .dataframe tbody tr th {\n",
       "        vertical-align: top;\n",
       "    }\n",
       "\n",
       "    .dataframe thead th {\n",
       "        text-align: right;\n",
       "    }\n",
       "</style>\n",
       "<table border=\"1\" class=\"dataframe\">\n",
       "  <thead>\n",
       "    <tr style=\"text-align: right;\">\n",
       "      <th></th>\n",
       "      <th>label</th>\n",
       "      <th>sentence</th>\n",
       "    </tr>\n",
       "  </thead>\n",
       "  <tbody>\n",
       "    <tr>\n",
       "      <th>0</th>\n",
       "      <td>BACKGROUND</td>\n",
       "      <td>IgE sensitization to Aspergillus fumigatus and...</td>\n",
       "    </tr>\n",
       "    <tr>\n",
       "      <th>1</th>\n",
       "      <td>OBJECTIVE</td>\n",
       "      <td>We sought to determine whether a @-month cours...</td>\n",
       "    </tr>\n",
       "    <tr>\n",
       "      <th>2</th>\n",
       "      <td>METHODS</td>\n",
       "      <td>Primary outcomes were improvement in quality o...</td>\n",
       "    </tr>\n",
       "    <tr>\n",
       "      <th>3</th>\n",
       "      <td>RESULTS</td>\n",
       "      <td>Fifty-nine patients started treatment ( @ rece...</td>\n",
       "    </tr>\n",
       "    <tr>\n",
       "      <th>4</th>\n",
       "      <td>RESULTS</td>\n",
       "      <td>Between the voriconazole and placebo groups , ...</td>\n",
       "    </tr>\n",
       "    <tr>\n",
       "      <th>5</th>\n",
       "      <td></td>\n",
       "      <td>None</td>\n",
       "    </tr>\n",
       "    <tr>\n",
       "      <th>6</th>\n",
       "      <td>BACKGROUND</td>\n",
       "      <td>Opioid antagonists ( e.g. , naltrexone ) and p...</td>\n",
       "    </tr>\n",
       "    <tr>\n",
       "      <th>7</th>\n",
       "      <td>BACKGROUND</td>\n",
       "      <td>Combining naltrexone and alprazolam might safe...</td>\n",
       "    </tr>\n",
       "    <tr>\n",
       "      <th>8</th>\n",
       "      <td>METHODS</td>\n",
       "      <td>Eight nontreatment-seeking , stimulant-using i...</td>\n",
       "    </tr>\n",
       "    <tr>\n",
       "      <th>9</th>\n",
       "      <td>RESULTS</td>\n",
       "      <td>Oral d-amphetamine produced prototypical physi...</td>\n",
       "    </tr>\n",
       "    <tr>\n",
       "      <th>10</th>\n",
       "      <td>RESULTS</td>\n",
       "      <td>Naltrexone and alprazolam each significantly a...</td>\n",
       "    </tr>\n",
       "    <tr>\n",
       "      <th>11</th>\n",
       "      <td>CONCLUSIONS</td>\n",
       "      <td>The present results support the continued eval...</td>\n",
       "    </tr>\n",
       "    <tr>\n",
       "      <th>12</th>\n",
       "      <td>###24494594</td>\n",
       "      <td>None</td>\n",
       "    </tr>\n",
       "    <tr>\n",
       "      <th>13</th>\n",
       "      <td>BACKGROUND</td>\n",
       "      <td>Recently , learning theorists have focused on ...</td>\n",
       "    </tr>\n",
       "    <tr>\n",
       "      <th>14</th>\n",
       "      <td>OBJECTIVE</td>\n",
       "      <td>We tested the impact of conceptual instruction...</td>\n",
       "    </tr>\n",
       "    <tr>\n",
       "      <th>15</th>\n",
       "      <td>METHODS</td>\n",
       "      <td>We worked with @ second - and third-grade chil...</td>\n",
       "    </tr>\n",
       "    <tr>\n",
       "      <th>16</th>\n",
       "      <td>RESULTS</td>\n",
       "      <td>Providing conceptual instruction first resulte...</td>\n",
       "    </tr>\n",
       "    <tr>\n",
       "      <th>17</th>\n",
       "      <td>CONCLUSIONS</td>\n",
       "      <td>Providing conceptual instruction prior to prob...</td>\n",
       "    </tr>\n",
       "    <tr>\n",
       "      <th>18</th>\n",
       "      <td></td>\n",
       "      <td>None</td>\n",
       "    </tr>\n",
       "    <tr>\n",
       "      <th>19</th>\n",
       "      <td>BACKGROUND</td>\n",
       "      <td>Patient adherence to appointments is key to im...</td>\n",
       "    </tr>\n",
       "  </tbody>\n",
       "</table>\n",
       "</div>"
      ],
      "text/plain": [
       "          label                                           sentence\n",
       "0    BACKGROUND  IgE sensitization to Aspergillus fumigatus and...\n",
       "1     OBJECTIVE  We sought to determine whether a @-month cours...\n",
       "2       METHODS  Primary outcomes were improvement in quality o...\n",
       "3       RESULTS  Fifty-nine patients started treatment ( @ rece...\n",
       "4       RESULTS  Between the voriconazole and placebo groups , ...\n",
       "5                                                             None\n",
       "6    BACKGROUND  Opioid antagonists ( e.g. , naltrexone ) and p...\n",
       "7    BACKGROUND  Combining naltrexone and alprazolam might safe...\n",
       "8       METHODS  Eight nontreatment-seeking , stimulant-using i...\n",
       "9       RESULTS  Oral d-amphetamine produced prototypical physi...\n",
       "10      RESULTS  Naltrexone and alprazolam each significantly a...\n",
       "11  CONCLUSIONS  The present results support the continued eval...\n",
       "12  ###24494594                                               None\n",
       "13   BACKGROUND  Recently , learning theorists have focused on ...\n",
       "14    OBJECTIVE  We tested the impact of conceptual instruction...\n",
       "15      METHODS  We worked with @ second - and third-grade chil...\n",
       "16      RESULTS  Providing conceptual instruction first resulte...\n",
       "17  CONCLUSIONS  Providing conceptual instruction prior to prob...\n",
       "18                                                            None\n",
       "19   BACKGROUND  Patient adherence to appointments is key to im..."
      ]
     },
     "execution_count": 6,
     "metadata": {},
     "output_type": "execute_result"
    }
   ],
   "source": [
    "# Load list into dataframe\n",
    "column_names = ['label', \"sentence\"]\n",
    "df = pd.DataFrame(list_data, columns= column_names)\n",
    "df.head(20)"
   ]
  },
  {
   "cell_type": "code",
   "execution_count": 7,
   "metadata": {},
   "outputs": [
    {
     "data": {
      "text/plain": [
       "label          0\n",
       "sentence    2500\n",
       "dtype: int64"
      ]
     },
     "execution_count": 7,
     "metadata": {},
     "output_type": "execute_result"
    }
   ],
   "source": [
    "# Count all null values\n",
    "df.isna().sum()"
   ]
  },
  {
   "cell_type": "code",
   "execution_count": 48,
   "metadata": {},
   "outputs": [
    {
     "data": {
      "text/plain": [
       "label       0\n",
       "sentence    0\n",
       "dtype: int64"
      ]
     },
     "execution_count": 48,
     "metadata": {},
     "output_type": "execute_result"
    }
   ],
   "source": [
    "# Drop any null values and reset index\n",
    "df = df.dropna().reset_index(drop=True)\n",
    "df.isna().sum()"
   ]
  },
  {
   "cell_type": "code",
   "execution_count": 9,
   "metadata": {},
   "outputs": [
    {
     "data": {
      "text/html": [
       "<div>\n",
       "<style scoped>\n",
       "    .dataframe tbody tr th:only-of-type {\n",
       "        vertical-align: middle;\n",
       "    }\n",
       "\n",
       "    .dataframe tbody tr th {\n",
       "        vertical-align: top;\n",
       "    }\n",
       "\n",
       "    .dataframe thead th {\n",
       "        text-align: right;\n",
       "    }\n",
       "</style>\n",
       "<table border=\"1\" class=\"dataframe\">\n",
       "  <thead>\n",
       "    <tr style=\"text-align: right;\">\n",
       "      <th></th>\n",
       "      <th>sentence</th>\n",
       "    </tr>\n",
       "    <tr>\n",
       "      <th>label</th>\n",
       "      <th></th>\n",
       "    </tr>\n",
       "  </thead>\n",
       "  <tbody>\n",
       "    <tr>\n",
       "      <th>BACKGROUND</th>\n",
       "      <td>1719</td>\n",
       "    </tr>\n",
       "    <tr>\n",
       "      <th>CONCLUSIONS</th>\n",
       "      <td>2306</td>\n",
       "    </tr>\n",
       "    <tr>\n",
       "      <th>METHODS</th>\n",
       "      <td>4982</td>\n",
       "    </tr>\n",
       "    <tr>\n",
       "      <th>OBJECTIVE</th>\n",
       "      <td>1177</td>\n",
       "    </tr>\n",
       "    <tr>\n",
       "      <th>RESULTS</th>\n",
       "      <td>4922</td>\n",
       "    </tr>\n",
       "  </tbody>\n",
       "</table>\n",
       "</div>"
      ],
      "text/plain": [
       "             sentence\n",
       "label                \n",
       "BACKGROUND       1719\n",
       "CONCLUSIONS      2306\n",
       "METHODS          4982\n",
       "OBJECTIVE        1177\n",
       "RESULTS          4922"
      ]
     },
     "execution_count": 9,
     "metadata": {},
     "output_type": "execute_result"
    }
   ],
   "source": [
    "df.groupby('label').count()"
   ]
  },
  {
   "cell_type": "code",
   "execution_count": 23,
   "metadata": {},
   "outputs": [
    {
     "data": {
      "text/plain": [
       "132"
      ]
     },
     "execution_count": 23,
     "metadata": {},
     "output_type": "execute_result"
    }
   ],
   "source": [
    "# Detect duplicates\n",
    "df.duplicated().sum()"
   ]
  },
  {
   "cell_type": "code",
   "execution_count": 68,
   "metadata": {},
   "outputs": [],
   "source": [
    "sentence_embeddings = model.encode(df.sentence.tolist()[:200])"
   ]
  },
  {
   "cell_type": "code",
   "execution_count": 69,
   "metadata": {},
   "outputs": [
    {
     "data": {
      "image/png": "[encoded data removed]",
      "text/plain": [
       "<Figure size 1080x576 with 1 Axes>"
      ]
     },
     "metadata": {},
     "output_type": "display_data"
    }
   ],
   "source": [
    "import matplotlib.pyplot as plt\n",
    "\n",
    "from sklearn.decomposition import PCA as sklearnPCA\n",
    "\n",
    "plt.figure(figsize=(15,8))\n",
    "\n",
    "x = sentence_embeddings\n",
    "y = df.label.head(200)\n",
    "x_norm = (x-x.min())/(x.max()-x.min())\n",
    "\n",
    "pca = sklearnPCA(n_components=2)\n",
    "transformed = pd.DataFrame(pca.fit_transform(x_norm))\n",
    "\n",
    "plt.scatter(transformed[y==\"BACKGROUND\"].iloc[:,0], transformed[y==\"BACKGROUND\"].iloc[:,1], label=\"Background\", c=\"red\")\n",
    "plt.scatter(transformed[y==\"OBJECTIVE\"].iloc[:,0], transformed[y==\"OBJECTIVE\"].iloc[:,1], label=\"Objective\", c=\"blue\")\n",
    "plt.scatter(transformed[y==\"METHODS\"].iloc[:,0], transformed[y==\"METHODS\"].iloc[:,1], label=\"Methods\", c=\"lightgreen\")\n",
    "plt.scatter(transformed[y==\"RESULTS\"].iloc[:,0], transformed[y==\"RESULTS\"].iloc[:,1], label=\"Results\", c=\"purple\")\n",
    "plt.scatter(transformed[y==\"CONCLUSIONS\"].iloc[:,0], transformed[y==\"CONCLUSIONS\"].iloc[:,1], label=\"Conclusions\", c=\"orange\")\n",
    "\n",
    "plt.legend()\n",
    "\n",
    "plt.show()"
   ]
  },
  {
   "cell_type": "code",
   "execution_count": 70,
   "metadata": {},
   "outputs": [
    {
     "name": "stdout",
     "output_type": "stream",
     "text": [
      "Max Sequence Length: 128\n"
     ]
    }
   ],
   "source": [
    "print(\"Max Sequence Length:\", model.max_seq_length)"
   ]
  }
 ],
 "metadata": {
  "kernelspec": {
   "display_name": "Python 3",
   "language": "python",
   "name": "python3"
  },
  "language_info": {
   "codemirror_mode": {
    "name": "ipython",
    "version": 3
   },
   "file_extension": ".py",
   "mimetype": "text/x-python",
   "name": "python",
   "nbconvert_exporter": "python",
   "pygments_lexer": "ipython3",
   "version": "3.6.5"
  }
 },
 "nbformat": 4,
 "nbformat_minor": 2
}
