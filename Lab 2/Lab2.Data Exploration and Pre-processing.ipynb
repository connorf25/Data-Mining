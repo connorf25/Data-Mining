{
 "cells": [
  {
   "cell_type": "markdown",
   "metadata": {},
   "source": [
    "<center><font size=\"10\">3804ICT Data Mining</font></center> <br>\n",
    "<center><font size=\"8\">Workshop/Lab Week 2</font></center> <br><br>\n",
    "<center><font size=\"6\">by Dr Can Wang</font></center> <br><br>\n",
    "<center><font size=\"6\">Gold Coast Campus</font></center> <br>\n",
    "<center><font size=\"6\">Trimester 2, 2020</font></center> <br>"
   ]
  },
  {
   "cell_type": "markdown",
   "metadata": {},
   "source": [
    "# Activity Set 1: Find solutions to the following problems [<font color=red>Individual Activity</font>]\n",
    "## 1. Data Exploration\n",
    "### Question Set 1 (20 mins)\n",
    "<p>Suppose that the data for analysis includes the attribute age. The age values for the data tuples are (in increasing order) (13, 15, 16, 16, 19, 20, 20, 21, 22, 22, 25, 25, 25, 25, 30, 33, 33, 35, 35, 35, 35, 36, 40, 45, 46, 52, 70). Given the data, answer the following questions:<br>\n",
    "<ol>\n",
    "    <li>What is the mean of the data? What is the median? What is the variance? (5 mins)</li><br>\n",
    "    <li>Can you find the first quartile (Q1) and the third quartile (Q3) of the data? (3 mins)</li><br>\n",
    "    <li>Give the five-number summary of the data. (2 mins)</li><br>\n",
    "    <li>Please use Python with neccessary libraries to validate your results of (1), (2), and (3) below. Also, use \"matplotlib\" to draw a box plot of the age data. (10 mins)</li><br>\n",
    "</ol>\n",
    "</p>"
   ]
  },
  {
   "cell_type": "code",
   "execution_count": 14,
   "metadata": {},
   "outputs": [
    {
     "data": {
      "text/html": [
       "<div>\n",
       "<style scoped>\n",
       "    .dataframe tbody tr th:only-of-type {\n",
       "        vertical-align: middle;\n",
       "    }\n",
       "\n",
       "    .dataframe tbody tr th {\n",
       "        vertical-align: top;\n",
       "    }\n",
       "\n",
       "    .dataframe thead th {\n",
       "        text-align: right;\n",
       "    }\n",
       "</style>\n",
       "<table border=\"1\" class=\"dataframe\">\n",
       "  <thead>\n",
       "    <tr style=\"text-align: right;\">\n",
       "      <th></th>\n",
       "      <th>age</th>\n",
       "    </tr>\n",
       "  </thead>\n",
       "  <tbody>\n",
       "    <tr>\n",
       "      <th>0</th>\n",
       "      <td>13</td>\n",
       "    </tr>\n",
       "    <tr>\n",
       "      <th>1</th>\n",
       "      <td>15</td>\n",
       "    </tr>\n",
       "    <tr>\n",
       "      <th>2</th>\n",
       "      <td>16</td>\n",
       "    </tr>\n",
       "    <tr>\n",
       "      <th>3</th>\n",
       "      <td>16</td>\n",
       "    </tr>\n",
       "    <tr>\n",
       "      <th>4</th>\n",
       "      <td>19</td>\n",
       "    </tr>\n",
       "  </tbody>\n",
       "</table>\n",
       "</div>"
      ],
      "text/plain": [
       "   age\n",
       "0   13\n",
       "1   15\n",
       "2   16\n",
       "3   16\n",
       "4   19"
      ]
     },
     "execution_count": 14,
     "metadata": {},
     "output_type": "execute_result"
    }
   ],
   "source": [
    "# import neccessary libs and load the age data in this code cell\n",
    "import pandas as pd\n",
    "import matplotlib.pyplot as plt\n",
    "df = pd.DataFrame({\"age\": [13, 15, 16, 16, 19, 20, 20, 21, 22, 22, 25, 25, 25, 25, 30, 33, 33, 35, 35, 35, 35, 36, 40, 45, 46, 52, 70]})\n",
    "df.head()"
   ]
  },
  {
   "cell_type": "code",
   "execution_count": 7,
   "metadata": {},
   "outputs": [
    {
     "name": "stdout",
     "output_type": "stream",
     "text": [
      "age    29.962963\n",
      "dtype: float64\n",
      "age    25.0\n",
      "dtype: float64\n",
      "age    167.498575\n",
      "dtype: float64\n"
     ]
    }
   ],
   "source": [
    "# calculate mean, median, variance values of data  in this code cell\n",
    "print(df.mean())\n",
    "print(df.median())\n",
    "print(df.var())"
   ]
  },
  {
   "cell_type": "code",
   "execution_count": 9,
   "metadata": {},
   "outputs": [
    {
     "data": {
      "text/html": [
       "<div>\n",
       "<style scoped>\n",
       "    .dataframe tbody tr th:only-of-type {\n",
       "        vertical-align: middle;\n",
       "    }\n",
       "\n",
       "    .dataframe tbody tr th {\n",
       "        vertical-align: top;\n",
       "    }\n",
       "\n",
       "    .dataframe thead th {\n",
       "        text-align: right;\n",
       "    }\n",
       "</style>\n",
       "<table border=\"1\" class=\"dataframe\">\n",
       "  <thead>\n",
       "    <tr style=\"text-align: right;\">\n",
       "      <th></th>\n",
       "      <th>age</th>\n",
       "    </tr>\n",
       "  </thead>\n",
       "  <tbody>\n",
       "    <tr>\n",
       "      <th>0.00</th>\n",
       "      <td>13.0</td>\n",
       "    </tr>\n",
       "    <tr>\n",
       "      <th>0.25</th>\n",
       "      <td>20.5</td>\n",
       "    </tr>\n",
       "    <tr>\n",
       "      <th>0.50</th>\n",
       "      <td>25.0</td>\n",
       "    </tr>\n",
       "    <tr>\n",
       "      <th>0.75</th>\n",
       "      <td>35.0</td>\n",
       "    </tr>\n",
       "    <tr>\n",
       "      <th>1.00</th>\n",
       "      <td>70.0</td>\n",
       "    </tr>\n",
       "  </tbody>\n",
       "</table>\n",
       "</div>"
      ],
      "text/plain": [
       "       age\n",
       "0.00  13.0\n",
       "0.25  20.5\n",
       "0.50  25.0\n",
       "0.75  35.0\n",
       "1.00  70.0"
      ]
     },
     "execution_count": 9,
     "metadata": {},
     "output_type": "execute_result"
    }
   ],
   "source": [
    "# calculate Q1, Q2, Q3, and display the five-number summary of the data in this code cell\n",
    "df.quantile([0,0.25,0.5,0.75,1])"
   ]
  },
  {
   "cell_type": "code",
   "execution_count": 15,
   "metadata": {},
   "outputs": [
    {
     "data": {
      "image/png": "[encoded data removed]",
      "text/plain": [
       "<Figure size 432x288 with 1 Axes>"
      ]
     },
     "metadata": {
      "needs_background": "light"
     },
     "output_type": "display_data"
    }
   ],
   "source": [
    "# use matplotlib to draw a plot box of the given data in this cell.\n",
    "# more details of the drawing method can be found here:\n",
    "# Documentation: https://matplotlib.org/api/_as_gen/matplotlib.pyplot.boxplot.html?highlight=boxplot#matplotlib.pyplot.boxplot\n",
    "# Example: https://matplotlib.org/gallery/statistics/boxplot_demo.html\n",
    "df.boxplot()\n",
    "plt.show()"
   ]
  },
  {
   "cell_type": "markdown",
   "metadata": {},
   "source": [
    "### Question Set 2 (20 mins)\n",
    "<p>Review the calculation method of approximated median in lecture slides (pages 10-11) and try to answer the following questions:<br>\n",
    "<ol>\n",
    "    <li>Why we need to approximately calculate median value of data? (2 mins)</li><br>\n",
    "    Because sorting data is computationally expensive for large data sets<br><br>\n",
    "    <li>Given the age data in <b>Question Set 1</b>, please calculate the approximated median value. (12 mins)<br>\n",
    "        NOTE: age data can be divided into three intervals: a). $\\leq 20$, b). $[21,30]$ c). $\\geq 31$</li><br>\n",
    "    <li>Compare the approximated median with the real median. (1 mins)</li><br>\n",
    "    <li>Draw a histogram of age data with different number of bins. (5 mins)</li>\n",
    "</ol>\n",
    "</p>\n",
    "\n",
    "<table width=\"20%\">\n",
    "    <tr><th>Range</th><th>Freq</th></tr>\n",
    "    <tr><th>$\\leq 20$</th><th>7</th></tr>\n",
    "    <tr><th>$[21,30]$</th><th>8</th></tr>\n",
    "    <tr><th>$\\geq 31$</th><th>13</th></tr>\n",
    "</table>\n",
    "\n",
    "Approx median = 21+(((27/2)-7)/8)*9<br>\n",
    "Approx median = 28.3125"
   ]
  },
  {
   "cell_type": "code",
   "execution_count": 21,
   "metadata": {},
   "outputs": [
    {
     "data": {
      "image/png": "[encoded data removed]",
      "text/plain": [
       "<Figure size 432x288 with 1 Axes>"
      ]
     },
     "metadata": {
      "needs_background": "light"
     },
     "output_type": "display_data"
    }
   ],
   "source": [
    "# use matplotlib to draw a histogram of the age data, and try to use different number of bins.\n",
    "# documentation: https://matplotlib.org/api/_as_gen/matplotlib.pyplot.hist.html\n",
    "# example: https://matplotlib.org/1.2.1/examples/pylab_examples/histogram_demo.html\n",
    "df.hist(bins=15)\n",
    "plt.show()"
   ]
  },
  {
   "cell_type": "markdown",
   "metadata": {},
   "source": [
    "### Question Set 3 (20 mins)\n",
    "<p>Review the measurements dissimilarity and similarity in lecture sides (pages 34-39) and try to answer the following questions:\n",
    "<br>\n",
    "<ol>\n",
    "    <li>Briefly describe what are similarity and dissimilarity between objects? (3 mins)</li>\n",
    "    Simularity is how well the variables in two objects match each other while dissimularity is the opposite<br><br>\n",
    "    <li>How to represent similarity/dissimilarity among $n$ data objects? Please describe the characteristics of the representation. (3 mins)</li>\n",
    "    A data matrix can be used to represent sim/dis between $n$ data objects. This matrix will be nxn in size and the diagonal will often be 0/1 while the matrix is also mirrored/symetrical along the diagonal<br><br>\n",
    "    <li>Give three data objects in the following table, each of which only has categorical features, calculate the dissimilarity between these objects. (5 mins) <br>\n",
    "    <table style=\"width:80%\">\n",
    "      <tr><th>student_id</th><th>gender</th><th>living_region</th><th>degree</th><th>major</th><th>country</th><th>scholarship</th><th>tutor</th><th>current_yea</th></tr>      \n",
    "      <tr><th>1001</th><th>M</th><th>A</th><th>bachelor</th><th>it</th><th>domestic</th><th>Y</th><th>N</th><th>1</th></tr>\n",
    "<tr><th>1002</th><th>F</th><th>B</th><th>bachelor</th><th>arts</th><th>international</th><th>Y</th><th>Y</th><th>3</th></tr>\n",
    "      <tr><th>1003</th><th>F</th><th>A</th><th>master</th><th>engineering</th><th>domestic</th><th>Y</th><th>Y</th><th>1</th></tr>\n",
    "      <tr><th>1004</th><th>M</th><th>C</th><th>master</th><th>it</th><th>domestic</th><th>Y</th><th>N</th><th>2</th></tr>\n",
    "    </table>    \n",
    "    Tips: calculate dis(1001,1002), dis(1001,1003), dis(1001,1004), dis(1002,1003), dis(1002,1004), dis(1003,1004) using <b>simple match</b> method.</li><br>\n",
    "    dis(1001,1002)=6/8<br><br>\n",
    "    <li>Given two objects represented by the tuples (22, 1, 42, 10) and (20, 0, 36, 8), compute both the Euclidean distance and Manhattan distance between the two objects. (4 mins)</li><br>\n",
    "    Manhattan=2+1+6+2=11<br>\n",
    "    Euclidean=sqrt(4+1+36+4)=6.7082<br><br>\n",
    "    <li>Given five data objects in the following table, find out the neareast point in the table to the new data point $x=(1.4,1.6)$ using Euclidean distance and Manhattan distance, respectively. (5 mins)\n",
    "    <table style=\"width:40%;border: 1px solid black;\">\n",
    "        <tr><th>data</th><th>$A_1$</th><th>$A_2$</th></tr>\n",
    "        <tr><th>$x_1$</th><th>1.5</th><th>1.7</th></tr>\n",
    "        <tr><th>$x_2$</th><th>2</th><th>1.9</th></tr>\n",
    "        <tr><th>$x_3$</th><th>1.6</th><th>1.8</th></tr>\n",
    "        <tr><th>$x_4$</th><th>1.2</th><th>1.5</th></tr>\n",
    "        <tr><th>$x_5$</th><th>1.5</th><th>1.0</th></tr>\n",
    "    </table> \n",
    "    </li><br>\n",
    "</ol>\n",
    "</p>"
   ]
  },
  {
   "cell_type": "markdown",
   "metadata": {},
   "source": [
    "## 2. Data Pre-processing"
   ]
  },
  {
   "cell_type": "markdown",
   "metadata": {},
   "source": [
    "### Question Set 4 (40 mins)\n",
    "Review the Data Pre-processing in lecture sides (pages 42-74) and try to answer the following questions: \n",
    "<ol>\n",
    "    <li>What are the major tasks in Data Pre-processing? (2 mins)</li><br>\n",
    "    <li>In real-world data, data with missing values for some attributes is a common occurrence. Describe possible reasons and various methods for handling this problem. (2 mins)</li><br>\n",
    "    <li>Given the age data in <b>Question Set 1</b> (13, 15, 16, 16, 19, 20, 20, 21, 22, 22, 25, 25, 25, 25, 30, 33, 33, 35, 35, 35, 35, 36, 40, 45, 46, 52, 70), please use smoothing by bin means to pre-process the data, using a bin depth of 3. Illustrate your steps. Comment on the effect of this technique for the given data and describe what other methods are available for data smoothing. (10 mins)</li><br>  \n",
    "    <li>Discuss issues to consider during data integration. (2 mins)</li><br> \n",
    "    <li>Describe the strategies of data reduction. (4 mins)</li><br>    \n",
    "    <li>What are the value ranges of the following normalization methods? (5 mins)</li>\n",
    "     <ul>\n",
    "        <li>min-max normalization</li>\n",
    "        <li>z-score normalization</li>      \n",
    "    </ul> <br>\n",
    "    <li>Given the age data in <b>Question Set 1</b> (13, 15, 16, 16, 19, 20, 20, 21, 22, 22, 25, 25, 25, 25, 30, 33, 33, 35, 35, 35, 35, 36, 40, 45, 46, 52, 70), please normalize the data with min-max normalization method. (5 mins)</li><br>\n",
    "    <li>Use z-score normalization to transform the value 35 for age, where the age mean 29.96 is and standard deviation of age is 12.94 years. (2 mins)</li><br>\n",
    "    <li>Suppose a group of 12 sales price records has been sorted as follows: (5,10,11,13,15,35,50,55,72,92,204,215). Partition them into three bins by equal-width and equal-depth partitioning methods. (8 mins)</li>\n",
    "</ol>\n",
    "\n"
   ]
  },
  {
   "cell_type": "markdown",
   "metadata": {},
   "source": [
    "# Activity Set 2: Coding Practice (extras for homework) [<font color=red>Individual Activity</font>]"
   ]
  },
  {
   "cell_type": "markdown",
   "metadata": {},
   "source": [
    "You need to code to address the following problems:\n",
    "<ol>\n",
    "    <li>Load raw_bank_data.csv dataset.</li>\n",
    "    <li>Check what types of attributes are available in the data?</li>\n",
    "    <li>Check statistical information of numerical attributes.</li>\n",
    "    <li>Check if there are missing data and noise for attributes.</li>\n",
    "    <li>Choose mean or median values to fill the missing data.</li>\n",
    "    <li>Drop those data records whose last column (\"y\") is missing.</li> \n",
    "    <li>Need to drop two columns \"day\" and \"month\".</li>\n",
    "    <li>Normalize the categorical features using one-hot method.</li>\n",
    "    <li>Use K-NN as a classifier to predict if the custom is going to have a deposit.</li>\n",
    "    <li>Normalize the data using min-max scaler and than perform the K-NN above again.</li>     \n",
    "</ol>"
   ]
  }
 ],
 "metadata": {
  "kernelspec": {
   "display_name": "Python 3",
   "language": "python",
   "name": "python3"
  },
  "language_info": {
   "codemirror_mode": {
    "name": "ipython",
    "version": 3
   },
   "file_extension": ".py",
   "mimetype": "text/x-python",
   "name": "python",
   "nbconvert_exporter": "python",
   "pygments_lexer": "ipython3",
   "version": "3.6.5"
  }
 },
 "nbformat": 4,
 "nbformat_minor": 2
}
